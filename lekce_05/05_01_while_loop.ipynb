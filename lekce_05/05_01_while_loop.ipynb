{
 "cells": [
  {
   "cell_type": "markdown",
   "id": "e75e6426",
   "metadata": {},
   "source": [
    "## 1. Připomenutí `for` smyčky\n",
    "\n",
    "### Úloha:\n",
    "\n",
    "> Máme seznam vět. Vaším úkolem je:\n",
    "> \n",
    "> - projít každou větu,\n",
    ">     \n",
    "> - spočítat, kolik slov obsahuje,\n",
    ">     \n",
    "> - vypsat informaci ve formátu:  \n",
    ">     `\"Věta č. 1 obsahuje 4 slova.\"`\n",
    ">     \n"
   ]
  },
  {
   "cell_type": "markdown",
   "id": "551d214d",
   "metadata": {},
   "source": [
    "### Pseudokód:\n"
   ]
  },
  {
   "cell_type": "markdown",
   "id": "fd6cb6bf",
   "metadata": {},
   "source": [
    "1. Vezměte seznam vět.\n",
    "2. Pro každou větu v seznamu:<br/>\n",
    "   a. Rozdělte větu na jednotlivá slova.  \n",
    "   b. Spočítejte, kolik slov věta obsahuje.  \n",
    "   c. Vytiskněte informaci: \"Věta č. X obsahuje Y slov.\"\n"
   ]
  },
  {
   "cell_type": "markdown",
   "id": "9ee9fdff",
   "metadata": {},
   "source": [
    "✅ Řešení:"
   ]
  },
  {
   "cell_type": "code",
   "execution_count": null,
   "id": "18533785",
   "metadata": {},
   "outputs": [],
   "source": [
    "vety = [\n",
    "    \"Python je skvělý.\",\n",
    "    \"Učíme se pracovat se smyčkami.\",\n",
    "    \"For smyčka je vhodná pro procházení seznamů.\"\n",
    "]\n",
    "\n",
    "for index, veta in enumerate(vety, start=1):\n",
    "    slova = veta.split()\n",
    "    pocet_slov = len(slova)\n",
    "    print(f\"Věta č. {index} obsahuje {pocet_slov} slov.\")"
   ]
  },
  {
   "cell_type": "markdown",
   "id": "d26b7d3e",
   "metadata": {},
   "source": [
    "### Vysvětlení:\n",
    "\n",
    "- `enumerate()` nám pomáhá očíslovat každou větu.\n",
    "    \n",
    "- `split()` rozdělí větu podle mezer na jednotlivá slova.\n",
    "    \n",
    "- `len()` spočítá počet slov.\n",
    "    \n",
    "- To všechno zvládneme díky `for` – **protože víme, kolik vět máme**, můžeme je projet jednu po druhé."
   ]
  },
  {
   "cell_type": "markdown",
   "id": "5c685d4e",
   "metadata": {},
   "source": [
    "\n",
    "### Co je důležité vědět o `for` smyčce?\n",
    "\n",
    "- `for` slouží k **procházení všech prvků v nějaké kolekci** – typicky seznam, řetězec nebo rozsah (`range()`).\n",
    "    \n",
    "- Smyčka automaticky **ví, kdy má skončit** – nemusíme řešit podmínku sami.\n",
    "    \n",
    "- Hodí se pro situace, kdy:\n",
    "    \n",
    "    - **víme, kolik kroků udělat**,\n",
    "        \n",
    "    - **máme připravená data** (např. seznam vět, položek, čísel),\n",
    "        \n",
    "    - **chceme něco spočítat nebo vytisknout** pro každý prvek.\n",
    "        \n"
   ]
  },
  {
   "cell_type": "markdown",
   "id": "4b86e892",
   "metadata": {},
   "source": [
    "---\n",
    "\n",
    "## 2. Problém, kde `for` nestačí\n",
    "\n",
    "### Úloha: Hádej číslo\n",
    "\n",
    "> Chceme vytvořit jednoduchou hru:\n",
    "> \n",
    "> - Program si „myslí“ tajné číslo.\n",
    ">     \n",
    "> - Uživatel zkouší hádat, dokud ho neuhodne.\n",
    ">     \n",
    "> - Pokud se netrefí, dostane zprávu „Zkus to znovu.“\n",
    ">     \n",
    "> - Po uhodnutí se vypíše: „Uhodl/a jsi!“\n",
    ">     \n"
   ]
  },
  {
   "cell_type": "markdown",
   "id": "327f67e0",
   "metadata": {},
   "source": [
    "### Pseudokód:"
   ]
  },
  {
   "cell_type": "markdown",
   "id": "b63e0a0b",
   "metadata": {},
   "source": [
    "```text\n",
    "1. Nastavte tajné číslo (např. 7).\n",
    "2. Opakujte:\n",
    "   a. Zeptejte se uživatele na číslo.\n",
    "   b. Pokud je číslo správné, skončete.\n",
    "   c. Jinak vypište: \"Zkus to znovu.\"\n",
    "```"
   ]
  },
  {
   "cell_type": "markdown",
   "id": "2702e3d8",
   "metadata": {},
   "source": [
    "### Otázka:\n",
    "\n",
    "- Můžeme tuto úlohu vyřešit pomocí `for` smyčky když nevíme, kolik pokusů uživatel potřebuje – jaký rozsah máme použít?\n",
    "    \n"
   ]
  },
  {
   "cell_type": "markdown",
   "id": "3f99e042",
   "metadata": {},
   "source": [
    "### Možný pseudokód s `for`:"
   ]
  },
  {
   "cell_type": "markdown",
   "id": "f4d896e8",
   "metadata": {},
   "source": [
    "```text\n",
    "1. Nastavte tajné číslo (např. 7).\n",
    "2. Pro 100 opakování:\n",
    "   a. Zeptejte se uživatele na číslo.\n",
    "   b. Pokud je číslo správné:\n",
    "      i. Vypište zprávu o úspěchu.\n",
    "      ii. Ukončete smyčku.\n",
    "   c. Jinak vypište: \"Zkus to znovu.\"\n",
    "```"
   ]
  },
  {
   "cell_type": "markdown",
   "id": "0854090b",
   "metadata": {},
   "source": [
    "### Příklad:"
   ]
  },
  {
   "cell_type": "code",
   "execution_count": null,
   "id": "a4e13301",
   "metadata": {},
   "outputs": [],
   "source": [
    "\n",
    "tajne_cislo = 7\n",
    "\n",
    "for _ in range(100):\n",
    "    tip = int(input(\"Hádej číslo: \"))\n",
    "    \n",
    "    if tip == tajne_cislo:\n",
    "        print(\"Uhodl/a jsi!\")\n",
    "        break  # Tady smyčku ukončíme\n",
    "    else:\n",
    "        print(\"Zkus to znovu.\")\n"
   ]
  },
  {
   "cell_type": "markdown",
   "id": "dac4b72c",
   "metadata": {},
   "source": [
    "### Poznámka:\n",
    "\n",
    "V tomto případě:\n",
    "\n",
    "- musíme použít `break`, jinak smyčka běží dál zbytečně,\n",
    "    \n",
    "- počet opakování (např. 100) si jen **tipneme**, protože nevíme, kolik bude potřeba,\n",
    "    \n",
    "- `for` je lepší volba, když **dopředu víme, kolikrát se má něco stát** – což tady nevíme.\n"
   ]
  },
  {
   "cell_type": "markdown",
   "id": "d1a221ce",
   "metadata": {},
   "source": [
    "## 3. Představení `while` smyčky "
   ]
  },
  {
   "cell_type": "markdown",
   "id": "b0722b28",
   "metadata": {},
   "source": [
    "\n",
    "### Co je `while`?\n",
    "\n",
    "`while` znamená: **„Dokud platí nějaká podmínka, opakuj kód.“**  \n",
    "Jakmile podmínka přestane platit, smyčka se ukončí.\n"
   ]
  },
  {
   "cell_type": "markdown",
   "id": "7223cd82",
   "metadata": {},
   "source": [
    "### Ukázka:"
   ]
  },
  {
   "cell_type": "code",
   "execution_count": null,
   "id": "b9a00755",
   "metadata": {},
   "outputs": [],
   "source": [
    "x = 5\n",
    "\n",
    "while x > 0:\n",
    "    print(x)\n",
    "    x = x - 1  # snížíme hodnotu x o 1"
   ]
  },
  {
   "cell_type": "markdown",
   "id": "6c4f24f3",
   "metadata": {},
   "source": [
    "Výstup:"
   ]
  },
  {
   "cell_type": "markdown",
   "id": "34fd64c2",
   "metadata": {},
   "source": [
    "```python_resl\n",
    "5\n",
    "4\n",
    "3\n",
    "2\n",
    "1\n",
    "```"
   ]
  },
  {
   "cell_type": "markdown",
   "id": "9956a814",
   "metadata": {},
   "source": [
    "### Co znamená „podmínka“?\n",
    "\n",
    "Za `while` je vždy **nějaký výraz**, který Python vyhodnotí jako **`True` nebo `False`**.\n",
    "\n",
    "Například:"
   ]
  },
  {
   "cell_type": "code",
   "execution_count": null,
   "id": "3879382a",
   "metadata": {},
   "outputs": [],
   "source": [
    "x = 5\n",
    "while x > 0:\n",
    "    ..."
   ]
  },
  {
   "cell_type": "markdown",
   "id": "100d2997",
   "metadata": {},
   "source": [
    "Python si v každém kole smyčky spočítá:\n",
    "\n",
    "- ➡️ Je `x > 0`?\n",
    "    \n",
    "- ➡️ Pokud ano → `True` → kód uvnitř `while` se provede.\n",
    "    \n",
    "- ➡️ Pokud ne → `False` → smyčka se ukončí.\n",
    "    \n",
    "\n",
    "\n",
    "### Připomenutí: Jak Python rozhoduje, co je `True` a co `False`?\n",
    "\n",
    "Python má jednoduché pravidlo:\n",
    "\n",
    "#### ❌ Za `False` považuje:\n",
    "\n",
    "- hodnotu `False`\n",
    "    \n",
    "- číslo `0`\n",
    "    \n",
    "- prázdný řetězec `\"\"`\n",
    "    \n",
    "- prázdný seznam `[]`, slovník `{}`, nebo set `set()`\n",
    "    \n",
    "- hodnotu `None`\n",
    "    \n",
    "\n",
    "#### ✅ Všechno ostatní je `True`\n",
    "\n",
    "\n",
    "### Příklady:"
   ]
  },
  {
   "cell_type": "markdown",
   "id": "26fdf830",
   "metadata": {},
   "source": [
    "```python\n",
    "while \"ahoj\":   # řetězec není prázdný → True → smyčka se spustí\n",
    "while 0:        # číslo je 0 → False → smyčka se nespustí\n",
    "while [1, 2, 3]:  # seznam není prázdný → True\n",
    "```"
   ]
  },
  {
   "cell_type": "markdown",
   "id": "974446a3",
   "metadata": {},
   "source": [
    "Takže: **nemusíme psát jen porovnání (`x > 0`)**, ale můžeme použít i jakoukoli hodnotu nebo proměnnou."
   ]
  },
  {
   "cell_type": "markdown",
   "id": "dc2d5ec1",
   "metadata": {},
   "source": [
    "\n",
    "### Vysvětlení krok za krokem:\n",
    "\n",
    "1. Na začátku má proměnná `x` hodnotu `5`.\n",
    "    \n",
    "2. `while x > 0:` – ptáme se: „Je `x` větší než 0?“\n",
    "    \n",
    "3. Pokud ano:\n",
    "    \n",
    "    - vytiskneme hodnotu `x`,\n",
    "        \n",
    "    - snížíme `x` o 1 pomocí `x = x - 1`.\n",
    "        \n",
    "4. Vrátíme se zpět a znovu se ptáme na podmínku.\n",
    "    \n",
    "5. Jakmile `x` není větší než 0, smyčka skončí.\n",
    "    \n"
   ]
  },
  {
   "cell_type": "markdown",
   "id": "beca0d0b",
   "metadata": {},
   "source": [
    "### Srovnání s `for` :\n",
    "\n",
    "`for` se hodí, když víme, **kolikrát** se něco má stát.  \n",
    "`while` je lepší, když nevíme přesně počet opakování, ale máme **nějakou podmínku**."
   ]
  },
  {
   "cell_type": "markdown",
   "id": "66c4db4e",
   "metadata": {},
   "source": [
    "## Různé podmínky v `while` "
   ]
  },
  {
   "cell_type": "markdown",
   "id": "0bfb82f9",
   "metadata": {},
   "source": [
    "### 1. **Číselná podmínka**\n",
    "\n",
    "**Cíl:** Odpočítat od 3 do 1."
   ]
  },
  {
   "cell_type": "code",
   "execution_count": null,
   "id": "85ab1ac5",
   "metadata": {},
   "outputs": [],
   "source": [
    "cislo = 3\n",
    "\n",
    "while cislo > 0:\n",
    "    print(cislo)\n",
    "    cislo = cislo - 1"
   ]
  },
  {
   "cell_type": "markdown",
   "id": "25a57830",
   "metadata": {},
   "source": [
    "**Vysvětlení:**  \n",
    "Na začátku má proměnná `cislo` hodnotu 3.  \n",
    "Smyčka se opakuje **dokud je `cislo > 0`**.  \n",
    "V každém kroku se číslo sníží o 1."
   ]
  },
  {
   "cell_type": "markdown",
   "id": "e0a5de78",
   "metadata": {},
   "source": [
    "\n",
    "### 2. **Řetězcová podmínka**\n",
    "\n",
    "**Cíl:** Ptát se na vstup, dokud uživatel nenapíše `\"konec\"`.\n"
   ]
  },
  {
   "cell_type": "code",
   "execution_count": null,
   "id": "979ae0bb",
   "metadata": {},
   "outputs": [],
   "source": [
    "text = \"\"\n",
    "\n",
    "while text != \"konec\":\n",
    "    text = input(\"Napiš něco (nebo 'konec' pro ukončení): \")"
   ]
  },
  {
   "cell_type": "markdown",
   "id": "35888099",
   "metadata": {},
   "source": [
    "\n",
    "\n",
    "**„Je hodnota v proměnné `text` něco jiného než `\"konec\"`?“**\n",
    "\n",
    "- Pokud ano → výsledek je `True`\n",
    "    \n",
    "- Pokud ne → výsledek je `False`"
   ]
  },
  {
   "cell_type": "markdown",
   "id": "1dd9d1e3",
   "metadata": {},
   "source": [
    "```python\n",
    "text = \"ahoj\"\n",
    "text != \"konec\"     # ➝ True (protože \"ahoj\" opravdu není \"konec\")\n",
    "\n",
    "text = \"konec\"\n",
    "text != \"konec\"     # ➝ False (protože hodnoty jsou stejné)\n",
    "\n",
    "```"
   ]
  },
  {
   "cell_type": "markdown",
   "id": "d579822c",
   "metadata": {},
   "source": [
    "**Vysvětlení:**  \n",
    "Program se ptá znovu a znovu, dokud **uživatel nenapíše `\"konec\"`**.  \n",
    "Jakmile to napíše, podmínka `text != \"konec\"` přestane platit a smyčka skončí."
   ]
  },
  {
   "cell_type": "markdown",
   "id": "49bee602",
   "metadata": {},
   "source": [
    "### 3. **Seznam (kolekce)**\n",
    "\n",
    "**Cíl:** Postupně odstranit všechno ovoce ze seznamu."
   ]
  },
  {
   "cell_type": "code",
   "execution_count": null,
   "id": "261dc01b",
   "metadata": {},
   "outputs": [],
   "source": [
    "ovoce = [\"jablko\", \"banán\", \"hruška\"]\n",
    "\n",
    "while len(ovoce) > 0:\n",
    "    print(\"Odstraňuji:\", ovoce.pop())"
   ]
  },
  {
   "cell_type": "markdown",
   "id": "4e79a487",
   "metadata": {},
   "source": [
    "**Vysvětlení:** <br/>\n",
    "Program bere jedno ovoce za druhým ze seznamu a vypisuje ho.  \n",
    "Funkce `.pop()` odstraní **poslední** prvek v seznamu.  \n",
    "Smyčka běží, dokud v seznamu **něco zůstává**."
   ]
  },
  {
   "cell_type": "markdown",
   "id": "8925f395",
   "metadata": {},
   "source": [
    "\n",
    "### 4. **Logická hodnota (`True` / `False`)**\n",
    "\n",
    "**Cíl:** Ptáme se, jestli chce uživatel pokračovat. Smyčka se opakuje, dokud neodpoví `\"ne\"`."
   ]
  },
  {
   "cell_type": "code",
   "execution_count": null,
   "id": "07eccdcb",
   "metadata": {},
   "outputs": [],
   "source": [
    "chce_pokracovat = True\n",
    "\n",
    "while chce_pokracovat:\n",
    "    odpoved = input(\"Chceš pokračovat? (ano/ne): \")\n",
    "    if odpoved == \"ne\":\n",
    "        chce_pokracovat = False"
   ]
  },
  {
   "cell_type": "markdown",
   "id": "aa9b6d4f",
   "metadata": {},
   "source": [
    "\n",
    "### Vysvětlení krok za krokem:\n",
    "\n",
    "- `while chce_pokracovat:` znamená:  \n",
    "    ➝ **\"Opakuj kód, dokud je `chce_pokracovat` nastaveno na `True`.\"**\n",
    "    \n",
    "- Na začátku **explicitně říkáme**, že chceme pokračovat:  \n",
    "    ➝ `chce_pokracovat = True`\n",
    "    \n",
    "- Smyčka se tedy spustí, protože výraz `while True` (nebo `while chce_pokracovat == True`) je **pravdivý**.\n",
    "    \n",
    "- Pokud uživatel napíše `\"ne\"`, nastavíme:  \n",
    "    ➝ `chce_pokracovat = False`  \n",
    "    a podmínka už **není pravdivá** → smyčka skončí.\n",
    "    \n"
   ]
  },
  {
   "cell_type": "markdown",
   "id": "688ca143",
   "metadata": {},
   "source": [
    "## Porovnání `for` vs `while`\n",
    "\n",
    "### Kdy použít `for` a kdy `while`?\n",
    "\n",
    "|`for`|`while`|\n",
    "|---|---|\n",
    "|Používáme, když **víme, kolikrát** se něco má opakovat|Používáme, když **nevíme, kolikrát** – opakuje se, dokud platí podmínka|\n",
    "|Skvělé pro **seznamy, řetězce, rozsahy (`range`)**|Skvělé pro **uživatelský vstup, hry, čekání**|\n",
    "|Smyčka se **automaticky ukončí**, až dojdou prvky|Smyčka se ukončí **teprve, až podmínka přestane platit**|\n",
    "|Nepotřebujeme `break` (většinou)|Často používáme `break` pro ukončení zevnitř|\n",
    "\n",
    "\n"
   ]
  },
  {
   "cell_type": "markdown",
   "id": "72ff0342",
   "metadata": {},
   "source": [
    "## Podmínky uvnitř `while`: `if` a `else`\n",
    "\n",
    "Ve smyčce `while` můžeme používat podmínky pomocí `if` a `else`, stejně jako mimo smyčku.  \n",
    "To nám umožní **rozhodovat se uvnitř smyčky** – podle vstupu, stavu proměnné apod.\n",
    "\n"
   ]
  },
  {
   "cell_type": "markdown",
   "id": "56b8ca15",
   "metadata": {},
   "source": [
    "### Příklad 1: Rozlišení vstupu"
   ]
  },
  {
   "cell_type": "code",
   "execution_count": null,
   "id": "2e4a61ed",
   "metadata": {},
   "outputs": [],
   "source": [
    "text = \"\"\n",
    "\n",
    "while text != \"konec\":\n",
    "    text = input(\"Napiš něco (nebo 'konec'): \")\n",
    "    \n",
    "    if text == \"ahoj\":\n",
    "        print(\"Taky zdravím!\")\n",
    "    elif text == \"Python\":\n",
    "        print(\"To je skvělý jazyk!\")\n",
    "    elif text != \"konec\":\n",
    "        print(\"Zajímavé...\")"
   ]
  },
  {
   "cell_type": "markdown",
   "id": "60a5f9c8",
   "metadata": {},
   "source": [
    "\n",
    "### Vysvětlení:\n",
    "\n",
    "- Smyčka se opakuje, dokud uživatel nenapíše `\"konec\"`.\n",
    "    \n",
    "- Pokud napíše `\"ahoj\"` → odpovíme pozdravem.\n",
    "    \n",
    "- Pokud napíše `\"Python\"` → pochválíme ho.\n",
    "    \n",
    "- Pokud napíše cokoli jiného (kromě `\"konec\"`) → vypíšeme neutrální odpověď.\n",
    "    \n"
   ]
  },
  {
   "cell_type": "markdown",
   "id": "16a1e683",
   "metadata": {},
   "source": [
    "\n",
    "### Proč `if` ve smyčce?\n",
    "\n",
    "Protože **v každé iteraci** může být potřeba reagovat jinak.  \n",
    "Smyčka říká _\"opakuj\"_, ale `if` říká _\"co přesně v tomto kole udělat.\"_"
   ]
  },
  {
   "cell_type": "markdown",
   "id": "4b2cb30e",
   "metadata": {},
   "source": [
    "\n",
    "### Příklad: Reakce na odpověď (pouze `if` / `else`)"
   ]
  },
  {
   "cell_type": "code",
   "execution_count": null,
   "id": "e62bcd81",
   "metadata": {},
   "outputs": [],
   "source": [
    "odpoved = \"\"\n",
    "\n",
    "while odpoved != \"konec\":\n",
    "    odpoved = input(\"Napiš něco: \")\n",
    "\n",
    "    if odpoved == \"ano\":\n",
    "        print(\"Díky, pokračujeme!\")\n",
    "    else:\n",
    "        print(\"Nerozumím.\")\n"
   ]
  },
  {
   "cell_type": "markdown",
   "id": "690d243f",
   "metadata": {},
   "source": [
    "### Vysvětlení:\n",
    "- Smyčka se ptá, dokud uživatel nenapíše \"konec\".\n",
    "\n",
    "- Pokud odpověď je \"ano\" → vypíšeme potvrzení.\n",
    "\n",
    "- Jinak (tedy cokoli jiného) → vypíšeme \"Nerozumím.\""
   ]
  },
  {
   "cell_type": "markdown",
   "id": "d8d70d5c",
   "metadata": {},
   "source": [
    "## `break` a `continue` ve `while`"
   ]
  },
  {
   "cell_type": "markdown",
   "id": "6e09d13d",
   "metadata": {},
   "source": [
    "<figure>\n",
    "<center>\n",
    "<img src='https://files.realpython.com/media/t.899f357dd948.png' width=\"400\" height=\"500\">\n",
    "<!-- <figcaption>Break and Continue</figcaption></center> -->\n",
    "</figure>"
   ]
  },
  {
   "cell_type": "markdown",
   "id": "744e8e8a",
   "metadata": {},
   "source": [
    "### `break`\n",
    "\n",
    "Přeruší smyčku **okamžitě** – nezáleží, jestli by podmínka ještě platila."
   ]
  },
  {
   "cell_type": "code",
   "execution_count": null,
   "id": "8a581846",
   "metadata": {},
   "outputs": [],
   "source": [
    "while True:\n",
    "    vstup = input(\"Napiš 'konec' pro ukončení: \")\n",
    "    if vstup == \"konec\":\n",
    "        break\n",
    "    print(\"Zadal jsi:\", vstup)"
   ]
  },
  {
   "cell_type": "markdown",
   "id": "abb1e4a6",
   "metadata": {},
   "source": [
    "\n",
    "## Rozdíl: `break` vs. řízené ukončení"
   ]
  },
  {
   "cell_type": "markdown",
   "id": "3a22b319",
   "metadata": {},
   "source": [
    "### Ukončení změnou podmínky (bez `break`)"
   ]
  },
  {
   "cell_type": "code",
   "execution_count": null,
   "id": "cf06b163",
   "metadata": {},
   "outputs": [],
   "source": [
    "chce_pokracovat = True\n",
    "\n",
    "while chce_pokracovat:\n",
    "    odpoved = input(\"Chceš pokračovat? (ano/ne): \")\n",
    "    if odpoved == \"ne\":\n",
    "        chce_pokracovat = False"
   ]
  },
  {
   "cell_type": "markdown",
   "id": "d9af770f",
   "metadata": {},
   "source": [
    "#### **Jak to funguje:**  \n",
    "Smyčka se kontroluje na začátku každého kola:  \n",
    "➡️ „Je `chce_pokracovat` ještě `True`?“  \n",
    "➡️ Když už **není**, smyčka skončí.\n",
    "\n",
    "✅ **Výhody**:\n",
    "\n",
    "- **Čitelnější**: podmínka je hned vidět na `while řádku`\n",
    "    \n",
    "- **Lépe laditelná**: program se chová předvídatelně\n",
    "    \n",
    "- **Hodí se, když se smyčka má přirozeně „vyčerpat“**\n",
    "    \n",
    "\n",
    "❌ **Nevýhody**:\n",
    "\n",
    "- Potřebujeme **další proměnnou** (např. `chce_pokracovat`)\n",
    "    \n",
    "- Může být trochu zdlouhavější"
   ]
  },
  {
   "cell_type": "markdown",
   "id": "fca0669d",
   "metadata": {},
   "source": [
    "### Okamžité ukončení pomocí `break`"
   ]
  },
  {
   "cell_type": "code",
   "execution_count": null,
   "id": "ff501b87",
   "metadata": {},
   "outputs": [],
   "source": [
    "while True:\n",
    "    odpoved = input(\"Chceš pokračovat? (ano/ne): \")\n",
    "    if odpoved == \"ne\":\n",
    "        break"
   ]
  },
  {
   "cell_type": "markdown",
   "id": "ad246cb0",
   "metadata": {},
   "source": [
    "#### **Jak to funguje:**\n",
    "Smyčka běží **donekonečna**, protože `while True` je vždy pravda.  \n",
    "➡️ Když uživatel napíše `\"ne\"`, **`break` smyčku okamžitě přeruší**, bez ohledu na podmínku.\n",
    "\n",
    "✅ **Výhody**:\n",
    "\n",
    "- **Kód je kratší**\n",
    "    \n",
    "- Není potřeba žádná pomocná proměnná\n",
    "    \n",
    "- Hodí se pro **uživatelský vstup**\n",
    "    \n",
    "\n",
    "❌ **Nevýhody**:\n",
    "\n",
    "- Méně čitelné pro začátečníky\n",
    "    \n",
    "- **Není na první pohled jasné**, kdy smyčka končí\n",
    "    \n",
    "- `break` **může být zneužíván** místo promyšlené logiky"
   ]
  },
  {
   "cell_type": "markdown",
   "id": "6a90e13e",
   "metadata": {},
   "source": [
    "\n",
    "## `continue` ve `while`\n",
    "\n",
    "### Příklad: Přeskočení prázdného vstupu\n"
   ]
  },
  {
   "cell_type": "code",
   "execution_count": null,
   "id": "74ae1a94",
   "metadata": {},
   "outputs": [],
   "source": [
    "vstup = \"\"\n",
    "\n",
    "while vstup != \"konec\":\n",
    "    vstup = input(\"Zadej text (nebo 'konec'): \")\n",
    "\n",
    "    if vstup == \"\":\n",
    "        print(\"Zadal jsi prázdný vstup. Zkus to znovu.\")\n",
    "        continue\n",
    "\n",
    "    print(\"Zadal jsi:\", vstup)"
   ]
  },
  {
   "cell_type": "markdown",
   "id": "63bc4b15",
   "metadata": {},
   "source": [
    "\n",
    "### Vysvětlení pro studenty:\n",
    "\n",
    "- Smyčka se opakuje, dokud uživatel nezadá `\"konec\"`.\n",
    "    \n",
    "- Pokud nezadá nic (tj. prázdný řetězec), program:\n",
    "    \n",
    "    - upozorní: `\"Zadal jsi prázdný vstup...\"`\n",
    "        \n",
    "    - pomocí `continue` **přeskočí zbytek smyčky** → **nevypíše `Zadal jsi: ...`**\n",
    "        \n",
    "- Pokud zadá něco jiného → normálně se to vypíše.\n",
    "\n",
    "<br />\n",
    "\n",
    "> `continue` říká: \"Tohle kolo přeskoč, vrať se na začátek a pokračuj dalším.\""
   ]
  },
  {
   "cell_type": "markdown",
   "id": "34e97196",
   "metadata": {},
   "source": [
    "## `while ... else`"
   ]
  },
  {
   "cell_type": "markdown",
   "id": "e180a6d2",
   "metadata": {},
   "source": [
    "### Klíčové pravidlo:\n",
    "\n",
    "> **Blok `else` se spustí jen tehdy, když `while` smyčka skončí normálně – tedy bez `break`.**\n",
    "\n",
    "### Tedy:\n",
    "\n",
    "- **Používáš `break`** → `else` se **nespustí**\n",
    "    \n",
    "- **Nepoužíváš `break`** → `else` se **vždy spustí**, až smyčka sama skončí\n",
    "\n",
    "### 1) `while ... else` bez `break`\n",
    "\n",
    "`else` se provede vždy, když smyčka doběhne přirozeně."
   ]
  },
  {
   "cell_type": "code",
   "execution_count": null,
   "id": "7427dddc",
   "metadata": {},
   "outputs": [],
   "source": [
    "cislo = 1\n",
    "\n",
    "while cislo <= 3:\n",
    "    print(\"Krok\", cislo)\n",
    "    cislo += 1\n",
    "else:\n",
    "    print(\"Smyčka skončila přirozeně.\")"
   ]
  },
  {
   "cell_type": "markdown",
   "id": "601ae5a1",
   "metadata": {},
   "source": [
    "Výstup:"
   ]
  },
  {
   "cell_type": "markdown",
   "id": "c56d7106",
   "metadata": {},
   "source": [
    "```python_resl\n",
    "Krok 1  \n",
    "Krok 2  \n",
    "Krok 3  \n",
    "Smyčka skončila přirozeně.\n",
    "```"
   ]
  },
  {
   "cell_type": "markdown",
   "id": "83d79661",
   "metadata": {},
   "source": [
    "\n",
    "### 2) `while ... else` s `break`\n",
    "\n",
    "`else` se provede **jen pokud `break` nenastane**."
   ]
  },
  {
   "cell_type": "code",
   "execution_count": null,
   "id": "6d0126eb",
   "metadata": {},
   "outputs": [],
   "source": [
    "tajne_cislo = 5\n",
    "pokusu = 3\n",
    "\n",
    "while pokusu > 0:\n",
    "    tip = int(input(\"Hádej číslo: \"))\n",
    "    if tip == tajne_cislo:\n",
    "        print(\"Uhodl/a jsi!\")\n",
    "        break\n",
    "    else:\n",
    "        print(\"To nebylo ono.\")\n",
    "        pokusu -= 1\n",
    "else:\n",
    "    print(\"Došly ti pokusy. Prohráváš.\")"
   ]
  },
  {
   "cell_type": "markdown",
   "id": "43f6f69c",
   "metadata": {},
   "source": [
    "\n",
    "#### Chování:\n",
    "\n",
    "- Uživatel uhodne správné číslo → `break` → `else` se **neprovede**.\n",
    "    \n",
    "- Uživatel neuhodne → smyčka skončí **přirozeně** → `else` se **provede**.\n",
    "    \n",
    "\n",
    "### Shrnutí pro studenty:\n",
    "\n",
    "| Použití `break`                     | Co se stane s `else`?     |\n",
    "| ----------------------------------- | ------------------------- |\n",
    "| ❌ Nepoužívám `break`                | `else` se **spustí vždy** |\n",
    "| ✅ Používám `break` a spustí se      | `else` se **přeskočí**    |\n",
    "| ✅ Používám `break`, ale nespustí se | `else` se **spustí**      |\n"
   ]
  },
  {
   "cell_type": "markdown",
   "id": "d13021fd",
   "metadata": {},
   "source": [
    "## Nekonečná smyčka (`while` loop)"
   ]
  },
  {
   "cell_type": "markdown",
   "id": "64c30fe2",
   "metadata": {},
   "source": [
    "### Úkol: Najdi chybu v kódu"
   ]
  },
  {
   "cell_type": "code",
   "execution_count": null,
   "id": "7f20c9ef",
   "metadata": {},
   "outputs": [],
   "source": [
    "index = 1\n",
    "\n",
    "while index < 5:\n",
    "    print(\"Index je:\", index)\n",
    "    # POZOR: tady něco chybí!"
   ]
  },
  {
   "cell_type": "markdown",
   "id": "bab65dbb",
   "metadata": {},
   "source": [
    "\n",
    "### ❓ Otázka pro vás:\n",
    "- Co se stane, když tento kód spustíme?\n",
    "- Bude se smyčka někdy opakovat?\n",
    "- Bude se někdy smyčka ukončena?\n",
    "\n",
    "### ❗ Co se stane?\n",
    "Tato smyčka vytvoří **nekonečný cyklus**:\n",
    "- `index` má stále hodnotu `1`  \n",
    "- podmínka `index < 5` je **vždy splněná**  \n",
    "- smyčka **nikdy neskončí**  \n",
    "- program bude pořád vypisovat `Index je: 1`"
   ]
  },
  {
   "cell_type": "markdown",
   "id": "26e88f01",
   "metadata": {},
   "source": [
    "\n",
    "### Jak to opravit?\n",
    "\n",
    "Musíme **měnit proměnnou `index`** v každém kole smyčky:"
   ]
  },
  {
   "cell_type": "code",
   "execution_count": null,
   "id": "8f27e566",
   "metadata": {},
   "outputs": [],
   "source": [
    "index = 1\n",
    "\n",
    "while index < 5:\n",
    "    print(\"Index je:\", index)\n",
    "    index = index + 1"
   ]
  },
  {
   "cell_type": "markdown",
   "id": "68e7d4c8",
   "metadata": {},
   "source": [
    "Teď bude výstup:"
   ]
  },
  {
   "cell_type": "markdown",
   "id": "c64e5c27",
   "metadata": {},
   "source": [
    "```python_resl\n",
    "Index je: 1  \n",
    "Index je: 2  \n",
    "Index je: 3  \n",
    "Index je: 4\n",
    "```"
   ]
  },
  {
   "cell_type": "markdown",
   "id": "6ba25e05",
   "metadata": {},
   "source": [
    "\n",
    "a pak smyčka skončí.\n",
    "\n",
    "Chyba ovšem může nastat i při **špatném ohlášení** v zadání smyčky *while*:"
   ]
  },
  {
   "cell_type": "code",
   "execution_count": null,
   "id": "7ed77105",
   "metadata": {},
   "outputs": [],
   "source": [
    "index = 1\n",
    "\n",
    "while index > 0: # vyhodnocené ohlášení má stále hodnotu `True`\n",
    "\tprint(index)\n",
    "\t\n",
    "\tindex = index + 1"
   ]
  },
  {
   "cell_type": "markdown",
   "id": "11362bd6",
   "metadata": {},
   "source": [
    "Výše ukázaná varianta představuje tzv. **nežádoucí nekonečnou smyčku**, kde vznikla chyba **ve špatně zapsané podmínce**."
   ]
  },
  {
   "cell_type": "markdown",
   "id": "5d36f98f",
   "metadata": {},
   "source": [
    "### Proč vzniká nekonečná smyčka?\n",
    "\n",
    "Nekonečná smyčka vznikne tehdy, když se podmínka nikdy nezmění a smyčka běží pořád dokola."
   ]
  },
  {
   "cell_type": "markdown",
   "id": "bc9e866f",
   "metadata": {},
   "source": [
    "## Řízená nekonečná smyčka – smyčka, kterou chceme"
   ]
  },
  {
   "cell_type": "markdown",
   "id": "ef808628",
   "metadata": {},
   "source": [
    "Ale někdy **nekonečnou smyčku chceme** – např. když program běží, dokud uživatel nezadá `\"konec\"`.\n",
    "\n",
    "### Příklad 1: pomocí `while True`"
   ]
  },
  {
   "cell_type": "code",
   "execution_count": null,
   "id": "2db6f87f",
   "metadata": {},
   "outputs": [],
   "source": [
    "while True:\n",
    "    text = input(\"Zadej něco (nebo 'konec'): \")\n",
    "    if text == \"konec\":\n",
    "        break\n",
    "    print(\"Zadal jsi:\", text)"
   ]
  },
  {
   "cell_type": "markdown",
   "id": "6b0aab7f",
   "metadata": {},
   "source": [
    "#### Vysvětlení:\n",
    "\n",
    "- Tato smyčka běží **nekonečně dlouho**, protože `while True` je **vždy pravda**.\n",
    "    \n",
    "- Má ale **jasnou podmínku pro ukončení** – když uživatel zadá `\"konec\"`.\n",
    "    \n",
    "- Pomocí `break` se smyčka ukončí ihned.\n",
    "    \n",
    "- Říkáme jí **řízená nekonečná smyčka** – je nekonečná **záměrně** a **plně pod kontrolou programu**."
   ]
  },
  {
   "cell_type": "markdown",
   "id": "47368473",
   "metadata": {},
   "source": [
    "\n",
    "### Příklad 2: pomocí proměnné `switch`"
   ]
  },
  {
   "cell_type": "code",
   "execution_count": null,
   "id": "b23d35f5",
   "metadata": {},
   "outputs": [],
   "source": [
    "bezi = True\n",
    "\n",
    "while bezi:\n",
    "    text = input(\"Zadej něco (nebo 'konec'): \")\n",
    "    if text == \"konec\":\n",
    "        bezi = False\n",
    "    else:\n",
    "        print(\"Zadal jsi:\", text)"
   ]
  },
  {
   "cell_type": "markdown",
   "id": "6e2d01eb",
   "metadata": {},
   "source": [
    "\n",
    "#### Vysvětlení:\n",
    "\n",
    "- I tato smyčka je **nekonečná**, dokud proměnná `bezi` zůstává `True`.\n",
    "    \n",
    "- Má **řízené ukončení** – pokud uživatel zadá `\"konec\"`, nastaví se `bezi = False` → a smyčka skončí přirozeně.\n",
    "    \n",
    "- Tento styl je někdy **čitelnější**, protože podmínka (`while bezi`) přímo říká, **kdy program pokračuje**.\n",
    "    \n",
    "- I zde jde o **řízenou nekonečnou smyčku** – jen bez `break`."
   ]
  }
 ],
 "metadata": {
  "language_info": {
   "name": "python"
  }
 },
 "nbformat": 4,
 "nbformat_minor": 5
}
