{
 "cells": [
  {
   "cell_type": "markdown",
   "id": "52355412",
   "metadata": {},
   "source": [
    "## Co je walrus operátor?\n",
    "\n",
    "Walrus operátor `:=` v Pythonu umožňuje:\n",
    "\n",
    "> **přiřadit hodnotu proměnné a zároveň ji okamžitě použít – v jednom kroku.**"
   ]
  },
  {
   "cell_type": "markdown",
   "id": "6bc490d0",
   "metadata": {},
   "source": [
    "\n",
    "### Syntaxe:\n",
    "\n",
    "```python\n",
    "(proměnná := výraz)\n",
    "```\n",
    "\n",
    "➡ Nejčastěji se používá **uvnitř podmínky** nebo **v `while` smyčce**, kde by jinak bylo potřeba psát stejné volání dvakrát.\n",
    "\n",
    "\n",
    "### Proč se mu říká “walrus”?\n",
    "\n",
    "Vypadá jako oči a kly mrože: `:=`\n",
    "\n"
   ]
  },
  {
   "cell_type": "markdown",
   "id": "649bd4c9",
   "metadata": {},
   "source": [
    "\n",
    "### ✅ Základní příklad:\n",
    "\n",
    "#### Bez walrusu:"
   ]
  },
  {
   "cell_type": "code",
   "execution_count": null,
   "id": "069b0d20",
   "metadata": {},
   "outputs": [],
   "source": [
    "jmeno = input(\"Zadej jméno: \")\n",
    "if jmeno == \"Matouš\":\n",
    "    print(\"To je on.\")"
   ]
  },
  {
   "cell_type": "markdown",
   "id": "cb98d300",
   "metadata": {},
   "source": [
    "\n",
    "**Co se tu děje:**\n",
    "\n",
    "- nejprve uložíme vstup do proměnné `jmeno`,\n",
    "    \n",
    "- pak ho **znovu použijeme** v podmínce `if`.\n",
    "    \n"
   ]
  },
  {
   "cell_type": "markdown",
   "id": "afacd879",
   "metadata": {},
   "source": [
    "#### S walrusem:"
   ]
  },
  {
   "cell_type": "code",
   "execution_count": null,
   "id": "a64cbc80",
   "metadata": {},
   "outputs": [],
   "source": [
    "if (jmeno := input(\"Zadej jméno: \")) == \"Matouš\":\n",
    "    print(\"To je on.\")"
   ]
  },
  {
   "cell_type": "markdown",
   "id": "6a7202cb",
   "metadata": {},
   "source": [
    "**Co se tu děje:**\n",
    "\n",
    "- vstup se rovnou uloží do `jmeno`,\n",
    "    \n",
    "- zároveň se tato hodnota ihned porovná s `\"Matouš\"`,\n",
    "    \n",
    "- pokud podmínka platí, provede se kód vevnitř.\n",
    "    \n",
    "\n",
    "➡ Výsledek je stejný, ale ušetříme jeden řádek a zápis je kompaktnější."
   ]
  },
  {
   "cell_type": "markdown",
   "id": "238d567a",
   "metadata": {},
   "source": [
    "\n",
    "### Použití v cyklu `while` – klasický případ\n",
    "\n",
    "#### Bez walrusu:"
   ]
  },
  {
   "cell_type": "code",
   "execution_count": null,
   "id": "efe34cb0",
   "metadata": {},
   "outputs": [],
   "source": [
    "vstup = \"\"\n",
    "while vstup != \"q\":\n",
    "    vstup = input(\"Zadej něco: \")\n",
    "    print(vstup)"
   ]
  },
  {
   "cell_type": "markdown",
   "id": "5ed198b6",
   "metadata": {},
   "source": [
    "*Zde musíme vytvořit proměnnou před smyčkou* a **aktualizovat ji uvnitř** – zabírá víc místa."
   ]
  },
  {
   "cell_type": "markdown",
   "id": "12e33f3e",
   "metadata": {},
   "source": [
    "#### S walrusem:"
   ]
  },
  {
   "cell_type": "code",
   "execution_count": null,
   "id": "99b8fc85",
   "metadata": {},
   "outputs": [],
   "source": [
    "while (vstup := input(\"Zadej něco: \")) != \"q\":\n",
    "    print(vstup)"
   ]
  },
  {
   "cell_type": "markdown",
   "id": "1c6509c8",
   "metadata": {},
   "source": [
    "\n",
    "**Jak pomohl walrus:**\n",
    "\n",
    "- výraz `input(...)` se provede pouze **jednou**,\n",
    "    \n",
    "- výsledek se rovnou uloží a zároveň porovná s `\"q\"`,\n",
    "    \n",
    "- kód je kratší a elegantnější,\n",
    "    \n",
    "- není potřeba připravovat `vstup = \"\"` mimo smyčku."
   ]
  },
  {
   "cell_type": "markdown",
   "id": "67659c89",
   "metadata": {},
   "source": [
    "### ⚠️ Na co si dát pozor\n",
    "\n",
    "- **Používej kulaté závorky**, jinak Python nemusí správně pochopit, co má vyhodnotit.\n",
    "    \n",
    "- ❌ Pro úplné začátečníky může být zápis **méně čitelný**.\n",
    "    \n",
    "- ✅ Hodí se hlavně, když voláš **náročnější funkci nebo práci s textem** a chceš se vyhnout duplicitě.\n",
    "    "
   ]
  },
  {
   "cell_type": "markdown",
   "id": "5b899bad",
   "metadata": {},
   "source": [
    "\n",
    "### Shrnutí:\n",
    "\n",
    "|Kdy použít `:=`|Kdy radši ne|\n",
    "|---|---|\n",
    "|když chcete **zkrátit zápis** a zároveň proměnnou dále použít|když hrozí **nepřehlednost**|\n",
    "|v jednoduchých `while` nebo `if`|u složitější logiky nebo pro začátečníky|\n",
    "|místo opakovaného volání stejné funkce|když proměnnou stejně nikde dál nepoužíváme|\n"
   ]
  }
 ],
 "metadata": {
  "language_info": {
   "name": "python"
  }
 },
 "nbformat": 4,
 "nbformat_minor": 5
}
