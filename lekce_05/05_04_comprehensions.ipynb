{
 "cells": [
  {
   "cell_type": "markdown",
   "id": "fb1da50f",
   "metadata": {},
   "source": [
    "## 1. Úvod: Co je comprehension?\n",
    "\n",
    "**Cíl:**  \n",
    "Chceš vytvořit **nový seznam** na základě nějakého existujícího. Například z čísel 0–4 chceš vytvořit seznam jejich dvojnásobků.\n",
    "\n",
    "\n",
    "### Klasický způsob (dlouhá verze):"
   ]
  },
  {
   "cell_type": "code",
   "execution_count": null,
   "id": "0dd0572a",
   "metadata": {},
   "outputs": [],
   "source": [
    "cisla = []\n",
    "for i in range(5):\n",
    "    cisla.append(i)\n",
    "print(cisla)"
   ]
  },
  {
   "cell_type": "markdown",
   "id": "11000403",
   "metadata": {},
   "source": [
    "Vytváříme prázdný seznam a **naplňujeme ho v cyklu**."
   ]
  },
  {
   "cell_type": "markdown",
   "id": "cb884918",
   "metadata": {},
   "source": [
    "### Zkrácený způsob (comprehension):"
   ]
  },
  {
   "cell_type": "code",
   "execution_count": null,
   "id": "a456ac31",
   "metadata": {},
   "outputs": [],
   "source": [
    "cisla = [i for i in range(5)]\n",
    "print(cisla)"
   ]
  },
  {
   "cell_type": "markdown",
   "id": "dbb125d9",
   "metadata": {},
   "source": [
    "Výsledek je úplně stejný:  \n",
    "<br />\n",
    "`[0, 1, 2, 3, 4]`"
   ]
  },
  {
   "cell_type": "markdown",
   "id": "58658af1",
   "metadata": {},
   "source": [
    "### Co to dělá?"
   ]
  },
  {
   "cell_type": "code",
   "execution_count": null,
   "id": "675f8070",
   "metadata": {},
   "outputs": [],
   "source": [
    "[i for i in range(5)]"
   ]
  },
  {
   "cell_type": "markdown",
   "id": "9f5d06d1",
   "metadata": {},
   "source": [
    "> „Vem každé `i` z `range(5)` a dej ho do nového seznamu.“\n",
    "\n",
    "Tohle je právě **comprehension** – zkrácený zápis smyčky, který je:\n",
    "\n",
    "- **rychlejší na psaní**\n",
    "    \n",
    "- **přehledný (pokud je krátký)**\n",
    "    \n",
    "- **velmi často používaný** v Pythonu\n",
    "    "
   ]
  },
  {
   "cell_type": "markdown",
   "id": "2281b2fb",
   "metadata": {},
   "source": [
    "\n",
    "## Obecný vzorec\n",
    "\n",
    "```python\n",
    "[výraz for prvek in kolekce]\n",
    "```\n",
    "\n",
    "To znamená:\n",
    "\n",
    "> „Pro každý `prvek` v nějaké `kolekci` (např. seznamu nebo `range`) použij `výraz` a výsledek vlož do nového seznamu.“"
   ]
  },
  {
   "cell_type": "markdown",
   "id": "a109828d",
   "metadata": {},
   "source": [
    "\n",
    "## Příklady, kde něco s hodnotou uděláme"
   ]
  },
  {
   "cell_type": "markdown",
   "id": "3bb48309",
   "metadata": {},
   "source": [
    "### Dvojnásobky:"
   ]
  },
  {
   "cell_type": "code",
   "execution_count": null,
   "id": "c8cb440c",
   "metadata": {},
   "outputs": [],
   "source": [
    "[i * 2 for i in range(5)]\n",
    "# [0, 2, 4, 6, 8]"
   ]
  },
  {
   "cell_type": "markdown",
   "id": "cf6a7e84",
   "metadata": {},
   "source": [
    "\n",
    "### Druhé mocniny (čtverce):"
   ]
  },
  {
   "cell_type": "code",
   "execution_count": null,
   "id": "e3eeec44",
   "metadata": {},
   "outputs": [],
   "source": [
    "[i ** 2 for i in range(5)]\n",
    "# [0, 1, 4, 9, 16]"
   ]
  },
  {
   "cell_type": "markdown",
   "id": "1613cd16",
   "metadata": {},
   "source": [
    "\n",
    "## Přidání jednoduché podmínky (`if`)\n",
    "\n",
    "Doteď jsme vytvářeli seznam z **všech** prvků.\n",
    "\n",
    "Ale co když chceš **vybrat jen některé**?\n",
    "\n",
    "Například: chceš seznam **pouze sudých čísel** od 0 do 9.  \n",
    "To znamená: přidat podmínku – `i % 2 == 0`"
   ]
  },
  {
   "cell_type": "markdown",
   "id": "064e9583",
   "metadata": {},
   "source": [
    "\n",
    "### Klasicky (pomocí `for` a `if`):"
   ]
  },
  {
   "cell_type": "code",
   "execution_count": null,
   "id": "c9e5a3f0",
   "metadata": {},
   "outputs": [],
   "source": [
    "cisla = []\n",
    "for i in range(10):\n",
    "    if i % 2 == 0:\n",
    "        cisla.append(i)\n",
    "print(cisla)"
   ]
  },
  {
   "cell_type": "markdown",
   "id": "a950e954",
   "metadata": {},
   "source": [
    "\n",
    "### Comprehension verze s podmínkou:"
   ]
  },
  {
   "cell_type": "code",
   "execution_count": null,
   "id": "2f537824",
   "metadata": {},
   "outputs": [],
   "source": [
    "cisla = [i for i in range(10) if i % 2 == 0]\n",
    "print(cisla)"
   ]
  },
  {
   "cell_type": "markdown",
   "id": "1f79ecce",
   "metadata": {},
   "source": [
    "Výsledek:\n",
    "\n",
    "```python-rels\n",
    "[0, 2, 4, 6, 8]\n",
    "```"
   ]
  },
  {
   "cell_type": "markdown",
   "id": "ad4bad9b",
   "metadata": {},
   "source": [
    "\n",
    "### Vysvětlení:\n",
    "\n",
    "> „Vem každé `i` z `range(10)`, ale **přidej ho do seznamu jen tehdy**, pokud je sudé.“\n",
    "\n",
    "<br />\n",
    "\n",
    "## Obecný vzorec s podmínkou:\n",
    "\n",
    "```python\n",
    "[vyraz for prvek in kolekce if podminka]\n",
    "```\n",
    "\n",
    "Například:\n",
    "\n",
    "```python\n",
    "[x for x in seznam if x > 100]\n",
    "```\n",
    "\n",
    "Vezmi `x` ze seznamu, **ale jen pokud je větší než 100**.\n",
    "\n",
    "<br />"
   ]
  },
  {
   "cell_type": "markdown",
   "id": "b3d3c687",
   "metadata": {},
   "source": [
    "\n",
    "## Další příklady\n",
    "\n",
    "### Vybíráme slova delší než 4 znaky:"
   ]
  },
  {
   "cell_type": "code",
   "execution_count": null,
   "id": "08d798b3",
   "metadata": {},
   "outputs": [],
   "source": [
    "slova = [\"kočka\", \"pes\", \"slon\", \"tučňák\", \"lev\"]\n",
    "delsi = [slovo for slovo in slova if len(slovo) > 4]\n",
    "# ➡️ [\"kočka\", \"slon\", \"tučňák\"]"
   ]
  },
  {
   "cell_type": "markdown",
   "id": "191f5c0a",
   "metadata": {},
   "source": [
    "---\n",
    "\n",
    "## Co je dict comprehension?\n",
    "\n",
    "Doteď jsme vytvářeli nové seznamy pomocí list comprehension.  \n",
    "Ale podobný zkrácený zápis můžeš použít i pro **slovníky** (anglicky: `dictionary`, typ `dict`).\n",
    "\n",
    "**Cíl:** vytvořit nový slovník na základě jiného slovníku – můžeš přitom:\n",
    "\n",
    "- upravit klíč nebo hodnotu,\n",
    "    \n",
    "- přidat podmínku (`if`) a filtrovat.\n",
    "    \n"
   ]
  },
  {
   "cell_type": "markdown",
   "id": "899cecd9",
   "metadata": {},
   "source": [
    "\n",
    "## Klasický způsob vs dict comprehension\n",
    "\n",
    "### Klasický způsob:"
   ]
  },
  {
   "cell_type": "code",
   "execution_count": null,
   "id": "a481aa52",
   "metadata": {},
   "outputs": [],
   "source": [
    "obyvatele = {\n",
    "    \"Praha\": 1335084,\n",
    "    \"Brno\": 382405,\n",
    "    \"Ostrava\": 284982,\n",
    "    \"Plzeň\": 175219,\n",
    "    \"Liberec\": 104261\n",
    "}\n",
    "\n",
    "velka_mesta = {}\n",
    "\n",
    "for mesto, pocet in obyvatele.items():\n",
    "    if pocet > 200_000:\n",
    "        velka_mesta[mesto.upper()] = pocet\n",
    "\n",
    "print(velka_mesta)"
   ]
  },
  {
   "cell_type": "markdown",
   "id": "23309403",
   "metadata": {},
   "source": [
    "\n",
    "Co to dělá?\n",
    "\n",
    "- Prochází každé město a počet obyvatel.\n",
    "    \n",
    "- Pokud má město víc než 200 000 obyvatel, přidá ho do nového slovníku.\n",
    "    \n",
    "- Klíč (název města) převádí na VELKÁ PÍSMENA pomocí `.upper()`.\n",
    "    \n",
    "\n",
    "Výsledek:\n"
   ]
  },
  {
   "cell_type": "markdown",
   "id": "0b02f417",
   "metadata": {},
   "source": [
    "```python\n",
    "{'PRAHA': 1335084, 'BRNO': 382405, 'OSTRAVA': 284982}\n",
    "```"
   ]
  },
  {
   "cell_type": "markdown",
   "id": "6afbf1a5",
   "metadata": {},
   "source": [
    "\n",
    "### Dict comprehension verze:"
   ]
  },
  {
   "cell_type": "code",
   "execution_count": null,
   "id": "58b60b95",
   "metadata": {},
   "outputs": [],
   "source": [
    "velka_mesta = {\n",
    "    mesto.upper(): pocet\n",
    "    for mesto, pocet in obyvatele.items()\n",
    "    if pocet > 200_000\n",
    "}\n",
    "\n",
    "print(velka_mesta)"
   ]
  },
  {
   "cell_type": "markdown",
   "id": "94a06df4",
   "metadata": {},
   "source": [
    "Výsledek je stejný – ale zápis je **kratší a přehlednější**."
   ]
  },
  {
   "cell_type": "markdown",
   "id": "dc9bed4a",
   "metadata": {},
   "source": [
    "\n",
    "### Obecný vzorec dict comprehension:\n",
    "\n",
    "```python\n",
    "{novy_klic: nova_hodnota for klic, hodnota in puvodni_dict.items() if podminka}\n",
    "```\n",
    "\n",
    "Poznámka:\n",
    "\n",
    "- `.items()` nám dává dvojice (klíč, hodnota), které můžeme rozbalit.\n",
    "    \n",
    "- V části `novy_klic: nova_hodnota` můžeš hodnoty libovolně upravovat.\n",
    "    \n"
   ]
  },
  {
   "cell_type": "markdown",
   "id": "d3625336",
   "metadata": {},
   "source": [
    "\n",
    "### Příklad: úprava hodnot"
   ]
  },
  {
   "cell_type": "code",
   "execution_count": null,
   "id": "dcfeffa3",
   "metadata": {},
   "outputs": [],
   "source": [
    "ceny = {\n",
    "    \"mléko\": 25,\n",
    "    \"chléb\": 30,\n",
    "    \"máslo\": 60\n",
    "}\n",
    "\n",
    "s_dph = {produkt: cena * 1.15 for produkt, cena in ceny.items()}\n",
    "print(s_dph)"
   ]
  },
  {
   "cell_type": "markdown",
   "id": "1ad2544c",
   "metadata": {},
   "source": [
    "\n",
    "Co to dělá?\n",
    "\n",
    "- Pro každý produkt vezme cenu a vynásobí ji 1.15 (např. přidá 15 % DPH).\n",
    "    \n",
    "- Vytvoří nový slovník `s_dph` se stejnými klíči, ale novými (upravenými) hodnotami.\n",
    "    \n",
    "\n",
    "Výsledek:\n",
    "\n",
    "```python\n",
    "{'mléko': 28.75, 'chléb': 34.5, 'máslo': 68.99999999999999}\n",
    "```\n"
   ]
  },
  {
   "cell_type": "markdown",
   "id": "aceb8b53",
   "metadata": {},
   "source": [
    "\n",
    "### Příklad: s podmínkou (`if`)"
   ]
  },
  {
   "cell_type": "code",
   "execution_count": null,
   "id": "dbfbd6cd",
   "metadata": {},
   "outputs": [],
   "source": [
    "produkty = {\n",
    "    \"banán\": 25,\n",
    "    \"avokádo\": 55,\n",
    "    \"chleba\": 30,\n",
    "    \"kaviár\": 260\n",
    "}\n",
    "\n",
    "drazsi_produkty = {\n",
    "    nazev: cena\n",
    "    for nazev, cena in produkty.items()\n",
    "    if cena > 50\n",
    "}\n",
    "\n",
    "print(drazsi_produkty)"
   ]
  },
  {
   "cell_type": "markdown",
   "id": "80806a81",
   "metadata": {},
   "source": [
    "\n",
    "Co to dělá?\n",
    "\n",
    "- Vybere jen ty produkty, které stojí víc než 50 Kč.\n",
    "    \n",
    "- Vytvoří nový slovník `drazsi_produkty` s původními názvy a cenami.\n",
    "    \n",
    "\n",
    "Výsledek:\n",
    "\n",
    "```python\n",
    "{'avokádo': 55, 'kaviár': 260}\n",
    "```\n"
   ]
  },
  {
   "cell_type": "markdown",
   "id": "f0f05356",
   "metadata": {},
   "source": [
    "---\n",
    "\n",
    "\n",
    "## Co je set comprehension?\n",
    "\n",
    "Stejně jako můžeme pomocí comprehension vytvořit seznam (`list`) nebo slovník (`dict`),  \n",
    "můžeme stejným způsobem vytvořit i **množinu** (anglicky `set`).\n",
    "\n",
    "**Cíl:** vytvořit novou množinu hodnot, přičemž:\n",
    "\n",
    "- automaticky odstraníme duplicity,\n",
    "    \n",
    "- můžeme upravovat hodnoty,\n",
    "    \n",
    "- můžeme použít podmínku `if` pro filtrování.\n",
    "    \n"
   ]
  },
  {
   "cell_type": "markdown",
   "id": "c25408b6",
   "metadata": {},
   "source": [
    "\n",
    "## Klasický způsob vs set comprehension\n",
    "\n",
    "### Klasický způsob:"
   ]
  },
  {
   "cell_type": "code",
   "execution_count": null,
   "id": "2f57df25",
   "metadata": {},
   "outputs": [],
   "source": [
    "ziskane_adresy = {\n",
    "    \"me@matousholinka.com\",\n",
    "    \"petr@svetr.com\",\n",
    "    \"lukas@gmail.com\",\n",
    "    \"nan_email\"\n",
    "}\n",
    "\n",
    "domeny = set()\n",
    "\n",
    "for adresa in ziskane_adresy:\n",
    "    if \"@\" in adresa:\n",
    "        domena = adresa.split(\"@\")[1]\n",
    "        domeny.add(domena)\n",
    "\n",
    "print(domeny)"
   ]
  },
  {
   "cell_type": "markdown",
   "id": "4887a434",
   "metadata": {},
   "source": [
    "\n",
    "Co to dělá?\n",
    "\n",
    "- Pro každou e-mailovou adresu ověří, jestli obsahuje znak `\"@\"`.\n",
    "    \n",
    "- Pokud ano, rozdělí adresu na dvě části a vezme **druhou část** (za zavináčem).\n",
    "    \n",
    "- Tuto doménu přidá do množiny `domeny`.\n",
    "    \n",
    "- Množina zaručí, že se **stejné domény nebudou opakovat**.\n",
    "    \n",
    "\n",
    "Výsledek:\n",
    "\n",
    "```python\n",
    "{'matousholinka.com', 'gmail.com', 'svetr.com'}\n",
    "```\n"
   ]
  },
  {
   "cell_type": "markdown",
   "id": "375569e7",
   "metadata": {},
   "source": [
    "\n",
    "### Set comprehension verze:"
   ]
  },
  {
   "cell_type": "code",
   "execution_count": null,
   "id": "e0d5bbff",
   "metadata": {},
   "outputs": [],
   "source": [
    "domeny = {\n",
    "    adresa.split(\"@\")[1]\n",
    "    for adresa in ziskane_adresy\n",
    "    if \"@\" in adresa\n",
    "}\n",
    "\n",
    "print(domeny)"
   ]
  },
  {
   "cell_type": "markdown",
   "id": "c8b189f0",
   "metadata": {},
   "source": [
    "Výsledek je stejný – ale zápis je **kratší a přehlednější**."
   ]
  },
  {
   "cell_type": "markdown",
   "id": "d9aa7b79",
   "metadata": {},
   "source": [
    "\n",
    "### Obecný vzorec set comprehension:\n",
    "\n",
    "```python\n",
    "{vyraz for prvek in kolekce if podminka}\n",
    "```\n",
    "\n",
    "Poznámka:\n",
    "\n",
    "- Na rozdíl od `list comprehension` se výsledky ukládají do množiny `{}`, nikoli do seznamu `[]`.\n",
    "    \n",
    "- Množiny neobsahují duplicity – každá hodnota je v setu pouze jednou.\n",
    "    \n",
    "- Hodí se, když tě zajímají **unikátní výsledky**.\n",
    "    \n"
   ]
  },
  {
   "cell_type": "markdown",
   "id": "aa1200aa",
   "metadata": {},
   "source": [
    "\n",
    "### Příklad: převod na malá písmena + odstranění duplicit"
   ]
  },
  {
   "cell_type": "code",
   "execution_count": null,
   "id": "9dc82798",
   "metadata": {},
   "outputs": [],
   "source": [
    "slova = [\"PYTHON\", \"python\", \"Python\", \"java\", \"JAVA\"]\n",
    "\n",
    "unikatni_mala = {slovo.lower() for slovo in slova}\n",
    "\n",
    "print(unikatni_mala)"
   ]
  },
  {
   "cell_type": "markdown",
   "id": "1263ccc1",
   "metadata": {},
   "source": [
    "\n",
    "Co to dělá?\n",
    "\n",
    "- Všechna slova převede na malá písmena.\n",
    "    \n",
    "- Díky `set` se opakující slova sloučí do jednoho.\n",
    "    \n",
    "\n",
    "Výsledek:\n",
    "\n",
    "```python\n",
    "{'java', 'python'}\n",
    "```\n"
   ]
  }
 ],
 "metadata": {
  "language_info": {
   "name": "python"
  }
 },
 "nbformat": 4,
 "nbformat_minor": 5
}
