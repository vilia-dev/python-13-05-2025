{
 "cells": [
  {
   "cell_type": "markdown",
   "id": "d23ec2e7",
   "metadata": {},
   "source": [
    "## Zkrácené přiřazení (`+=`, `-=`, `*=`, …)\n",
    "\n",
    "### Co to je?\n",
    "\n",
    "Zkrácené přiřazení je **kratší zápis**, který slouží k **úpravě hodnoty proměnné**, když ji chceme změnit pomocí nějakého operátoru.\n",
    "\n",
    "\n",
    "### Příklad – klasický zápis:"
   ]
  },
  {
   "cell_type": "code",
   "execution_count": null,
   "id": "a0105cda",
   "metadata": {},
   "outputs": [],
   "source": [
    "x = 2\n",
    "x = x + 3"
   ]
  },
  {
   "cell_type": "markdown",
   "id": "f37598f5",
   "metadata": {},
   "source": [
    "Tímto zvýšíme hodnotu `x` o 3. Výsledkem je `x == 5`."
   ]
  },
  {
   "cell_type": "markdown",
   "id": "f82db832",
   "metadata": {},
   "source": [
    "Příklad – zkrácený zápis:"
   ]
  },
  {
   "cell_type": "code",
   "execution_count": null,
   "id": "20ff1e15",
   "metadata": {},
   "outputs": [],
   "source": [
    "x = 2\n",
    "x += 3"
   ]
  },
  {
   "cell_type": "markdown",
   "id": "65c855b4",
   "metadata": {},
   "source": [
    "Výsledek je stejný – `x == 5` – ale zápis je **kratší a přehlednější**."
   ]
  },
  {
   "cell_type": "markdown",
   "id": "36768e5f",
   "metadata": {},
   "source": [
    "### Jak to funguje?"
   ]
  },
  {
   "cell_type": "code",
   "execution_count": null,
   "id": "8207dcb4",
   "metadata": {},
   "outputs": [],
   "source": [
    "x += 1   # znamená totéž jako:  x = x + 1\n",
    "x -= 1   # totéž jako:          x = x - 1\n",
    "x *= 2   # totéž jako:          x = x * 2\n",
    "x /= 5   # totéž jako:          x = x / 5"
   ]
  },
  {
   "cell_type": "markdown",
   "id": "e104f0c5",
   "metadata": {},
   "source": [
    "\n",
    "### Kdy použít zkrácené přiřazení?\n",
    "\n",
    "### ✅ Vhodné:\n",
    "\n",
    "- když **měníme hodnotu proměnné pomocí výpočtu**,\n",
    "    \n",
    "- když **stejnou proměnnou čteme i zapisujeme** (např. `x = x + 1`),\n",
    "    \n",
    "- při **smyčkách (`while`, `for`) nebo akumulaci hodnot** (`soucet += cislo`),\n",
    "    \n",
    "- když chceme mít **čistší, čitelnější kód**.\n",
    "    \n",
    "\n",
    "\n",
    "\n",
    "### ❌ Nevhodné:\n",
    "\n",
    "- pokud je zápis už příliš složitý a ztratí se v něm **čitelnost**,\n",
    "    \n",
    "- pokud by student nemusel **rozpoznat, že dochází ke změně hodnoty**.\n",
    "    \n",
    "\n",
    "\n",
    "\n",
    "### Shrnutí\n",
    "\n",
    "Používej zkrácené přiřazení, když:\n",
    " \n",
    "- proměnnou **aktualizuješ sama sebou** (`x = x + něco`),\n",
    "     \n",
    "- a chceš **čistší a kratší zápis**.\n",
    "     \n",
    "\n"
   ]
  }
 ],
 "metadata": {
  "language_info": {
   "name": "python"
  }
 },
 "nbformat": 4,
 "nbformat_minor": 5
}
