{
 "cells": [
  {
   "cell_type": "markdown",
   "id": "c7a0df05",
   "metadata": {},
   "source": [
    "\n",
    "## 🔹 Úvod – proč někdy seznam nestačí\n",
    "\n",
    "---\n",
    "\n",
    "### ❓ Otázka na zamyšlení:\n",
    "\n",
    "> ✅ **Představte si, že sbíráte e-maily lidí, kteří se přihlásili na kurz.**\n",
    "\n",
    "Zapisujete je do seznamu:\n"
   ]
  },
  {
   "cell_type": "code",
   "execution_count": null,
   "id": "7a99d2d9",
   "metadata": {},
   "outputs": [],
   "source": [
    "emails = [\"anna@example.com\", \"petr@example.com\", \"anna@example.com\"]"
   ]
  },
  {
   "cell_type": "markdown",
   "id": "f177ad4a",
   "metadata": {},
   "source": [
    "\n",
    "\n",
    "Po chvíli zjistíte, že **některé e-maily se opakují**.\n",
    "\n",
    "---\n",
    "\n",
    "### 🔍 Co když chcete:\n",
    "\n",
    "- Zjistit, **kolik unikátních lidí** se přihlásilo?\n",
    "    \n",
    "- Poslat e-mail **jen jednou každému**?\n",
    "    \n",
    "\n",
    "Seznam (`list`) neodstraní duplicity sám od sebe.\n",
    "\n",
    "---\n",
    "\n",
    "### ✅ Řešení: `set`\n",
    "\n",
    "Python nabízí datový typ `set`, který **automaticky odstraní duplicity**:\n"
   ]
  },
  {
   "cell_type": "code",
   "execution_count": null,
   "id": "586cd826",
   "metadata": {},
   "outputs": [],
   "source": [
    "unikatni = set(emails)\n",
    "print(unikatni)\n",
    "# ➝ {'anna@example.com', 'petr@example.com'}"
   ]
  },
  {
   "cell_type": "markdown",
   "id": "f4e03a1b",
   "metadata": {},
   "source": [
    "\n",
    "\n",
    "---\n",
    "## 🧾 Co je `set` (množina) v Pythonu?\n",
    "\n",
    "---\n",
    "\n",
    "### 📌 Krátká definice:\n",
    "\n",
    "`set` (množina) je **datová struktura v Pythonu**, která slouží k uchování **unikátních hodnot**.  \n",
    "Nezáleží v ní na pořadí, a každá hodnota v ní může být **jen jednou**.\n",
    "\n",
    "---\n",
    "\n",
    "### ✅ Hlavní vlastnosti množiny (`set`):\n",
    "\n",
    "- **neobsahuje duplikáty** – každá hodnota je uložena maximálně jednou\n",
    "    \n",
    "- **nezaručuje pořadí** – hodnoty nemají pevné pořadí jako v seznamu\n",
    "    \n",
    "- **nelze je indexovat** – nemůžeme psát `mnozina[0]`\n",
    "    \n",
    "- **umožňuje rychlé testování přítomnosti hodnoty** (`x in mnozina`)\n",
    "    \n",
    "\n",
    "---\n",
    "\n",
    "## 🧪 Základní syntaxe množiny\n",
    "\n",
    "---\n",
    "\n",
    "### 🔹 1. Vytvoření množiny pomocí složených závorek `{}`:\n"
   ]
  },
  {
   "cell_type": "code",
   "execution_count": null,
   "id": "cbf0ee3a",
   "metadata": {},
   "outputs": [],
   "source": [
    "barvy = {\"červená\", \"modrá\", \"zelená\"}\n",
    "print(barvy)  # ➝ {'zelená', 'modrá', 'červená'}"
   ]
  },
  {
   "cell_type": "markdown",
   "id": "d59603b7",
   "metadata": {},
   "source": [
    "\n",
    "\n",
    "📌 Pořadí může být jiné – v množině **nezáleží na pořadí prvků**.\n",
    "\n",
    "---\n",
    "\n",
    "### 🔹 2. Vytvoření prázdné množiny:\n"
   ]
  },
  {
   "cell_type": "code",
   "execution_count": null,
   "id": "e98b74b7",
   "metadata": {},
   "outputs": [],
   "source": [
    "prazdna = set()  # ✅ správně"
   ]
  },
  {
   "cell_type": "markdown",
   "id": "335c6c0b",
   "metadata": {},
   "source": [
    "\n",
    "\n",
    "📌 `set()` je potřeba použít – protože `{}` samo o sobě vytvoří **prázdný slovník**, ne množinu!\n"
   ]
  },
  {
   "cell_type": "code",
   "execution_count": null,
   "id": "3d32f0e2",
   "metadata": {},
   "outputs": [],
   "source": [
    "chyba = {}         # ➝ typ: dict (slovník)\n",
    "spravne = set()    # ➝ typ: set (množina)"
   ]
  },
  {
   "cell_type": "markdown",
   "id": "45336c14",
   "metadata": {},
   "source": [
    "\n",
    "\n",
    "---\n",
    "\n",
    "### 🔹 3. Převod ze seznamu na množinu:\n"
   ]
  },
  {
   "cell_type": "code",
   "execution_count": null,
   "id": "8f7484af",
   "metadata": {},
   "outputs": [],
   "source": [
    "cisla = [1, 2, 3, 2, 1]\n",
    "unikatni = set(cisla)\n",
    "print(unikatni)  # ➝ {1, 2, 3}"
   ]
  },
  {
   "cell_type": "markdown",
   "id": "5bcbfb90",
   "metadata": {},
   "source": [
    "\n",
    "---\n",
    "\n",
    "## 📦 Jaké hodnoty může `set` obsahovat?\n",
    "\n",
    "---\n",
    "\n",
    "### 🧠 Připomeňme si:\n",
    "\n",
    "Množina (`set`) je **kolekce jedinečných hodnot**, ve které každá hodnota:\n",
    "\n",
    "- **musí být unikátní**\n",
    "    \n",
    "- **musí být neměnitelná (immutable)**\n",
    "    \n",
    "- **musí být hashovatelná**\n",
    "    \n",
    "\n",
    "---\n",
    "\n",
    "### 🔹 Neměnitelnost (immutable)\n",
    "\n",
    "Pokud se hodnota **může měnit**, Python ji nemůže bezpečně sledovat ani porovnávat – a tím pádem ji nemůže vložit do `set`.\n",
    "\n",
    "---\n",
    "\n",
    "### 🔹 Hashování\n",
    "\n",
    "📌 **Proč nemůžeme do množiny vložit `list` nebo `dict`?**\n",
    "\n",
    "Python potřebuje každou hodnotu v množině **jednoznačně rozpoznat** – podobně jako by každé hodnotě přidělil vlastní „číslo“. K tomu používá tzv. **hashovací funkci** (vnitřní systém, který přepočítá hodnotu na kód).\n",
    "\n",
    "To ale **funguje jen pro hodnoty, které se nemění** – například čísla, řetězce nebo n-tice.\n",
    "\n",
    "Python si každou hodnotu v množině **vnitřně převádí na číslo** pomocí funkce `hash()`.  \n",
    "Pokud to nejde (např. u seznamu), vyhodí chybu: `TypeError: unhashable type`.\n",
    "\n",
    "🔴 `list`, `dict`, `set` se může kdykoli změnit, takže ho Python nemůže bezpečně označit nebo uložit – proto ho do množiny nedovolí vložit.\n",
    "\n",
    "---\n",
    "\n",
    "## ✅ Povolené typy v `set`\n",
    "\n",
    "Do `set` můžeš bez problému uložit:\n"
   ]
  },
  {
   "cell_type": "code",
   "execution_count": null,
   "id": "fcd135f2",
   "metadata": {},
   "outputs": [],
   "source": [
    "cisla = {1, 2, 3}           # celá čísla\n",
    "pismena = {\"a\", \"b\", \"c\"}   # řetězce\n",
    "desetinna = {1.2, 3.4, 5.6} # float\n",
    "prvky = {(1, 2), (3, 4)}    # n-tice (pokud neobsahují list!)"
   ]
  },
  {
   "cell_type": "markdown",
   "id": "e7773ee3",
   "metadata": {},
   "source": [
    "\n",
    "---\n",
    "\n",
    "## ❌ Nepovolené typy v `set`\n",
    "\n",
    "Následující hodnoty **nelze** vložit do množiny – Python vyhodí chybu `TypeError`, protože:\n",
    "\n",
    "- **se mohou kdykoliv změnit**\n",
    "    \n",
    "- **nelze je jednoznačně identifikovat**\n",
    "    \n"
   ]
  },
  {
   "cell_type": "code",
   "execution_count": null,
   "id": "aec200d4",
   "metadata": {},
   "outputs": [],
   "source": [
    "chyba = {[1, 2], 3}         # ❌ list uvnitř setu – TypeError\n",
    "chyba = {{1, 2}, 3}         # ❌ set uvnitř setu – TypeError\n",
    "chyba = {{'a': 1}, 3}       # ❌ dict uvnitř setu – TypeError"
   ]
  },
  {
   "cell_type": "markdown",
   "id": "1f8a552f",
   "metadata": {},
   "source": [
    "\n",
    "---\n",
    "\n",
    "### 🧪 Důkaz pomocí `hash()`:\n"
   ]
  },
  {
   "cell_type": "code",
   "execution_count": null,
   "id": "db1333c5",
   "metadata": {},
   "outputs": [],
   "source": [
    "print(hash(1))          # ✅ funguje\n",
    "print(hash(\"abc\"))      # ✅ funguje\n",
    "print(hash((1, 2)))     # ✅ funguje\n",
    "\n",
    "print(hash([1, 2]))     # ❌ TypeError: unhashable type: 'list'\n",
    "print(hash({\"a\": 1}))   # ❌ TypeError: unhashable type: 'dict'"
   ]
  },
  {
   "cell_type": "markdown",
   "id": "b7003de0",
   "metadata": {},
   "source": [
    "\n",
    "---\n",
    "\n",
    "## 🧩 Shrnutí\n",
    "\n",
    "|Datový typ|Povoleno v `set`?|Důvod|\n",
    "|---|---|---|\n",
    "|`int`, `str`, `float`, `bool`|✅|Jsou neměnitelné a hashovatelné|\n",
    "|`tuple`|✅|Pokud neobsahuje měnitelné prvky|\n",
    "|`list`, `dict`, `set`|❌|Jsou měnitelné → nelze hashovat|\n",
    "\n",
    "---\n",
    "\n",
    "## 🛠️ Metody pro práci s množinami\n",
    "\n",
    "---\n",
    "\n",
    "Množiny (`set`) v Pythonu mají několik **užitečných metod**, pomocí kterých můžete přidávat, mazat nebo upravovat hodnoty.\n",
    "\n",
    "Metody si rozdělíme do dvou částí:\n",
    "1. Základní metody – práce s hodnotami v jedné množině\n",
    "2. Množinové operace – porovnávání dvou množin\n",
    "\n",
    "---\n",
    "\n",
    "### 1️⃣ Základní metody – práce s hodnotami v jedné množině\n",
    "\n",
    "|Metoda|Co dělá|\n",
    "|---|---|\n",
    "|`.add(x)`|Přidá hodnotu do množiny|\n",
    "|`.remove(x)`|Odstraní hodnotu – chyba, pokud tam není|\n",
    "|`.discard(x)`|Odstraní hodnotu – bez chyby, pokud tam není|\n",
    "|`.pop()`|Odstraní a vrátí náhodný prvek|\n",
    "|`.clear()`|Vyprázdní celou množinu|\n",
    "|`.copy()`|Vytvoří kopii množiny|\n",
    "\n",
    "---\n",
    "\n",

    "## ➕ Metoda `.add()`\n",
    "\n",
    "---\n",
    "\n",
    "### 1. **Krátké vysvětlení**\n",
    "\n",
    "Metoda `.add()` slouží k **přidání nové hodnoty do množiny**.  \n",
    "Pokud daná hodnota v množině **už existuje**, nic se nezmění – množina duplikáty neukládá.\n",
    "\n",
    "---\n",
    "\n",
    "### 2. **Příklad použití**\n"
   ]
  },
  {
   "cell_type": "code",
   "execution_count": null,
   "id": "8ccb2cc0",
   "metadata": {},
   "outputs": [],
   "source": [
    "muj_set = {\"a\", \"b\", \"c\"}\n",
    "muj_set.add(\"d\")\n",
    "\n",
    "print(muj_set)\n",
    "# ➝ {'a', 'b', 'c', 'd'}\n",
    "\n",
    "# Zkusíme přidat \"a\" znovu\n",
    "muj_set.add(\"a\")\n",
    "print(muj_set)\n",
    "# ➝ {'a', 'b', 'c', 'd'} – nic se nezmění"
   ]
  },
  {
   "cell_type": "markdown",
   "id": "1abbb96a",
   "metadata": {},
   "source": [
    "\n",
    "---\n",
    "\n",
    "### 3. **Poznámka**\n",
    "\n",
    "- `.add()` může přidat pouze **jednu hodnotu najednou**.\n",
    "    \n",
    "- Pokud chcete přidat více hodnot, použijte metodu `.update()` (probereme později).\n",
    "    \n",
    "- Nepřidá duplicitu – hodnota v setu **bude jen jednou**.\n",
    "    \n",
    "\n",
    "---\n",
    "\n",
    "### 📎 Porovnání s jinými strukturami\n",
    "\n",
    "Přidávání hodnot do různých datových typů v Pythonu má **odlišnou syntaxi**:\n",
    "\n",
    "| Datový typ | Způsob přidání            | Ukázka                        | Poznámka                     |\n",
    "| ---------- | ------------------------- | ----------------------------- | ---------------------------- |\n",
    "| `list`     | `.append(hodnota)`        | `seznam.append(\"x\")`          | Přidá jednu hodnotu na konec |\n",
    "|            | `.insert(index, hodnota)` | `seznam.insert(1, \"x\")`       | Vloží hodnotu na daný index  |\n",
    "| `dict`     | Přiřazením přes klíč      | `slovnik[\"klic\"] = \"hodnota\"` | Přidá nový pár klíč–hodnota  |\n",
    "| `set`      | `.add(hodnota)`           | `mnozina.add(\"x\")`            | Přidá pouze jednu hodnotu    |\n",
    "| `tuple`    | 🚫 Nelze přidat přímo     |                               |                              |\n",
    "\n",
    "---\n",
    "\n",
    "📎 **Poznámky:**\n",
    "\n",
    "- `list`, `dict` a `set` jsou **mutable** – dají se měnit.\n",
    "    \n",
    "- `tuple` je **immutable** – nemění se, místo toho se **vytváří nová**.\n",
    "    \n",
    "- U `dict` přidáváš hodnotu s konkrétním klíčem.\n",
    "    \n",
    "- U `set` a `list` přidáváš **pouze hodnoty**, ale každá struktura to dělá jinak.\n",
    "    \n",
    "\n",
    "---\n",
    "\n",
    "📌 `set` má vlastní metodu `.add()`, protože **nemá klíče ani indexy** – přidáváme jen **jednotlivé hodnoty**.\n",
    "\n",
    "---\n",
    "\n",
    "## 🗑️ Metoda `.remove()`\n",
    "\n",
    "---\n",
    "\n",
    "### 1. **Krátké vysvětlení**\n",
    "\n",
    "Metoda `.remove()` slouží k **odstranění konkrétní hodnoty** z množiny.\n",
    "\n",
    "Pokud hodnota v množině **existuje**, bude odstraněna.  \n",
    "Pokud tam **není**, Python vyhodí chybu `KeyError`.\n",
    "\n",
    "---\n",
    "\n",
    "### 2. **Příklad použití**\n"
   ]
  },
  {
   "cell_type": "code",
   "execution_count": null,
   "id": "372a3b6d",
   "metadata": {},
   "outputs": [],
   "source": [
    "muj_set = {\"jablko\", \"banán\", \"třešeň\"}\n",
    "muj_set.remove(\"banán\")\n",
    "\n",
    "print(muj_set)\n",
    "# ➝ {'jablko', 'třešeň'}"
   ]
  },
  {
   "cell_type": "markdown",
   "id": "200d3e25",
   "metadata": {},
   "source": [
    "\n",
    "---\n",
    "\n",
    "### 3. **Pozor na chybu**\n",
    "\n",
    "Pokud se pokusíme odstranit hodnotu, která v množině **není**, Python zobrazí chybu:\n"
   ]
  },
  {
   "cell_type": "code",
   "execution_count": null,
   "id": "c4f6de04",
   "metadata": {},
   "outputs": [],
   "source": [
    "muj_set.remove(\"hruška\")  # ❌ KeyError: 'hruška'"
   ]
  },
  {
   "cell_type": "markdown",
   "id": "3fbb45b3",
   "metadata": {},
   "source": [
    "\n",
    "✅ Pokud se chcete vyhnout chybě při neexistující hodnotě, použijte místo toho metodu `.discard()` (probereme hned potom).\n",
    "\n",
    "---\n",
    "\n",
    "### 📎 Porovnání s jinými strukturami\n",
    "\n",
    "|Datový typ|Způsob odstranění|Ukázka|Poznámka|\n",
    "|---|---|---|---|\n",
    "|`list`|`.remove(hodnota)`|`seznam.remove(\"x\")`|Odstraní první výskyt, chyba pokud není|\n",
    "||`del seznam[index]`|`del seznam[0]`|Odstraní podle indexu|\n",
    "|`dict`|`.pop(\"klic\")`|`slovnik.pop(\"vek\")`|Vrátí hodnotu a smaže|\n",
    "||`del slovnik[\"klic\"]`|`del slovnik[\"vek\"]`|Nevrací hodnotu|\n",
    "|`set`|`.remove(hodnota)`|`mnozina.remove(\"x\")`|Odstraní prvek, chyba pokud není|\n",
    "||`.discard(hodnota)`|`mnozina.discard(\"x\")`|Bez chyby (doporučeno)|\n",
    "|`tuple`|🚫 nelze|—|Nelze mazat, tuple je neměnitelná|\n",
    "\n",
    "---\n",
    "\n",
    "📌 **Shrnutí**: `.remove()` je silná, ale neodpouští – pokud nevíš jistě, že hodnota v množině je, použij `.discard()`.\n",
    "\n",
    "---\n",
    "\n",
    "## 🚫 Metoda `.discard()`\n",
    "\n",
    "---\n",
    "\n",
    "### 1. **Krátké vysvětlení**\n",
    "\n",
    "Metoda `.discard()` slouží k **odstranění konkrétní hodnoty** z množiny – podobně jako `.remove()`.\n",
    "\n",
    "Rozdíl je v tom, že `.discard()` je **bezpečnější**:  \n",
    "👉 **Nevyhodí chybu**, pokud daná hodnota v množině **neexistuje**.\n",
    "\n",
    "---\n",
    "\n",
    "### 2. **Příklad použití**\n"
   ]
  },
  {
   "cell_type": "code",
   "execution_count": null,
   "id": "285304d5",
   "metadata": {},
   "outputs": [],
   "source": [
    "ovoce = {\"jablko\", \"banán\", \"třešeň\"}\n",
    "\n",
    "ovoce.discard(\"banán\")\n",
    "print(ovoce)\n",
    "# ➝ {'jablko', 'třešeň'}\n",
    "\n",
    "# Pokusíme se odstranit prvek, který v množině není\n",
    "ovoce.discard(\"hruška\")\n",
    "print(ovoce)\n",
    "# ➝ {'jablko', 'třešeň'} – nic se nestane"
   ]
  },
  {
   "cell_type": "markdown",
   "id": "bd1ce518",
   "metadata": {},
   "source": [
    "\n",
    "---\n",
    "\n",
    "### 3. **Rozdíl mezi `.remove()` a `.discard()`**\n",
    "\n",
    "|Metoda|Odstraní prvek?|Chyba, když prvek neexistuje?|\n",
    "|---|---|---|\n",
    "|`.remove()`|✅ Ano|❌ Ano – `KeyError`|\n",
    "|`.discard()`|✅ Ano|✅ Ne – beze změny|\n",
    "\n",
    "---\n",
    "### 📌 Kdy použít kterou?\n",
    "\n",
    "- ✅ **Použijte `.discard()`**, když:\n",
    "    \n",
    "    - **si nejste jistí**, jestli daná hodnota v množině je\n",
    "        \n",
    "    - **nechcete řešit chyby** (`try-except`) ani dělat kontrolu přes `if x in mnozina`\n",
    "        \n",
    "    - pracujete s daty, kde se mohou objevit **nepředvídatelné nebo chybějící hodnoty**\n",
    "        \n",
    "- 🟠 **Použijte `.remove()`**, pokud:\n",
    "    \n",
    "    - **máte jistotu**, že daná hodnota v množině opravdu je\n",
    "        \n",
    "    - chcete, aby chyba upozornila na **chybný stav** nebo nečekanou situaci\n",
    "        \n",
    "\n",
    "---\n",
    
    "\n",
    "---\n",
    "\n",
    "## 🎯 Metoda `.pop()`\n",
    "\n",
    "---\n",
    "\n",
    "### 1. **Krátké vysvětlení**\n",
    "\n",
    "Metoda `.pop()` odstraní **nějaký (náhodně vybraný) prvek** z množiny a zároveň ho **vrátí jako výstup**.\n",
    "\n",
    "Na rozdíl od seznamu (`list.pop()`), kde určujete index, u množiny **nemáte kontrolu nad tím, co se odstraní**.\n",
    "\n",
    "---\n",
    "\n",
    "### 2. **Příklad použití**\n"
   ]
  },
  {
   "cell_type": "code",
   "execution_count": null,
   "id": "f7bdabaf",
   "metadata": {},
   "outputs": [],
   "source": [
    "ovoce = {\"jablko\", \"banán\", \"třešeň\"}\n",
    "\n",
    "odebrany = ovoce.pop()\n",
    "print(\"Odebráno:\", odebrany)\n",
    "print(\"Zůstává:\", ovoce)"
   ]
  },
  {
   "cell_type": "markdown",
   "id": "e895e87f",
   "metadata": {},
   "source": [
    "\n",
    "📌 Výstup se může lišit při každém spuštění – Python vybírá prvek náhodně (z vnitřního pohledu).\n",
    "\n",
    "---\n",
    "\n",
    "### 3. **Pozor na častý omyl**\n"
   ]
  },
  {
   "cell_type": "code",
   "execution_count": null,
   "id": "6fb58a58",
   "metadata": {},
   "outputs": [],
   "source": [
    "prazdna = set()\n",
    "prazdna.pop()  # ❌ KeyError: 'pop from an empty set'"
   ]
  },
  {
   "cell_type": "markdown",
   "id": "a53e4c72",
   "metadata": {},
   "source": [
    "\n",
    "\n",
    "🔴 `.pop()` vyhodí chybu, pokud je množina prázdná.  \n",
    "✅ Pokud si nejste jistí, že množina není prázdná, ověřte to nejdříve:\n"
   ]
  },
  {
   "cell_type": "code",
   "execution_count": null,
   "id": "4fbe43dd",
   "metadata": {},
   "outputs": [],
   "source": [
    "if ovoce:\n",
    "    print(ovoce.pop())"
   ]
  },
  {
   "cell_type": "markdown",
   "id": "29531739",
   "metadata": {},
   "source": [
    "\n",
    "---\n",
    "\n",
    "### 📌 Shrnutí\n",
    "\n",
    "|Vlastnost|Chování|\n",
    "|---|---|\n",
    "|Náhodné odstranění|✅ Ano – nemáte kontrolu, co bude odebráno|\n",
    "|Prázdná množina|❌ KeyError|\n",
    "|Vrací odebranou hodnotu|✅ Ano|\n",
    "\n",
    "---\n",
    "## 🧶 Reálný příklad: Zpracování anonymních návrhů\n",
    "\n",
    "Představte si, že sbíráte **anonymní návrhy studentů** do množiny. Každý návrh je jedinečný a **nezáleží na pořadí**, ve kterém je projdete.\n"
   ]
  },
  {
   "cell_type": "code",
   "execution_count": null,
   "id": "5adae452",
   "metadata": {},
   "outputs": [],
   "source": [
    "navrhy = {\n",
    "    \"víc praktických úkolů\",\n",
    "    \"pomalejší tempo\",\n",
    "    \"víc vysvětlování na příkladech\"\n",
    "}"
   ]
  },
  {
   "cell_type": "markdown",
   "id": "6521034d",
   "metadata": {},
   "source": [
    "\n",
    "Chcete všechny návrhy **projít a vyhodnotit**, ale **nevíte, co přesně obsahují** – a hlavně, **pořadí vás nezajímá**.\n",
    "\n",
    "---\n",
    "\n",
    "### ❓ Jak na to?\n",
    "\n",
    "Stačí **postupně volat `.pop()`** a zpracovávat návrhy:\n"
   ]
  },
  {
   "cell_type": "code",
   "execution_count": null,
   "id": "93f0d7c0",
   "metadata": {},
   "outputs": [],
   "source": [
    "navrh_1 = navrhy.pop()\n",
    "print(\"Zpracováváme návrh:\", navrh_1)\n",
    "\n",
    "navrh_2 = navrhy.pop()\n",
    "print(\"Zpracováváme návrh:\", navrh_2)\n",
    "\n",
    "navrh_3 = navrhy.pop()\n",
    "print(\"Zpracováváme návrh:\", navrh_3)"
   ]
  },
  {
   "cell_type": "markdown",
   "id": "7f1ace20",
   "metadata": {},
   "source": [
    "\n",
    "Každé volání `.pop()`:\n",
    "\n",
    "- **odstraní jeden návrh** z množiny,\n",
    "    \n",
    "- **vrátí ho**, takže s ním hned můžete pracovat.\n",
    "    \n",
    "\n",
    "---\n",
    "\n",
    "### 🧠 Co si z toho odnést?\n",
    "\n",
    "- Nemusíte vědět, **co přesně v množině je** – jednoduše si návrhy „berete“.\n",
    "    \n",
    "- **Pořadí nehraje roli** – nemusíte řešit indexy ani pozice.\n",
    "    \n",
    "- `.pop()` vám umožní množinu **vyprazdňovat a zároveň pracovat s obsahem**.\n",
    "    \n",
    "\n",
    "---\n",
    "Výborně, pokračujme metodou `.clear()` v požadovaném stylu a **v množném čísle**:\n",
    "\n",
    "---\n",
    "## 🧹 Metoda `.clear()`\n",
    "\n",
    "---\n",
    "\n",
    "### 1. **Krátké vysvětlení**\n",
    "\n",
    "Metoda `.clear()` **odstraní všechny prvky z množiny**.  \n",
    "Používá se ve chvíli, kdy chcete množinu **zcela vyprázdnit** a začít znovu.\n",
    "\n",
    "Po použití zůstane prázdná množina (`set()`).\n",
    "\n",
    "---\n",
    "\n",
    "### 2. **Příklad použití**\n"
   ]
  },
  {
   "cell_type": "code",
   "execution_count": null,
   "id": "3ab2b8b8",
   "metadata": {},
   "outputs": [],
   "source": [
    "ovoce = {\"jablko\", \"banán\", \"třešeň\"}\n",
    "ovoce.clear()\n",
    "\n",
    "print(ovoce)\n",
    "# ➝ set()"
   ]
  },
  {
   "cell_type": "markdown",
   "id": "243b2dca",
   "metadata": {},
   "source": [
    "\n",
    "---\n",
    "\n",
    "### 3. **Poznámka**\n",
    "\n",
    "- Metoda `.clear()` **nevrací žádnou hodnotu** – pouze upraví původní množinu.\n",
    "    \n",
    "- Hodí se, pokud chcete množinu **resetovat**, například při nové várce dat.\n",
    "    \n",
    "- Pokud si chcete původní data ponechat, nejprve si množinu **zkopírujte pomocí `.copy()`**.\n",
    "    \n",
    "\n",
    "---\n",
    "\n",
    "### 📌 Shrnutí\n",
    "\n",
    "|Operace|Výsledek|\n",
    "|---|---|\n",
    "|`mnozina.clear()`|✅ Vyprázdní celou množinu|\n",
    "|`print(mnozina)`|➝ `set()` (prázdná množina)|\n",
    "\n",
    "---\n",
    "\n",
    "## 📄 Metoda `.copy()`\n",
    "\n",
    "---\n",
    "\n",
    "### 1. **Krátké vysvětlení**\n",
    "\n",
    "Metoda `.copy()` vytvoří **kopii množiny** – tedy nový objekt, který má **stejný obsah**, ale je **oddělený od původní množiny**.\n",
    "\n",
    "Změny v kopii **neovlivní původní množinu** a naopak.\n",
    "\n",
    "---\n",
    "\n",
    "### 2. **Příklad použití**\n"
   ]
  },
  {
   "cell_type": "code",
   "execution_count": null,
   "id": "7d73b66d",
   "metadata": {},
   "outputs": [],
   "source": [
    "mnozina_1 = {\"jablko\", \"banán\", \"třešeň\"}\n",
    "mnozina_2 = mnozina_1.copy()\n",
    "\n",
    "mnozina_2.add(\"hruška\")\n",
    "\n",
    "print(\"Původní:\", mnozina_1)\n",
    "# ➝ {'jablko', 'banán', 'třešeň'}\n",
    "\n",
    "print(\"Kopie:\", mnozina_2)\n",
    "# ➝ {'jablko', 'banán', 'třešeň', 'hruška'}"
   ]
  },
  {
   "cell_type": "markdown",
   "id": "67466961",
   "metadata": {},
   "source": [
    "\n",
    "📌 Obě množiny teď existují **nezávisle** – změny v jedné neovlivní druhou.\n",
    "\n",
    "---\n",
    "\n",
    "### 3. **Pozor na častý omyl**\n",
    "\n",
    "Pokud množinu „zkopírujete“ běžným přiřazením, vytvoříte pouze **druhý název pro stejnou množinu** – ne novou kopii:\n"
   ]
  },
  {
   "cell_type": "code",
   "execution_count": null,
   "id": "104c2fbd",
   "metadata": {},
   "outputs": [],
   "source": [
    "m1 = {\"x\", \"y\"}\n",
    "m2 = m1      # ⚠️ jen odkaz, ne kopie\n",
    "m2.add(\"z\")\n",
    "\n",
    "print(m1)    # ➝ {'x', 'y', 'z'} – změní se i původní"
   ]
  },
  {
   "cell_type": "markdown",
   "id": "db9f6c03",
   "metadata": {},
   "source": [
    "\n",
    "✅ Proto vždy používejte `.copy()`, pokud chcete mít **dvě oddělené množiny**.\n",
    "\n",
    "---\n",
    "\n",
    "### 📌 Shrnutí\n",
    "\n",
    "|Operace|Výsledek|\n",
    "|---|---|\n",
    "|`kopie = s.copy()`|✅ Nová nezávislá množina|\n",
    "|`kopie = s`|❌ Pouze další název pro stejný objekt|\n",
    "\n",
    "---\n",
    "\n",
    "Jistě! Tady je **stručný úvod** k množinovým operacím a **přehledná tabulka nejčastějších metod**, které umožňují porovnávat dvě množiny:\n",
    "\n",
    "---\n",
    "## 🔗 Množinové operace – porovnávání dvou množin\n",
    "\n",
    "---\n",
    "\n",
    "Kromě přidávání a mazání hodnot umožňují množiny také **porovnávat mezi sebou obsah**.  \n",
    "Pomocí tzv. **množinových operací** můžeme:\n",
    "\n",
    "- spojit dvě množiny dohromady,\n",
    "    \n",
    "- najít společné nebo odlišné prvky,\n",
    "    \n",
    "- porovnat jejich vztahy.\n",
    "    \n",
    "\n",
    "---\n",
    "\n",
    "### 🧩 Množinové metody – přehled\n",
    "\n",
    "|Metoda|Co dělá|\n",
    "|---|---|\n",
    "|`difference()`|vytvoří set obsahující **rozdílné hodnoty** ze dvou setů|\n",
    "|`difference_update()`|odstraní všechny hodnoty obsažené ve druhém setu z prvního|\n",
    "|`intersection()`|vytvoří set obsahující **identické hodnoty** ze dvou setů|\n",
    "|`intersection_update()`|aktualizuje stávající set s hodnotami z **průniku** s jiným setem|\n",
    "|`union()`|vrátí nový set jako **spojení** dvou původních setů|\n",
    "|`symmetric_difference()`|vrátí nový set s hodnotami, které jsou **v jednom nebo druhém**, ale ne v obou|\n",
    "|`symmetric_difference_update()`|aktualizuje set s hodnotami ze **symetrického rozdílu** s jiným setem|\n",
    "|`isdisjoint()`|vrací `True`, pokud dva sety **nemají žádné společné hodnoty**|\n",
    "|`issubset()`|vrací `True`, pokud **všechny prvky prvního setu** jsou ve druhém|\n",
    "![Sets](https://i.imgur.com/yhV0pvW.png)\n"
   ]
  },
  {
   "cell_type": "code",
   "execution_count": null,
   "id": "44ddcaa6",
   "metadata": {},
   "outputs": [],
   "source": [
    "muj_set_A = {\"žena\", \"růže\", \"píseň\", \"kost\", \"Lucie\", \"Matouš\"}\n",
    "\n",
    "muj_set_B = {\"žena\", \"růže\", \"píseň\", \"kost\", \"Lukáš\"}"
   ]
  },
  {
   "cell_type": "markdown",
   "id": "b8f54a5e",
   "metadata": {},
   "source": [
    "\n",
    "---\n",
    "## 🔗 Metoda `.union()`\n",
    "\n",
    "---\n",
    "\n",
    "### 1. **Krátké vysvětlení**\n",
    "\n",
    "Metoda `.union()` slouží ke **sjednocení dvou množin**.  \n",
    "Vrátí novou množinu, která obsahuje **všechny prvky z obou množin**, bez duplicit.\n",
    "\n",
    "📌 Výsledek je vždy množina – **na pořadí nezáleží**.\n",
    "\n",
    "---\n",
    "\n",
    "### 2. **Příklad použití**\n"
   ]
  },
  {
   "cell_type": "code",
   "execution_count": null,
   "id": "ed66d989",
   "metadata": {},
   "outputs": [],
   "source": [
    "muj_set_A = {\"žena\", \"růže\", \"píseň\", \"kost\", \"Lucie\", \"Matouš\"}\n",
    "muj_set_B = {\"žena\", \"růže\", \"píseň\", \"kost\", \"Lukáš\"}\n",
    "\n",
    "print(muj_set_A.union(muj_set_B))\n",
    "print(muj_set_B.union(muj_set_A))"
   ]
  },
  {
   "cell_type": "markdown",
   "id": "afb1a339",
   "metadata": {},
   "source": [
    "\n",
    "\n",
    "🟢 Výsledek obou příkazů bude stejný:\n"
   ]
  },
  {
   "cell_type": "code",
   "execution_count": null,
   "id": "14766552",
   "metadata": {},
   "outputs": [],
   "source": [
    "{'žena', 'růže', 'píseň', 'kost', 'Lucie', 'Matouš', 'Lukáš'}"
   ]
  },
  {
   "cell_type": "markdown",
   "id": "f8d9164d",
   "metadata": {},
   "source": [
    "\n",
    "---\n",
    "\n",
    "![Union diagram](https://i.imgur.com/Qgvr0Jz.png)\n",
    "\n",
    "🔍 Množina výsledku obsahuje **všechny unikátní prvky** ze `SET A` i `SET B`.\n",
    "\n",
    "---\n",
    "\n",
    "### 3. **Poznámka: Nezáleží na pořadí**\n"
   ]
  },
  {
   "cell_type": "markdown",
   "id": "ee0a105c",
   "metadata": {},
   "source": [
    "\n",
    "```python\n",
    "A.union(B) == B.union(A)\n",
    "```\n",
    "\n",
    "✅ Je jedno, kterou množinu použijete jako první – výsledek je vždy stejný.  \n",
    "➡️ Množiny nemají pořadí a eliminují duplicity.\n",
    "\n",
    "### 4. **Zkrácený zápis pomocí operátoru `|`**\n",
    "\n",
    "Python umožňuje sjednocení zapsat i zkráceně:\n",
    "\n",
    "```python\n",
    "sjednocene = A | B\n",
    "```\n",
    "\n",
    "---\n",
    "### 📌 Výsledek je stejný jako u `A.union(B)`\n",
    "\n",
    "Metoda `.union()` vrací **novou množinu**, takže původní `muj_set_A` a `muj_set_B` zůstávají tak, jak byly.\n",
    "\n",
    "📌 Pokud chcete s výsledkem dále pracovat, **uložte si ho do nové proměnné**:\n"
   ]
  },
  {
   "cell_type": "code",
   "execution_count": null,
   "id": "a1ef7f91",
   "metadata": {},
   "outputs": [],
   "source": [
    "spojene = muj_set_A.union(muj_set_B)\n",
    "print(spojene)"
   ]
  },
  {
   "cell_type": "markdown",
   "id": "1cd8c98a",
   "metadata": {},
   "source": [
    "\n",
    "### 📌 Shrnutí\n",
    "\n",
    "|Vlastnost|Chování|\n",
    "|---|---|\n",
    "|Výstup|Nová množina se všemi prvky|\n",
    "|Duplicitní hodnoty|❌ Odstraněny automaticky|\n",
    "|Změna původních množin|❌ Ne – původní zůstávají stejné|\n",
    "|Pořadí operandů|✅ Nezáleží – výsledek je stejný|\n",
    "\n",
    "---\n",
    "## 🤝 Metoda `.intersection()`\n",
    "\n",
    "---\n",
    "\n",
    "### 1. **Krátké vysvětlení**\n",
    "\n",
    "Metoda `.intersection()` vytvoří **novou množinu**, která obsahuje **pouze prvky společné** oběma množinám.  \n",
    "Používá se, pokud potřebujete zjistit **co mají dvě množiny společného**.\n",
    "\n",
    "---\n",
    "\n",
    "### 2. **Příklad použití**\n"
   ]
  },
  {
   "cell_type": "code",
   "execution_count": null,
   "id": "99030b0e",
   "metadata": {},
   "outputs": [],
   "source": [
    "set_A = {\"Matouš\", \"Lucie\", \"žena\", \"růže\", \"píseň\", \"kost\"}\n",
    "set_B = {\"Lukáš\", \"žena\", \"růže\", \"píseň\", \"kost\"}\n",
    "\n",
    "print(set_A.intersection(set_B))"
   ]
  },
  {
   "cell_type": "markdown",
   "id": "9d2ee40b",
   "metadata": {},
   "source": [
    "\n",
    "![Intersection diagram](https://i.imgur.com/MYKRUqb.png)\n",
    "\n",
    "📎 Výstup:\n",
    "\n",
    "```\n",
    "{'růže', 'žena', 'kost', 'píseň'}\n",
    "```\n",
    "\n",
    "✅ Získali jsme jen ty hodnoty, které se **vyskytují v obou množinách**.\n",
    "\n",
    "🟢 Můžeme použít i zkrácený zápis pomocí `&`:\n"
   ]
  },
  {
   "cell_type": "code",
   "execution_count": null,
   "id": "08f283e5",
   "metadata": {},
   "outputs": [],
   "source": [
    "print(set_A & set_B)"
   ]
  },
  {
   "cell_type": "markdown",
   "id": "bdc0737c",
   "metadata": {},
   "source": [
    "\n",
    "---\n",
    "\n",
    "### 3. **Poznámka: původní množiny zůstávají beze změny**\n",
    "\n",
    "Metoda `.intersection()` **nevytváří změnu na původních množinách**. Vrací **nový set**, se kterým můžete dál pracovat:\n"
   ]
  },
  {
   "cell_type": "code",
   "execution_count": null,
   "id": "9deeba8a",
   "metadata": {},
   "outputs": [],
   "source": [
    "spolecne = set_A.intersection(set_B)\n",
    "print(spolecne)"
   ]
  },
  {
   "cell_type": "markdown",
   "id": "983c3fb5",
   "metadata": {},
   "source": [
    "\n",
    "---\n",
    "### 📌 Shrnutí\n",
    "\n",
    "|Operace|Výsledek|\n",
    "|---|---|\n",
    "|`A.intersection(B)`|✅ Nová množina s prvky, které jsou v **obou**|\n",
    "|`A & B`|✅ Zkrácený zápis|\n",
    "|Mění původní množiny?|❌ Nemění|\n",
    "\n",
    "---\n",
    "\n",
    "Skvělé! Pokračujme tedy metodou `.intersection_update()`:\n",
    "\n",
    "---\n",
    "\n",
    "## 🔄 Metoda `.intersection_update()`\n",
    "\n",
    "---\n",
    "\n",
    "### 1. **Krátké vysvětlení**\n",
    "\n",
    "Metoda `.intersection_update()` **aktualizuje stávající množinu** tak, že v ní **ponechá pouze prvky**, které se nacházejí **i v druhé množině**.  \n",
    "Na rozdíl od `.intersection()` nic nevrací – **mění množinu přímo**.\n",
    "\n",
    "---\n",
    "\n",
    "### 2. **Příklad použití**\n"
   ]
  },
  {
   "cell_type": "code",
   "execution_count": null,
   "id": "bb411d33",
   "metadata": {},
   "outputs": [],
   "source": [
    "set_A = {\"Matouš\", \"Lucie\", \"žena\", \"růže\", \"píseň\", \"kost\"}\n",
    "set_B = {\"Lukáš\", \"žena\", \"růže\", \"píseň\", \"kost\"}\n",
    "\n",
    "set_A.intersection_update(set_B)\n",
    "\n",
    "print(set_A)"
   ]
  },
  {
   "cell_type": "markdown",
   "id": "3e3554ec",
   "metadata": {},
   "source": [
    "\n",
    "\n",
    "📎 Výstup:\n",
    "\n",
    "```\n",
    "{'růže', 'žena', 'kost', 'píseň'}\n",
    "```\n",
    "\n",
    "✅ Vidíme, že `set_A` byl upraven – obsahuje jen hodnoty, které se shodují s `set_B`.\n",
    "\n",
    "---\n",
    "\n",
    "### 3. **Pozor na rozdíl**\n"
   ]
  },
  {
   "cell_type": "code",
   "execution_count": null,
   "id": "d568b977",
   "metadata": {},
   "outputs": [],
   "source": [
    "set_A = {1, 2, 3}\n",
    "set_B = {3, 4, 5}\n",
    "\n",
    "novy = set_A.intersection(set_B)      # ✅ vytvoří nový set – původní zůstává\n",
    "set_A.intersection_update(set_B)      # 🔄 změní přímo set_A"
   ]
  },
  {
   "cell_type": "markdown",
   "id": "7d46e1c3",
   "metadata": {},
   "source": [
    "\n",
    "---\n",
    "\n",
    "### 📌 Shrnutí\n",
    "\n",
    "|Operace|Výsledek|\n",
    "|---|---|\n",
    "|`A.intersection(B)`|✅ Nová množina|\n",
    "|`A.intersection_update(B)`|🔄 Změní množinu `A`|\n",
    "|Vrací hodnotu?|`intersection()` ano, `intersection_update()` ne|\n",
    "|Mění původní množinu?|`intersection()` ne, `intersection_update()` ano|\n",
    "\n",
    "---\n",
    "## ➖ Metoda `.difference()`\n",
    "\n",
    "---\n",
    "\n",
    "### 1. **Krátké vysvětlení**\n",
    "\n",
    "Metoda `.difference()` vrací **novou množinu**, která obsahuje **jen ty prvky**, které jsou **v první množině**, ale **nejsou ve druhé**.  \n",
    "Používá se, když nás zajímá **co je navíc** v jedné množině oproti jiné.\n",
    "\n",
    "---\n",
    "\n",
    "### 2. **Příklad použití**\n"
   ]
  },
  {
   "cell_type": "code",
   "execution_count": null,
   "id": "ef8d98d6",
   "metadata": {},
   "outputs": [],
   "source": [
    "set_A = {\"žena\", \"růže\", \"píseň\", \"kost\", \"Lucie\", \"Matouš\"}\n",
    "set_B = {\"žena\", \"růže\", \"píseň\", \"kost\", \"Lukáš\"}\n",
    "\n",
    "rozdil = set_A.difference(set_B)\n",
    "print(rozdil)"
   ]
  },
  {
   "cell_type": "markdown",
   "id": "1c3e2f35",
   "metadata": {},
   "source": [
    "\n",
    "\n",
    "![Difference A diagram](https://i.imgur.com/frukWiG.png)\n",
    "\n",
    "📎 Výstup:\n",
    "\n",
    "```\n",
    "{'Lucie', 'Matouš'}\n",
    "```\n",
    "\n",
    "✅ Vrátí prvky, které jsou jen v `set_A`, ale **ne** v `set_B`.\n",
    "\n",
    "A **proč tam není „Lukáš“**?  \n",
    "Protože `Lukáš` **není v `set_A`** – metoda `.difference()` se dívá jen na **to, co přebývá v první množině**.\n",
    "\n",
    "Pokud bys chtěl vědět, co je navíc v `set_B`, můžeš to otočit:\n"
   ]
  },
  {
   "cell_type": "code",
   "execution_count": null,
   "id": "af932e62",
   "metadata": {},
   "outputs": [],
   "source": [
    "print(set_B.difference(set_A))\n",
    "# Výstup: {'Lukáš'}"
   ]
  },
  {
   "cell_type": "markdown",
   "id": "1540e6b0",
   "metadata": {},
   "source": [
    "\n",
    "![Difference B diagram](https://i.imgur.com/D3uPteB.png)\n",
    "\n",
    "👉 Shrnutí:\n",
    "\n",
    "- `set_A.difference(set_B)` vrací prvky navíc v `set_A`\n",
    "    \n",
    "- `set_B.difference(set_A)` vrací prvky navíc v `set_B`\n",
    "    \n",
    "---\n",
    "\n",
    "### 3. **Zkrácený zápis pomocí `-`**\n"
   ]
  },
  {
   "cell_type": "code",
   "execution_count": null,
   "id": "78fcaf13",
   "metadata": {},
   "outputs": [],
   "source": [
    "rozdil = set_A - set_B\n",
    "print(rozdil)"
   ]
  },
  {
   "cell_type": "markdown",
   "id": "03979fd3",
   "metadata": {},
   "source": [
    "\n",
    "📌 Funguje stejně jako `.difference()`\n",
    "\n",
    "---\n",
    "\n",
    "### 📌 Shrnutí\n",
    "\n",
    "|Operace|Výsledek|\n",
    "|---|---|\n",
    "|`A.difference(B)`|✅ Nová množina s prvky jen v `A`|\n",
    "|`A - B`|✅ Zkrácený zápis|\n",
    "|Mění původní množinu?|❌ Ne – vytvoří novou množinu|\n",
    "\n",
    "---\n",
    "## 🔄 Metoda `.difference_update()`\n",
    "\n",
    "---\n",
    "\n",
    "### 1. **Krátké vysvětlení**\n",
    "\n",
    "Metoda `.difference_update()` **odstraní z původní množiny všechny prvky, které jsou zároveň i ve druhé množině**.\n",
    "\n",
    "📌 Na rozdíl od `.difference()` **nemá návratovou hodnotu** – mění přímo existující množinu.\n",
    "\n",
    "---\n",
    "\n",
    "### 2. **Příklad použití**\n"
   ]
  },
  {
   "cell_type": "code",
   "execution_count": null,
   "id": "532c01df",
   "metadata": {},
   "outputs": [],
   "source": [
    "A = {1, 2, 3, 4, 5}\n",
    "B = {3, 4, 6}\n",
    "\n",
    "A.difference_update(B)\n",
    "print(A)"
   ]
  },
  {
   "cell_type": "markdown",
   "id": "4ed3f87c",
   "metadata": {},
   "source": [
    "\n",
    "\n",
    "📎 Výstup:\n",
    "\n",
    "```\n",
    "{1, 2, 5}\n",
    "```\n",
    "\n",
    "✅ Prvky `3` a `4`, které byly ve druhé množině, byly z `A` odstraněny.\n",
    "\n",
    "---\n",
    "\n",
    "### 📌 Shrnutí\n",
    "\n",
    "|Operace|Výsledek|\n",
    "|---|---|\n",
    "|`A.difference_update(B)`|🔄 Odebere z `A` vše, co je i v `B`|\n",
    "|Vrací novou množinu?|❌ Ne|\n",
    "|Mění původní množinu?|✅ Ano|\n",
    "\n",
    "---\n",
    "\n",
    "Skvělé! Níže je upravená a rozšířená výuková jednotka pro `.symmetric_difference()` podle vaší představy — včetně ukázky, že **pořadí množin nehraje roli**, a příkladu s `muj_set_A.symmetric_difference(muj_set_B)`:\n",
    "\n",
    "---\n",
    "\n",
    "## 🔀 Metoda `.symmetric_difference()`\n",
    "\n",
    "---\n",
    "\n",
    "### 1. **Krátké vysvětlení**\n",
    "\n",
    "Metoda `.symmetric_difference()` vrátí **novou množinu**, která obsahuje prvky, jež se nacházejí **buď v jedné, nebo ve druhé množině – ale ne v obou zároveň**.\n",
    "\n",
    "📌 Tuto metodu použijete, pokud chcete zjistit, **v čem se dvě množiny liší**.\n",
    "\n",
    "---\n",
    "\n",
    "### 2. **Příklad použití**\n"
   ]
  },
  {
   "cell_type": "code",
   "execution_count": null,
   "id": "600e418f",
   "metadata": {},
   "outputs": [],
   "source": [
    "muj_set_A = {\"žena\", \"růže\", \"píseň\", \"kost\", \"Lucie\", \"Matouš\"}\n",
    "muj_set_B = {\"žena\", \"růže\", \"píseň\", \"kost\", \"Lukáš\"}\n",
    "\n",
    "vysledek = muj_set_A.symmetric_difference(muj_set_B)\n",
    "print(vysledek)"
   ]
  },
  {
   "cell_type": "markdown",
   "id": "40baf54f",
   "metadata": {},
   "source": [
    "\n",
    "![Difference B diagram](https://i.imgur.com/7XxiV1y.png)\n",
    "\n",
    "📎 Výstup:\n",
    "\n",
    "```\n",
    "{'Lucie', 'Lukáš', 'Matouš'}\n",
    "```\n",
    "\n",
    "✅ Prvky `\"žena\"`, `\"růže\"`, `\"píseň\"`, `\"kost\"` jsou ve **obou množinách** → ve výsledku se **neobjeví**.  \n",
    "Vrátí se pouze prvky, které jsou v **jedné z množin**, ale ne ve **obou**.\n",
    "\n",
    "---\n",
    "\n",
    "### 🟰 Funguje stejně i v opačném pořadí\n"
   ]
  },
  {
   "cell_type": "code",
   "execution_count": null,
   "id": "13717dbf",
   "metadata": {},
   "outputs": [],
   "source": [
    "print(muj_set_B.symmetric_difference(muj_set_A))  # ➝ {'Lucie', 'Lukáš', 'Matouš'}\n",
    "print(muj_set_A.symmetric_difference(muj_set_B))  # ➝ {'Lucie', 'Lukáš', 'Matouš'}"
   ]
  },
  {
   "cell_type": "markdown",
   "id": "8e5640f7",
   "metadata": {},
   "source": [
    "\n",
    "📌 **Pořadí nehraje roli** – výsledek je vždy stejný.\n",
    "\n",
    "---\n",
    "\n",
    "### 3. **Zkrácený zápis pomocí `^`**\n"
   ]
  },
  {
   "cell_type": "code",
   "execution_count": null,
   "id": "4f245be5",
   "metadata": {},
   "outputs": [],
   "source": [
    "print(muj_set_A ^ muj_set_B)"
   ]
  },
  {
   "cell_type": "markdown",
   "id": "24ca77c7",
   "metadata": {},
   "source": [
    "\n",
    "Výstup bude opět stejný:\n",
    "\n",
    "```\n",
    "{'Lucie', 'Lukáš', 'Matouš'}\n",
    "```\n",
    "\n",
    "---\n",
    "\n",
    "### 📌 Shrnutí\n",
    "\n",
    "|Operace|Výsledek|\n",
    "|---|---|\n",
    "|`A.symmetric_difference(B)`|✅ Nová množina s prvky jen z jedné množiny|\n",
    "|`A ^ B`|✅ Zkrácený zápis|\n",
    "|Vrací novou množinu?|✅ Ano|\n",
    "|Mění původní množinu?|❌ Ne|\n",
    "|Pořadí množin má vliv?|❌ Ne – výsledek je stejný|\n",
    "\n",
    "---\n",
    "## 🔁 Metoda `.symmetric_difference_update()`\n",
    "\n",
    "---\n",
    "\n",
    "### 🧠 Co dělá?\n",
    "\n",
    "Metoda **aktualizuje původní množinu** tak, aby obsahovala **pouze prvky, které jsou buď v jedné, nebo ve druhé množině – ale ne v obou**.\n",
    "\n",
    "📌 Na rozdíl od `.symmetric_difference()` **nevrací novou množinu**, ale **změní tu původní**.\n",
    "\n",
    "---\n",
    "\n",
    "### 🔍 Příklad použití\n"
   ]
  },
  {
   "cell_type": "code",
   "execution_count": null,
   "id": "b4c8887b",
   "metadata": {},
   "outputs": [],
   "source": [
    "muj_set_A = {\"žena\", \"růže\", \"píseň\", \"kost\", \"Lucie\", \"Matouš\"}\n",
    "muj_set_B = {\"žena\", \"růže\", \"píseň\", \"kost\", \"Lukáš\"}\n",
    "\n",
    "muj_set_A.symmetric_difference_update(muj_set_B)\n",
    "print(muj_set_A)  # ➝ {'Lucie', 'Lukáš', 'Matouš'}"
   ]
  },
  {
   "cell_type": "markdown",
   "id": "331b3239",
   "metadata": {},
   "source": [
    "\n",
    "---\n",
    "\n",
    "📌 Výsledek: `muj_set_A` teď obsahuje pouze prvky, které se liší od `muj_set_B`.\n",
    "\n",
    "---\n",
    "## ❓ Metoda `.isdisjoint()`\n",
    "\n",
    "---\n",
    "\n",
    "### 1. **Krátké vysvětlení**\n",
    "\n",
    "Metoda `.isdisjoint()` slouží ke **kontrole, zda dvě množiny nemají žádné společné prvky**.\n",
    "\n",
    "- Vrací `True`, pokud je průnik **prázdný** (nemají nic společného).\n",
    "    \n",
    "- Vrací `False`, pokud **alespoň jeden prvek mají společný**.\n",
    "    \n",
    "\n",
    "---\n",
    "\n",
    "### 2. **Příklad použití**\n"
   ]
  },
  {
   "cell_type": "code",
   "execution_count": null,
   "id": "c71679cc",
   "metadata": {},
   "outputs": [],
   "source": [
    "set_1 = {\"jablko\", \"banán\", \"třešeň\"}\n",
    "set_2 = {\"hruška\", \"kiwi\"}\n",
    "set_3 = {\"banán\", \"hruška\"}\n",
    "\n",
    "print(set_1.isdisjoint(set_2))  # ➝ True\n",
    "print(set_1.isdisjoint(set_3))  # ➝ False"
   ]
  },
  {
   "cell_type": "markdown",
   "id": "927c3761",
   "metadata": {},
   "source": [
    "\n",
    "---\n",
    "\n",
    "📌 `.isdisjoint()` je užitečná metoda pro **rychlou kontrolu**, jestli mezi dvěma množinami **není žádný překryv**.\n",
    "\n",
    "---\n",
    "## 🔍 Metoda `.issubset()`\n",
    "\n",
    "---\n",
    "\n",
    "### 1. **Krátké vysvětlení**\n",
    "\n",
    "Metoda `.issubset()` ověří, zda jsou **všechny prvky jedné množiny obsaženy ve druhé**.\n",
    "\n",
    "- Vrací `True`, pokud je **každý prvek první množiny** obsažen i ve druhé.\n",
    "    \n",
    "- Vrací `False`, pokud **alespoň jeden prvek chybí**.\n",
    "    \n",
    "\n",
    "---\n",
    "\n",
    "### 2. **Příklad – když vrací `True`**\n"
   ]
  },
  {
   "cell_type": "code",
   "execution_count": null,
   "id": "eb9c8df0",
   "metadata": {},
   "outputs": [],
   "source": [
    "set_a = {1, 2}\n",
    "set_b = {1, 2, 3, 4}\n",
    "\n",
    "print(set_a.issubset(set_b))  # ➝ True"
   ]
  },
  {
   "cell_type": "markdown",
   "id": "b3a8e811",
   "metadata": {},
   "source": [
    "\n",
    "\n",
    "✅ Všechny prvky `{1, 2}` jsou v množině `{1, 2, 3, 4}`.\n",
    "\n",
    "---\n",
    "\n",
    "### 3. **Příklad – když vrací `False`**\n"
   ]
  },
  {
   "cell_type": "code",
   "execution_count": null,
   "id": "ca669911",
   "metadata": {},
   "outputs": [],
   "source": [
    "set_c = {1, 5}\n",
    "set_d = {1, 2, 3, 4}\n",
    "\n",
    "print(set_c.issubset(set_d))  # ➝ False"
   ]
  },
  {
   "cell_type": "markdown",
   "id": "5e49b92b",
   "metadata": {},
   "source": [
    "\n",
    "❌ Prvek `5` v druhé množině **chybí**, takže množina `set_c` **není** podmnožinou `set_d`.\n",
    "\n",
    "---\n",
    "## 🧊 Co je `frozenset`?\n",
    "\n",
    "`frozenset` je speciální typ množiny v Pythonu, který je **neměnitelný** (immutable).  \n",
    "🔒 Jakmile jednou vytvoříte `frozenset`, **už nemůžete přidávat ani odebírat** jeho prvky.\n",
    "\n",
    "Můžete si ho představit jako:\n",
    "\n",
    "- ❄️ **zmraženou verzi** běžného `set`u\n",
    "    \n",
    "- 📦 nebo jako **množinový ekvivalent k `tuple`** (protože `tuple` je neměnitelný seznam)\n",
    "    \n",
    "\n",
    "---\n",
    "\n",
    "## 🛠️ Vytvoření `frozenset`\n"
   ]
  },
  {
   "cell_type": "code",
   "execution_count": null,
   "id": "346869d1",
   "metadata": {},
   "outputs": [],
   "source": [
    "muj_set = {\"žena\", \"růže\", \"píseň\", \"kost\"}\n",
    "muj_nezm_set = frozenset(muj_set)\n",
    "\n",
    "print(type(muj_nezm_set))  # ➝ <class 'frozenset'>"
   ]
  },
  {
   "cell_type": "markdown",
   "id": "b0f22d55",
   "metadata": {},
   "source": [
    "\n",
    "✅ Hodnoty zůstávají stejné, ale typ se změní → nemůžete je už upravovat.\n",
    "\n",
    "---\n",
    "\n",
    "## 📌 Proč `frozenset` existuje?\n",
    "\n",
    "`frozenset` využijete tam, kde potřebujete:\n",
    "\n",
    "- **neměnitelnost** – chcete, aby se data dál nezměnila\n",
    "    \n",
    "- použít množinu jako **klíč ve slovníku** (protože musí být hashovatelná)\n",
    "    \n",
    "- zvýšenou **bezpečnost a jistotu**, že někdo data omylem nepřepíše\n",
    "    \n",
    "\n",
    "---\n",
    "\n",
    "## 🧩 Shrnutí rozdílů\n",
    "\n",
    "|Vlastnost|`set`|`frozenset`|\n",
    "|---|---|---|\n",
    "|Měnitelnost|✅ ano|❌ ne|\n",
    "|Lze přidávat / mazat|✅ ano|❌ ne|\n",
    "|Hashovatelnost|❌ ne|✅ ano|\n",
    "|Použití jako klíč ve slovníku|❌ ne|✅ ano|\n",
    "\n",
    "---\n",
    "\n",
    "## 📚 Metody `frozenset`\n",
    "\n",
    "Většina metod je stejná jako u `set`, ale pouze ty, které **nemění obsah**.\n",
    "\n",
    "|Metoda|Co dělá|\n",
    "|---|---|\n",
    "|`copy()`|vytvoří mělkou kopii|\n",
    "|`difference()`|rozdíl dvou množin|\n",
    "|`intersection()`|průnik|\n",
    "|`symmetric_difference()`|symetrický rozdíl|\n",
    "|`union()`|sjednocení|\n",
    "|`isdisjoint()`|kontrola neprůniku|\n",
    "|`issubset()`|kontrola podmnožiny|\n",
    "\n",
    "❌ **Nepodporuje metody jako** `add()`, `discard()`, `pop()` nebo `clear()` – protože by měnily obsah.\n",
    "\n",
    "---\n",
    "\n",
    "## 🛑 Co nejde udělat\n"
   ]
  },
  {
   "cell_type": "code",
   "execution_count": null,
   "id": "c37edffc",
   "metadata": {},
   "outputs": [],
   "source": [
    "muj_fs = frozenset({\"jablko\", \"hruška\"})\n",
    "muj_fs.add(\"třešeň\")  # ❌ AttributeError: 'frozenset' object has no attribute 'add'"
   ]
  },
  {
   "cell_type": "markdown",
   "id": "53927cd4",
   "metadata": {},
   "source": [
    "\n",
    "\n",
    "📌 Python hlásí chybu, protože `frozenset` **nepodporuje metody pro změnu dat**.\n",
    "\n",
    "---\n",
    "\n",
    "## Kdy ne/použít `frozenset`\n",
    "### 🔁 Možnosti jsou dvě:\n",
    "\n",
    "#### 1. **Použít metodu na `set` → a pak výsledek „zmrazit“ pomocí `frozenset()`**\n"
   ]
  },
  {
   "cell_type": "code",
   "execution_count": null,
   "id": "af23df1d",
   "metadata": {},
   "outputs": [],
   "source": [
    "a = {1, 2, 3}\n",
    "b = {2, 3, 4}\n",
    "\n",
    "vysledek = a.intersection(b)\n",
    "nezmenitelny = frozenset(vysledek)"
   ]
  },
  {
   "cell_type": "markdown",
   "id": "63cefb3f",
   "metadata": {},
   "source": [
    "\n",
    "\n",
    "➡️ **Výsledek je `frozenset`**, ale až _po_ výpočtu průniku.\n",
    "\n",
    "---\n",
    "\n",
    "#### 2. **Použít metodu přímo na `frozenset`**\n"
   ]
  },
  {
   "cell_type": "code",
   "execution_count": null,
   "id": "2799e60d",
   "metadata": {},
   "outputs": [],
   "source": [
    "a = frozenset({1, 2, 3})\n",
    "b = frozenset({2, 3, 4})\n",
    "\n",
    "vysledek = a.intersection(b)"
   ]
  },
  {
   "cell_type": "markdown",
   "id": "5560e419",
   "metadata": {},
   "source": [
    "\n",
    "➡️ Opět dostaneš `frozenset`.\n",
    "\n",
    "---\n",
    "\n",
    "### 🤔 Takže… proč rovnou nepoužívat `frozenset`?\n",
    "\n",
    "Protože to záleží na **kontextu**:\n",
    "\n",
    "---\n",
    "\n",
    "## 📌 Kdy použít `set` a až poté „zmrazit“ (`frozenset`)?\n",
    "\n",
    "✔️ Když **hodnoty měníš / přidáváš / mažeš**, a **až na konci** chceš výsledek „uzamknout“  \n",
    "příklad: výpočet výsledku, který se dál nemá měnit (např. jako klíč do slovníku)\n",
    "\n",
    "---\n",
    "\n",
    "## 📌 Kdy použít `frozenset` od začátku?\n",
    "\n",
    "✔️ Když víš, že **hodnoty se už měnit nebudou**, a chceš mít jistotu, že:\n",
    "\n",
    "- se nikdo omylem nepokusí něco přidat nebo smazat\n",
    "    \n",
    "- můžeš množinu použít jako **klíč do slovníku**\n",
    "    \n",
    "- používáš ji např. v **porovnáních, množinových operacích, kontrolách přístupů atd.**\n",
    "    \n",
    "\n",
    "---\n",
    "\n",
    " ✅ Obě varianty fungují stejně z hlediska metody `.intersection()` – **výsledek je `frozenset`** a původní množiny zůstávají beze změny.\n",
    "\n",
    "---\n",
    "## 🔧 Volitelné argumenty ve funkcích\n",
    "\n",
    "Zabudované funkce v Pythonu jsou užitečnými pomocníky, které dokáží hodně zjednodušit vaši práci. Mnoho z nich má tzv. **volitelné (nebo nepovinné) argumenty** – parametry, které nemusíte zadávat, ale **můžete**.\n",
    "\n",
    "Volitelný argument je hodnota, kterou funkce **nepotřebuje k tomu, aby fungovala**, ale pokud ji zadáte, **ovlivní její chování**.\n",
    "\n",
    "---\n",
    "\n",
    "## 🖨 Příklad s funkcí `print()`\n",
    "\n",
    "Zkuste spustit tento příklad:\n"
   ]
  },
  {
   "cell_type": "code",
   "execution_count": null,
   "id": "cb92c3d6",
   "metadata": {},
   "outputs": [],
   "source": [
    "print(\"Matous\", \"Marek\", \"Lukas\")"
   ]
  },
  {
   "cell_type": "markdown",
   "id": "a69407af",
   "metadata": {},
   "source": [
    "\n",
    "Výstup bude:\n",
    "\n",
    "```\n",
    "Matous Marek Lukas\n",
    "```\n",
    "\n",
    "Výchozí argument `print()` používá mezeru jako oddělovač.\n",
    "\n",
    "---\n",
    "\n",
    "## ✏️ Co když chceme oddělit text například novým řádkem?\n",
    "\n",
    "Použijeme volitelný argument `sep`, který určuje oddělovač mezi hodnotami:\n"
   ]
  },
  {
   "cell_type": "code",
   "execution_count": null,
   "id": "9e69c05f",
   "metadata": {},
   "outputs": [],
   "source": [
    "print(\"Matous\", \"Marek\", \"Lukas\", sep=\"\\n\")"
   ]
  },
  {
   "cell_type": "markdown",
   "id": "52ddd820",
   "metadata": {},
   "source": [
    "\n",
    "Výstup:\n",
    "\n",
    "```\n",
    "Matous\n",
    "Marek\n",
    "Lukas\n",
    "```\n",
    "\n",
    "Tedy: **každý prvek je na novým řádku**.\n",
    "\n",
    "---\n",
    "\n",
    "## 🧠 Tip: Zjistěte, jaké další argumenty existují\n",
    "\n",
    "Použijte funkci `help()` pro zobrazení dokumentace libovolné funkce:\n"
   ]
  },
  {
   "cell_type": "code",
   "execution_count": null,
   "id": "29560b09",
   "metadata": {},
   "outputs": [],
   "source": [
    "help(print)"
   ]
  },
  {
   "cell_type": "markdown",
   "id": "ff236dd2",
   "metadata": {},
   "source": [
    "\n",
    "Nebo např.:\n"
   ]
  },
  {
   "cell_type": "code",
   "execution_count": null,
   "id": "27c7c3fb",
   "metadata": {},
   "outputs": [],
   "source": [
    "help(dict.get)"
   ]
  },
  {
   "cell_type": "markdown",
   "id": "379c9398",
   "metadata": {},
   "source": [
    "\n",
    "---\n",
    "\n",
    "## 🏁 Shrnutí\n",
    "\n",
    "|Pojem|Co znamená|\n",
    "|---|---|\n",
    "|Volitelný argument|Nepovinný parametr funkce s výchozí hodnotou|\n",
    "|`sep` ve `print()`|Určuje oddělovač mezi hodnotami (např. mezera, nový řádek)|\n",
    "|`help(...)`|Vypíše dokumentaci k dané funkci|\n",
    "\n",
    "Volitelné argumenty můžete najít u mnoha funkcí, nejen u `print()`. Pokud si nejste jistí, jak něco funguje, neváhejte využít `help()` a prozkoumat možnosti!\n",
    "\n",
    "---\n",
    "\n",
    "\n"
   ]
  },
  {
   "cell_type": "markdown",
   "id": "b844be9d",
   "metadata": {},
   "source": [
    "\n",
    "\n",
    "## Domácí úkol\n",
    "\n",
    "---\n",
    "Pracuj krok za krokem na novém filmovém slovníku.\n",
    "\n",
    "### Zadané hodnoty"
   ]
  },
  {
   "cell_type": "code",
   "execution_count": null,
   "id": "065f3f46",
   "metadata": {},
   "outputs": [],
   "source": [
    "sluzby = (\"dostupné filmy\", \"detaily filmu\", \"seznam režisérů\")\n",
    "oddelovac = \"=\" * 62"
   ]
  },
  {
   "cell_type": "code",
   "execution_count": null,
   "id": "7d5589f2",
   "metadata": {},
   "outputs": [],
   "source": [
    "film_1 = {\n",
    "    \"jmeno\": \"Shawshank Redemption\",\n",
    "    \"rating\": \"93/100\",\n",
    "    \"rok\": 1994,\n",
    "    \"reziser\": \"Frank Darabont\",\n",
    "    \"stopaz\": 144\n",
    "}"
   ]
  },
  {
   "cell_type": "code",
   "execution_count": null,
   "id": "7789ff11",
   "metadata": {},
   "outputs": [],
   "source": [
    "film_2 = {\n",
    "    \"jmeno\": \"The Godfather\",\n",
    "    \"rating\": \"92/100\",\n",
    "    \"rok\": 1972,\n",
    "    \"reziser\": \"Francis Ford Coppola\",\n",
    "    \"stopaz\": 175\n",
    "}"
   ]
  },
  {
   "cell_type": "code",
   "execution_count": null,
   "id": "dd621841",
   "metadata": {},
   "outputs": [],
   "source": [
    "film_3 = {\n",
    "    \"jmeno\": \"The Dark Knight\",\n",
    "    \"rating\": \"90/100\",\n",
    "    \"rok\": 2008,\n",
    "    \"reziser\": \"Christopher Nolan\",\n",
    "    \"stopaz\": 152\n",
    "}"
   ]
  },
  {
   "cell_type": "markdown",
   "id": "a1a6cdee",
   "metadata": {},
   "source": [
    "### Sjednoť slovníky do jednoho objektu"
   ]
  },
  {
   "cell_type": "code",
   "execution_count": null,
   "id": "59ebe8e7",
   "metadata": {},
   "outputs": [],
   "source": [
    "# sjednoť předchozí 3 slovníky do jednoho slovníku 'filmy'\n",
    "# .. klíčem bude jméno filmu a samotný slovník následuje\n",
    "# .. jako hodnota."
   ]
  },
  {
   "cell_type": "markdown",
   "id": "3a492ad1",
   "metadata": {},
   "source": [
    "### Výpis pro uživatele"
   ]
  },
  {
   "cell_type": "markdown",
   "id": "71a3c61f",
   "metadata": {},
   "source": [
    "```\n",
    "               VÍTEJ V NAŠEM FILMOVÉM SLOVNÍKU!               \n",
    "==============================================================\n",
    "        dostupné filmy | detaily filmu | doporuč film         \n",
    "==============================================================\n",
    "```"
   ]
  },
  {
   "cell_type": "markdown",
   "id": "31665413",
   "metadata": {},
   "source": [
    "### Zobraz mi dostupné filmy"
   ]
  },
  {
   "cell_type": "markdown",
   "id": "c5ac817f",
   "metadata": {},
   "source": [
    "```\n",
    "                       Dostupné filmy:                        \n",
    "==============================================================\n",
    "Shawshank Redemption, The Godfather, The Dark Knight\n",
    "==============================================================\n",
    "```"
   ]
  },
  {
   "cell_type": "code",
   "execution_count": null,
   "id": "ee65cb8d",
   "metadata": {},
   "outputs": [],
   "source": [
    "# vyber z dostupné služby v nabídce a zobraz jména filmů"
   ]
  },
  {
   "cell_type": "markdown",
   "id": "e2c78def",
   "metadata": {},
   "source": [
    "### Zobraz detaily o filmu"
   ]
  },
  {
   "cell_type": "markdown",
   "id": "c5f3c0ae",
   "metadata": {},
   "source": [
    "```\n",
    "Detaily filmu: \n",
    "==============================================================\n",
    "{'jmeno': 'The Dark Knight', 'rating': '90/100', 'rok': 2008, 'reziser': 'Christopher Nolan', 'stopaz': 152}\n",
    "==============================================================\n",
    "```"
   ]
  },
  {
   "cell_type": "markdown",
   "id": "45cc07f3",
   "metadata": {},
   "source": [
    "### Zobraz seznam režisérů"
   ]
  },
  {
   "cell_type": "markdown",
   "id": "ab359a14",
   "metadata": {},
   "source": [
    "```\n",
    "Všichni režiséři:\n",
    "==============================================================\n",
    "{'Frank Darabont', 'Christopher Nolan', 'Francis Ford Coppola'}\n",
    "==============================================================\n",
    "```"
   ]
  }
 ],
 "metadata": {
  "kernelspec": {
   "display_name": ".venv",
   "language": "python",
   "name": "python3"
  },
  "language_info": {
   "name": "python",
   "version": "3.13.1"
  }
 },
 "nbformat": 4,
 "nbformat_minor": 5
}
