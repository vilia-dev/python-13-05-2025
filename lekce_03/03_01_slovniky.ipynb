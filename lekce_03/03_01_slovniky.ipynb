{
 "cells": [
  {
   "cell_type": "markdown",
   "id": "97405576",
   "metadata": {},
   "source": [
    "## 🔹 Úvod – proč `list` někdy nestačí\n",
    "\n",
    "---\n",
    "\n",
    "### ❓ Otázka na zamyšlení:\n",
    "\n",
    "> **Jak byste uchovali informace o uživateli – například jméno, věk a e-mail – tak, aby byly přehledné a snadno přístupné?**\n",
    "\n",
    "Jednou z prvních možností, která vás může napadnout, je použití seznamu:\n"
   ]
  },
  {
   "cell_type": "code",
   "execution_count": null,
   "id": "9de7bab5",
   "metadata": {},
   "outputs": [],
   "source": [
    "osoba = [\"Anna\", 29, \"anna@example.com\"]"
   ]
  },
  {
   "cell_type": "markdown",
   "id": "2855cf0d",
   "metadata": {},
   "source": [
    "Na první pohled to vypadá jednoduše. Ale co když se k těmto datům vrátíte za pár dní?\n",
    "\n",
    "---\n",
    "\n",
    "### Problém:\n",
    "\n",
    "Když použijete seznam, musíte si **pamatovat pořadí** hodnot.\n"
   ]
  },
  {
   "cell_type": "code",
   "execution_count": null,
   "id": "9e4c8f02",
   "metadata": {},
   "outputs": [],
   "source": [
    "print(osoba[0])  # Je to jméno? Nebo e-mail?"
   ]
  },
  {
   "cell_type": "markdown",
   "id": "607ed90e",
   "metadata": {},
   "source": [
    "Musíte vědět:\n",
    "\n",
    "- `osoba[0]` je jméno\n",
    "    \n",
    "- `osoba[1]` je věk\n",
    "    \n",
    "- `osoba[2]` je e-mail\n",
    "    \n",
    "\n",
    "To funguje u tří položek. Ale co když bude těch položek deset? Nebo když data čte někdo jiný?\n",
    "\n",
    "---\n",
    "\n",
    "### ⚠️ Nevýhody tohoto přístupu:\n",
    "\n",
    "- **Nízká čitelnost** – bez znalosti struktury nedává seznam smysl.\n",
    "    \n",
    "- **Vyšší riziko chyb** – snadno sáhnete po špatném indexu.\n",
    "    \n",
    "- **Potřeba dokumentace** – musíte si někde vést poznámku, co znamená který index.\n",
    "    \n",
    "\n",
    "---\n",
    "\n",
    "## Smysluplnější struktura: `dict`\n",
    "\n",
    "Lepším řešením v tomto případě je tzv. slovník (`dictionary`), který v Pythonu označujeme jako `dict`.\n",
    "\n",
    "Slovník používá místo čísel **klíče**, které jednoznačně popisují, co hodnota znamená:\n"
   ]
  },
  {
   "cell_type": "code",
   "execution_count": null,
   "id": "3d85c623",
   "metadata": {},
   "outputs": [],
   "source": [
    "osoba = {\n",
    "    \"jmeno\": \"Anna\",\n",
    "    \"vek\": 29,\n",
    "    \"email\": \"anna@example.com\"\n",
    "}"
   ]
  },
  {
   "cell_type": "markdown",
   "id": "d3113c98",
   "metadata": {},
   "source": [
    "\n",
    "Díky tomu je přístup k hodnotám nejen jednodušší, ale hlavně srozumitelný:\n"
   ]
  },
  {
   "cell_type": "code",
   "execution_count": null,
   "id": "e439e9b4",
   "metadata": {},
   "outputs": [],
   "source": [
    "print(osoba[\"email\"])  # Výstup: anna@example.com"
   ]
  },
  {
   "cell_type": "markdown",
   "id": "c76272cb",
   "metadata": {},
   "source": [
    "---\n",
    "\n",
    "Takto strukturovaná data jsou **čitelnější**, **bezpečnější** a lépe udržitelná, zvlášť když pracujete s více položkami nebo většími daty.\n",
    "\n",
    "---\n",
    "\n",
    "## Co je `dict` (slovník) v Pythonu?\n",
    "\n",
    "Slovník (`dictionary`, zkráceně `dict`) je **datová struktura**, která **ukládá hodnoty pod klíčem** – ne podle pozice jako seznam (`list`), ale podle **názvu**.\n",
    "\n",
    "Každá položka ve slovníku má tvar:\n"
   ]
  },
  {
   "cell_type": "markdown",
   "id": "5ec5a476",
   "metadata": {},
   "source": [
    "\n",
    "```python\n",
    "klíč: hodnota\n",
    "```\n",
    "\n",
    "---\n",
    "\n",
    "## Základní syntaxe\n",
    "\n",
    "Slovník se zapisuje pomocí **množinových závorek `{}`**, přičemž každá dvojice klíč–hodnota je oddělena dvojtečkou `:`.\n"
   ]
  },
  {
   "cell_type": "code",
   "execution_count": null,
   "id": "776833c0",
   "metadata": {},
   "outputs": [],
   "source": [
    "osoba = {\n",
    "    \"jmeno\": \"Anna\",\n",
    "    \"vek\": 29,\n",
    "    \"email\": \"anna@example.com\"\n",
    "}"
   ]
  },
  {
   "cell_type": "code",
   "execution_count": null,
   "id": "bd4ac379",
   "metadata": {},
   "outputs": [],
   "source": [
    "kniha = {\n",
    "    \"nazev\": \"1984\",\n",
    "    \"autor\": \"George Orwell\",\n",
    "    \"rok_vydani\": 1949,\n",
    "    \"zanr\": \"dystopie\",\n",
    "    \"dostupna\": True\n",
    "}"
   ]
  },
  {
   "cell_type": "markdown",
   "id": "352424fe",
   "metadata": {},
   "source": [
    "---\n",
    "## Jak přistupovat k hodnotám\n",
    "\n",
    "Hodnotu získáme pomocí **klíče v hranatých závorkách**:\n"
   ]
  },
  {
   "cell_type": "code",
   "execution_count": null,
   "id": "0ba6e6c2",
   "metadata": {},
   "outputs": [],
   "source": [
    "print(osoba[\"jmeno\"])   # ➝ Anna\n",
    "print(osoba[\"email\"])   # ➝ anna@example.com\n",
    "print(kniha[\"nazev\"])        # ➝ 1984\n",
    "print(kniha[\"autor\"])        # ➝ George Orwell\n",
    "print(kniha[\"dostupna\"])     # ➝ True"
   ]
  },
  {
   "cell_type": "markdown",
   "id": "766e8032",
   "metadata": {},
   "source": [
    "---\n",
    "\n",
    "## ❌ Pozor – klíče nejsou indexy\n",
    "\n",
    "Slovník **nemá pozice jako seznam**. Tedy:\n"
   ]
  },
  {
   "cell_type": "code",
   "execution_count": null,
   "id": "3a67f43b",
   "metadata": {},
   "outputs": [],
   "source": [
    "print(osoba[0])  # ➝ Chyba! Slovník nezná indexy"
   ]
  },
  {
   "cell_type": "markdown",
   "id": "d6dc769a",
   "metadata": {},
   "source": [
    "---\n",
    "\n",
    "### Proč tomu tak je?\n",
    "\n",
    "Protože slovník **není seřazen podle pořadí**, ale podle **klíčů**, které si sami určíte.\n",
    "\n",
    "V seznamu (`list`) má každý prvek **pevné pořadí** – první, druhý, třetí…\n"
   ]
  },
  {
   "cell_type": "code",
   "execution_count": null,
   "id": "7afa1537",
   "metadata": {},
   "outputs": [],
   "source": [
    "seznam = [\"Anna\", \"29\", \"anna@example.com\"]\n",
    "print(seznam[0])  # ➝ první položka"
   ]
  },
  {
   "cell_type": "markdown",
   "id": "9292e17c",
   "metadata": {},
   "source": [
    "\n",
    "Ale ve slovníku (`dict`) **pořadí není důležité**. Hlavní roli hraje **název klíče**:\n"
   ]
  },
  {
   "cell_type": "code",
   "execution_count": null,
   "id": "de9430a0",
   "metadata": {},
   "outputs": [],
   "source": [
    "osoba = {\n",
    "    \"jmeno\": \"Anna\",\n",
    "    \"vek\": 29,\n",
    "    \"email\": \"anna@example.com\"\n",
    "}"
   ]
  },
  {
   "cell_type": "markdown",
   "id": "31740bfc",
   "metadata": {},
   "source": [
    "\n",
    "Python nemůže vědět, co má být na „pozici 0“ – protože žádná taková pozice ve slovníku **neexistuje**. Existují jen **pojmenované klíče**, například `\"jmeno\"` nebo `\"email\"`.\n",
    "\n",
    "---\n",
    "\n",
    "### Shrnutí:\n",
    "\n",
    "- V **seznamu**: přístup přes **číslo** (pozici)\n",
    "    \n",
    "- Ve **slovníku**: přístup přes **klíč** (název)\n",
    "    \n",
    "\n",
    "➡️ Proto vám `osoba[0]` nedá první hodnotu, ale místo toho Python vyhodí chybu.\n",
    "\n",
    "---\n",
    "\n",
    "## Rozdíl: index vs. klíč\n",
    "\n",
    "|Datový typ|Přístup|Co znamená?|\n",
    "|---|---|---|\n",
    "|`list`|`seznam[0]`|První položka v pořadí|\n",
    "|`dict`|`slovnik[\"jmeno\"]`|Hodnota pod klíčem `\"jmeno\"`|\n",
    "\n",
    "---\n",
    "## Co se stane, když klíč ve slovníku neexistuje?\n",
    "\n",
    "Představte si, že máte tento slovník:\n"
   ]
  },
  {
   "cell_type": "code",
   "execution_count": null,
   "id": "0869b878",
   "metadata": {},
   "outputs": [],
   "source": [
    "osoba = {\n",
    "    \"jmeno\": \"Anna\",\n",
    "    \"vek\": 29\n",
    "}"
   ]
  },
  {
   "cell_type": "markdown",
   "id": "9828a2d4",
   "metadata": {},
   "source": [
    "\n",
    "A pokusíte se získat hodnotu pro klíč, který tam není:\n",
    "\n"
   ]
  },
  {
   "cell_type": "code",
   "execution_count": null,
   "id": "2eac9ff1",
   "metadata": {},
   "outputs": [],
   "source": [
    "print(osoba[\"email\"])  # ➝ KeyError"
   ]
  },
  {
   "cell_type": "markdown",
   "id": "95a113ce",
   "metadata": {},
   "source": [
    "\n",
    "\n",
    "---\n",
    "\n",
    "### ❗ Výsledek:\n",
    "\n",
    "```\n",
    "KeyError: 'email'\n",
    "```\n",
    "\n",
    "Python tím říká:\n",
    "\n",
    "> „V tomto slovníku není žádný klíč jménem `email`. Neumím k tomu nic vrátit.“\n",
    "\n",
    "---\n",
    "\n",
    "### 🔍 Proč se to stane?\n",
    "\n",
    "Na rozdíl od seznamu, kde se při špatném indexu vrací `IndexError`, u slovníku jde o **klíč** – a pokud ho nenajde, vyhodí **chybu typu `KeyError`**.\n",
    "\n",
    "---\n",
    "\n",
    "## Pravidla pro klíče a hodnoty ve slovníku\n",
    "\n",
    "### Klíče ve slovníku:\n",
    "\n",
    "- **Musí být jedinečné** – každý klíč může být ve slovníku jen jednou.\n",
    "- Pokud zadáte **stejný klíč vícekrát**, Python použije **poslední výskyt** a ty předchozí ignoruje (nevyhodí chybu).\n",
    "    \n",
    "- **Musí být neměnitelné** (immutable) – tedy typy jako:\n",
    "    \n",
    "    - `str` (text)\n",
    "        \n",
    "    - `int` (číslo)\n",
    "        \n",
    "    - `bool` (True/False)\n",
    "        \n",
    "    - `tuple` (n-tice)\n",
    "        \n",
    "\n",
    "❌ **Nelze použít `list`, `dict`, nebo jiný měnitelný typ**:\n"
   ]
  },
  {
   "cell_type": "code",
   "execution_count": null,
   "id": "1e6b1dba",
   "metadata": {},
   "outputs": [],
   "source": [
    "slovnik = {[1, 2]: \"neplatné\"}  # ➝ TypeError"
   ]
  },
  {
   "cell_type": "markdown",
   "id": "336dab4a",
   "metadata": {},
   "source": [
    "\n",
    "**Klíč musí být něco, co se nedá změnit.** Proto nemůžeme použít seznam (`list`), protože ten se může kdykoliv upravit.\n",
    "\n",
    "---\n",
    "\n",
    "### Hodnoty ve slovníku:\n",
    "\n",
    "Na rozdíl od klíčů **hodnoty nemají žádná omezení**:\n",
    "\n",
    "- Můžou být libovolného typu (`str`, `int`, `list`, `dict`, atd.)\n",
    "    \n",
    "- Můžou se **opakovat**\n",
    "    \n",
    "- Můžou být jednoduché nebo složené (např. seznam nebo další slovník)\n"
   ]
  },
  {
   "cell_type": "code",
   "execution_count": null,
   "id": "90a628ae",
   "metadata": {},
   "outputs": [],
   "source": [
    "uzivatel = {\n",
    "    \"jmeno\": \"Anna\",\n",
    "    \"admin\": True,\n",
    "    \"pristupy\": [1, 2, 3]\n",
    "}\n",
    "\n",
    "osoba = {\n",
    "    \"jmeno\": \"Anna\",\n",
    "    \"vek\": 29,\n",
    "    \"zajmy\": [\"čtení\", \"cestování\"],\n",
    "    \"kontakt\": {\"email\": \"anna@example.com\", \"telefon\": \"123456789\"}\n",
    "}"
   ]
  },
  {
   "cell_type": "markdown",
   "id": "ef121cd4",
   "metadata": {},
   "source": [
    "\n",
    "---\n",
    "\n",
    "##  Shrnutí:\n",
    "\n",
    "|Část slovníku|Omezení|\n",
    "|---|---|\n",
    "|**klíč**|Musí být unikátní a neměnitelný (`str`, `int`, `tuple`)|\n",
    "|**hodnota**|Může být cokoliv, nemusí být unikátní|\n",
    "\n",
    "---\n",
    "\n",
    "## Vytvoření slovníku\n",
    "\n",
    "---\n",
    "\n",
    "### Příklad 1: Prázdný slovník\n",
    "\n",
    "Nejprve vytvoříme prázdný slovník. To znamená, že slovník neobsahuje žádná data a budeme ho teprve naplňovat.\n"
   ]
  },
  {
   "cell_type": "code",
   "execution_count": null,
   "id": "736c4b2f",
   "metadata": {},
   "outputs": [],
   "source": [
    "student = {}  # prázdný slovník"
   ]
  },
  {
   "cell_type": "markdown",
   "id": "8c000d86",
   "metadata": {},
   "source": [
    "---\n",
    "\n",
    "### Příklad 2: Předvyplněný slovník\n",
    "\n",
    "Druhý slovník si rovnou vytvoříme s několika zadanými hodnotami. To je užitečné, když už máme informace připravené.\n"
   ]
  },
  {
   "cell_type": "code",
   "execution_count": null,
   "id": "6519e3cb",
   "metadata": {},
   "outputs": [],
   "source": [
    "kniha = {\n",
    "    \"nazev\": \"1984\",\n",
    "    \"autor\": \"George Orwell\",\n",
    "    \"rok_vydani\": 1949\n",
    "}"
   ]
  },
  {
   "cell_type": "markdown",
   "id": "ba684f01",
   "metadata": {},
   "source": [
    "\n",
    "---\n",
    "## Alternativní způsob vytvoření slovníku pomocí `dict()`\n",
    "\n",
    "Kromě běžného zápisu pomocí složených závorek můžeme slovník vytvořit také pomocí **funkce `dict()`**, kde klíče zapisujeme jako pojmenované parametry.\n",
    "\n",
    "### Příklad:\n"
   ]
  },
  {
   "cell_type": "code",
   "execution_count": null,
   "id": "4ce9bc50",
   "metadata": {},
   "outputs": [],
   "source": [
    "osoba = dict(jmeno=\"Anna\", vek=29, email=\"anna@example.com\")\n",
    "print(osoba)\n",
    "# ➝ {'jmeno': 'Anna', 'vek': 29, 'email': 'anna@example.com'}"
   ]
  },
  {
   "cell_type": "markdown",
   "id": "ce1a21fc",
   "metadata": {},
   "source": [
    "\n",
    "📌 Tento zápis je čitelnější, pokud klíče neobsahují mezery, speciální znaky nebo diakritiku.\n",
    "\n",
    "⚠️ Pokud potřebuješ klíče jako `\"datum-narozeni\"` nebo `\"jméno\"` s diakritikou, použij klasický zápis pomocí `{}` – funkce `dict()` by tyto názvy neakceptovala jako platné parametry.\n",
    "\n",
    "---\n",
    "## Přidání nových položek (klíč–hodnota)\n",
    "\n",
    "Do prázdného slovníku `student`, který jsme si vytvořili výše, postupně přidáme čtyři nové položky:\n"
   ]
  },
  {
   "cell_type": "code",
   "execution_count": null,
   "id": "280b97c5",
   "metadata": {},
   "outputs": [],
   "source": [
    "student[\"jmeno\"] = \"Tereza\"\n",
    "student[\"prijmeni\"] = \"Nováková\"\n",
    "student[\"vek\"] = 22\n",
    "student[\"obor\"] = \"informatika\"\n",
    "\n",
    "print(student)"
   ]
  },
  {
   "cell_type": "markdown",
   "id": "6e865904",
   "metadata": {},
   "source": [
    "\n",
    "📌 **Jak to funguje?**\n",
    "\n",
    "Používáme stejnou syntaxi, jakou jsme dříve používali pro čtení hodnot ze slovníku – například:"
   ]
  },
  {
   "cell_type": "code",
   "execution_count": null,
   "id": "6302a6d4",
   "metadata": {},
   "outputs": [],
   "source": [
    "print(student[\"jmeno\"])  # ➝ Tereza"
   ]
  },
  {
   "cell_type": "markdown",
   "id": "4a673760",
   "metadata": {},
   "source": [
    "\n",
    "✅ Rozdíl je v tom, že při přidávání zapisujeme hodnotu pomocí operátoru `=`, tedy:\n"
   ]
  },
  {
   "cell_type": "code",
   "execution_count": null,
   "id": "54a2309d",
   "metadata": {},
   "outputs": [],
   "source": [
    "student[\"jmeno\"] = \"Tereza\"  # vytvoří nebo přepíše klíč \"jmeno\""
   ]
  },
  {
   "cell_type": "markdown",
   "id": "7390499c",
   "metadata": {},
   "source": [
    "\n",
    "---\n",
    "\n",
    "Do předvyplněného slovníku `kniha` přidáme jednu další položku – žánr:\n"
   ]
  },
  {
   "cell_type": "code",
   "execution_count": null,
   "id": "1054cde4",
   "metadata": {},
   "outputs": [],
   "source": [
    "kniha[\"zanr\"] = \"dystopie\"\n",
    "\n",
    "print(kniha)"
   ]
  },
  {
   "cell_type": "markdown",
   "id": "c2cb5907",
   "metadata": {},
   "source": [
    "\n",
    "---\n",
    "\n",
    "**Shrnutí:**\n",
    "\n",
    "Pro přístup i přidání se používá stejná syntaxe:\n"
   ]
  },
  {
   "cell_type": "code",
   "execution_count": null,
   "id": "46222432",
   "metadata": {},
   "outputs": [],
   "source": [
    "slovnik[\"klic\"]"
   ]
  },
  {
   "cell_type": "markdown",
   "id": "4ae0202c",
   "metadata": {},
   "source": [
    "\n",
    "- Při čtení: `slovnik[\"klic\"]`\n",
    "    \n",
    "- Při přidání nebo změně: `slovnik[\"klic\"] = hodnota`\n",
    "    \n",
    "\n",
    "---\n",
    "\n",
    "## Změna hodnoty u existujícího klíče\n",
    "\n",
    "Ve slovníku můžeme kdykoli **změnit hodnotu**, která je přiřazená ke konkrétnímu klíči. Není potřeba nic mazat nebo znovu vytvářet – stačí klíči přiřadit novou hodnotu.\n",
    "\n",
    "---\n",
    "\n",
    "### Syntaxe\n",
    "\n",
    "Změna hodnoty používá **úplně stejný zápis**, jaký známe z:\n",
    "\n",
    "- přidávání nové hodnoty:\n",
    "    \n"
   ]
  },
  {
   "cell_type": "markdown",
   "id": "5b8c8f2c",
   "metadata": {},
   "source": [
    "```python\n",
    "slovnik[\"klic\"] = hodnota\n",
    "```"
   ]
  },
  {
   "cell_type": "markdown",
   "id": "70d9aa50",
   "metadata": {},
   "source": [
    "\n",
    "    \n",
    "- čtení hodnoty:\n",
    "    \n"
   ]
  },
  {
   "cell_type": "code",
   "execution_count": null,
   "id": "0d088744",
   "metadata": {},
   "outputs": [],
   "source": [
    "print(slovnik[\"klic\"])"
   ]
  },
  {
   "cell_type": "markdown",
   "id": "14ae3566",
   "metadata": {},
   "source": [
    "\n",
    "✅ Rozdíl je v tom, že místo čtení hodnotu **přepisujeme**.\n",
    "\n",
    "---\n",
    "\n",
    "### Příklad – úprava údajů o studentovi\n"
   ]
  },
  {
   "cell_type": "code",
   "execution_count": null,
   "id": "c36bcbcd",
   "metadata": {},
   "outputs": [],
   "source": [
    "student = {\n",
    "    \"jmeno\": \"Tereza\",\n",
    "    \"prijmeni\": \"Nováková\",\n",
    "    \"vek\": 22,\n",
    "    \"obor\": \"informatika\"\n",
    "}\n",
    "\n",
    "# student dokončil školu, obor měníme na \"data science\"\n",
    "student[\"obor\"] = \"data science\"\n",
    "\n",
    "# o rok později\n",
    "student[\"vek\"] = 23\n",
    "\n",
    "print(student)"
   ]
  },
  {
   "cell_type": "markdown",
   "id": "908f9803",
   "metadata": {},
   "source": [
    "\n",
    "🔎 Výstup:\n"
   ]
  },
  {
   "cell_type": "markdown",
   "id": "03280879",
   "metadata": {},
   "source": [
    "\n",
    "```python\n",
    "{'jmeno': 'Tereza', 'prijmeni': 'Nováková', 'vek': 23, 'obor': 'data science'}\n",
    "```\n",
    "\n",
    "---\n",
    "\n",
    "### Příklad – úprava údajů o knize\n"
   ]
  },
  {
   "cell_type": "code",
   "execution_count": null,
   "id": "eee5c2f9",
   "metadata": {},
   "outputs": [],
   "source": [
    "kniha = {\n",
    "    \"nazev\": \"1984\",\n",
    "    \"autor\": \"George Orwell\",\n",
    "    \"rok_vydani\": 1949,\n",
    "    \"zanr\": \"dystopie\"\n",
    "}\n",
    "\n",
    "# opravíme rok vydání\n",
    "kniha[\"rok_vydani\"] = 1950"
   ]
  },
  {
   "cell_type": "markdown",
   "id": "e5bf6065",
   "metadata": {},
   "source": [
    "\n",
    "---\n",
    "\n",
    "### Shrnutí:\n",
    "\n",
    "|Operace|Syntaxe|Význam|\n",
    "|---|---|---|\n",
    "|čtení hodnoty|`slovnik[\"klic\"]`|získání hodnoty|\n",
    "|přidání klíče|`slovnik[\"novy_klic\"] = hodnota`|vytvoření nové položky|\n",
    "|změna hodnoty|`slovnik[\"existujici\"] = nova`|přepsání existující hodnoty|\n",
    "\n",
    "➡️ Všechny tři operace používají **stejný způsob zápisu**, což práci se slovníky velmi zjednodušuje.\n",
    "\n",
    "---\n",
    "# Slovník ve slovníku (tzv. nesting)\n",
    "\n",
    "Slovník může jako hodnotu obsahovat **další slovník**. To se hodí, pokud potřebujeme uložit složitější nebo hierarchická data – například informace o více osobách, objektech, nebo záznamech.\n",
    "\n",
    "---\n",
    "\n",
    "## Vytvoření vnořeného slovníku\n",
    "\n",
    "Mějme příklad, kde chceme uložit údaje o dvou studentech:\n"
   ]
  },
  {
   "cell_type": "code",
   "execution_count": null,
   "id": "e66185cc",
   "metadata": {},
   "outputs": [],
   "source": [
    "studenti = {\n",
    "    \"student_1\": {\n",
    "        \"jmeno\": \"Tereza\",\n",
    "        \"vek\": 22\n",
    "    },\n",
    "    \"student_2\": {\n",
    "        \"jmeno\": \"Jan\",\n",
    "        \"vek\": 24\n",
    "    }\n",
    "}"
   ]
  },
  {
   "cell_type": "markdown",
   "id": "28a8d998",
   "metadata": {},
   "source": [
    "\n",
    "Hodnotou pro klíč `\"student_1\"` a `\"student_2\"` je **další slovník**, který obsahuje konkrétní údaje o daném studentovi.\n",
    "\n",
    "---\n",
    "\n",
    "## Přístup k hodnotám ve vnořeném slovníku\n",
    "\n",
    "Chceme například zjistit věk studenta 2:\n"
   ]
  },
  {
   "cell_type": "code",
   "execution_count": null,
   "id": "a53b8797",
   "metadata": {},
   "outputs": [],
   "source": [
    "print(studenti[\"student_2\"][\"vek\"])  # ➝ 24"
   ]
  },
  {
   "cell_type": "markdown",
   "id": "0f387497",
   "metadata": {},
   "source": [
    "\n",
    "📌 Co se tady děje?\n",
    "\n",
    "1. Nejprve získáme **vnitřní slovník**:\n",
    "    \n"
   ]
  },
  {
   "cell_type": "code",
   "execution_count": null,
   "id": "2ac9b8f9",
   "metadata": {},
   "outputs": [],
   "source": [
    "vnitrek = studenti[\"student_2\"]"
   ]
  },
  {
   "cell_type": "markdown",
   "id": "50157c82",
   "metadata": {},
   "source": [
    "\n",
    "Tím dostaneme:\n"
   ]
  },
  {
   "cell_type": "markdown",
   "id": "bf145289",
   "metadata": {},
   "source": [
    "\n",
    "```python\n",
    "{\"jmeno\": \"Jan\", \"vek\": 24}\n",
    "```\n",
    "\n",
    "2. Z tohoto vnitřního slovníku získáme hodnotu `\"vek\"`:\n",
    "    \n"
   ]
  },
  {
   "cell_type": "code",
   "execution_count": null,
   "id": "c6cda39a",
   "metadata": {},
   "outputs": [],
   "source": [
    "print(vnitrek[\"vek\"])  # ➝ 24"
   ]
  },
  {
   "cell_type": "markdown",
   "id": "440ffbd4",
   "metadata": {},
   "source": [
    "\n",
    "3. To lze zapsat i rovnou jako jeden řádek:\n",
    "    \n"
   ]
  },
  {
   "cell_type": "code",
   "execution_count": null,
   "id": "5bc1e0dd",
   "metadata": {},
   "outputs": [],
   "source": [
    "print(studenti[\"student_2\"][\"vek\"])"
   ]
  },
  {
   "cell_type": "markdown",
   "id": "afa387c3",
   "metadata": {},
   "source": [
    "\n",
    "---\n",
    "\n",
    "## Změna hodnoty ve vnořeném slovníku\n",
    "\n",
    "Například student 1 měl narozeniny – změníme mu věk:\n"
   ]
  },
  {
   "cell_type": "code",
   "execution_count": null,
   "id": "9083f98f",
   "metadata": {},
   "outputs": [],
   "source": [
    "studenti[\"student_1\"][\"vek\"] = 23"
   ]
  },
  {
   "cell_type": "markdown",
   "id": "cf1188fc",
   "metadata": {},
   "source": [
    "\n",
    "\n",
    "📌 Opět: nejprve přistupujeme k vnitřnímu slovníku pomocí `\"student_1\"` a poté měníme hodnotu klíče `\"vek\"`.\n",
    "\n",
    "---\n",
    "\n",
    "## Přidání nové položky do vnořeného slovníku\n",
    "\n",
    "Každému studentovi přidáme nový údaj – obor studia:\n"
   ]
  },
  {
   "cell_type": "code",
   "execution_count": null,
   "id": "78c7985d",
   "metadata": {},
   "outputs": [],
   "source": [
    "studenti[\"student_1\"][\"obor\"] = \"informatika\"\n",
    "studenti[\"student_2\"][\"obor\"] = \"matematika\""
   ]
  },
  {
   "cell_type": "markdown",
   "id": "be3e51cd",
   "metadata": {},
   "source": [
    "\n",
    "\n",
    "\n",
    "📌 Přidání probíhá stejně jako u běžného slovníku – pouze musíme správně přistoupit k vnořené úrovni:\n"
   ]
  },
  {
   "cell_type": "code",
   "execution_count": null,
   "id": "3403360b",
   "metadata": {},
   "outputs": [],
   "source": [
    "studenti[\"student_1\"]      # ➝ vnitřní slovník\n",
    "studenti[\"student_1\"][\"obor\"] = \"informatika\"  # ➝ nový klíč a hodnota"
   ]
  },
  {
   "cell_type": "markdown",
   "id": "fdc784ac",
   "metadata": {},
   "source": [
    "\n",
    "---\n",
    "\n",
    "## Shrnutí\n",
    "\n",
    "|Operace|Syntaxe|Význam|\n",
    "|---|---|---|\n",
    "|Získání hodnoty|`slovnik[\"klíč1\"][\"klíč2\"]`|Přístup k hodnotě uvnitř|\n",
    "|Změna hodnoty|`slovnik[\"klíč1\"][\"klíč2\"] = hodnota`|Přepsání hodnoty ve vnořeném slovníku|\n",
    "|Přidání nové položky|`slovnik[\"klíč1\"][\"novy_klíč\"] = hodnota`|Přidání nové dvojice do vnitřního slovníku|\n",
    "\n",
    "---\n",
    "# Metody slovníku – Úvod\n",
    "\n",
    "## Co je to metoda?\n",
    "\n",
    "Metoda je **funkce, která je „připojená“ ke konkrétnímu objektu** – v našem případě ke slovníku (`dict`).\n",
    "\n",
    "> Metodu voláme pomocí **tečky (`.`)** za názvem proměnné, následované názvem metody a závorkami.\n",
    "\n",
    "---\n",
    "\n",
    "## Příklad syntaxe:\n"
   ]
  },
  {
   "cell_type": "code",
   "execution_count": null,
   "id": "e95a6124",
   "metadata": {},
   "outputs": [],
   "source": [
    "slovnik.get(\"klic\")"
   ]
  },
  {
   "cell_type": "markdown",
   "id": "f88de375",
   "metadata": {},
   "source": [
    "\n",
    "\n",
    "Zde:\n",
    "\n",
    "- `slovnik` je náš slovník,\n",
    "    \n",
    "- `.get()` je metoda, kterou na něj voláme.\n",
    "    \n",
    "\n",
    "---\n",
    "\n",
    "## 📘 Připomenutí:\n",
    "\n",
    "Metody jste už potkali například u seznamu (`list`) – například `append()`nebo `remove()`.  \n",
    "U slovníku existují jiné metody, které nám pomohou např. bezpečně přistupovat k hodnotám, mazat položky, nebo získat seznam klíčů.\n",
    "## Nejčastěji používané metody slovníku\n",
    "\n",
    "### ✍️ Úvod:\n",
    "\n",
    "Slovník (`dict`) má několik vestavěných metod, které nám umožňují pohodlněji pracovat s daty – například **bezpečně získat hodnotu**, **odstranit položku**, nebo **získat seznam všech klíčů a hodnot**.\n",
    "\n",
    "Níže je přehled nejdůležitějších metod, se kterými se v praxi setkáte nejčastěji:\n",
    "\n",
    "---\n",
    "\n",
    "### Přehled metod:\n",
    "\n",
    "|Metoda|Co dělá|Využití v praxi|\n",
    "|---|---|---|\n",
    "|`get(klíč)`|Vrátí hodnotu pro daný klíč, nebo `None`, pokud klíč neexistuje|bezpečné čtení hodnot bez rizika chyby|\n",
    "|`pop(klíč)`|Odstraní daný klíč a vrátí jeho hodnotu|smazání konkrétní položky|\n",
    "|`clear()`|Vymaže celý slovník|když chceme slovník úplně „vynulovat“|\n",
    "|`copy()`|Vytvoří mělkou kopii slovníku|pokud potřebujeme pracovat s kopií dat|\n",
    "|`keys()`|Vrátí všechny klíče jako `dict_keys` objekt|procházení nebo výpis všech klíčů|\n",
    "|`values()`|Vrátí všechny hodnoty jako `dict_values` objekt|výpis všech hodnot bez klíčů|\n",
    "|`items()`|Vrátí dvojice `(klíč, hodnota)` jako `dict_items` objekt|ideální pro procházení slovníku v cyklu|\n",
    "|`update()` _(zmínka)_|Přidá nebo aktualizuje více hodnot najednou|užitečné při slučování nebo hromadné úpravě dat|\n",
    "|`popitem()` _(zmínka)_|Odstraní poslední vložený pár a vrátí jej jako `(klíč, hodnota)`|málo používané; spíše doplňková funkce|\n",
    "\n",
    "---\n",
    "\n",
    "🔸 Metody označené jako _zmínka_ budou v této lekci pouze krátce představeny, ne detailně rozebrány.\n",
    "\n",
    "---\n",
    "\n",
    "## 🔍 Metoda `.get()`\n",
    "\n",
    "---\n",
    "\n",
    "### 1. **Co dělá metoda `.get()`?**\n",
    "\n",
    "Metoda `.get()` slouží k **bezpečnému získání hodnoty** ze slovníku podle zadaného klíče.\n",
    "\n",
    "Na rozdíl od klasického přístupu přes `slovnik[\"klic\"]`, metoda `.get()` **nevyvolá chybu**, pokud daný klíč ve slovníku neexistuje.\n",
    "\n",
    "---\n",
    "\n",
    "### 2. **Příklad použití**\n"
   ]
  },
  {
   "cell_type": "code",
   "execution_count": 1,
   "id": "ab3684a2",
   "metadata": {},
   "outputs": [
    {
     "name": "stdout",
     "output_type": "stream",
     "text": [
      "22\n",
      "None\n"
     ]
    }
   ],
   "source": [
    "osoba = {\n",
    "    \"jmeno\": \"Tereza\",\n",
    "    \"vek\": 22\n",
    "}\n",
    "\n",
    "# Bezpečný přístup\n",
    "print(osoba.get(\"vek\"))       # ➝ 22\n",
    "print(osoba.get(\"email\"))     # ➝ None"
   ]
  },
  {
   "cell_type": "markdown",
   "id": "725db76f",
   "metadata": {},
   "source": [
    "\n",
    "\n",
    "📌 Metoda `.get()` může mít také **druhý parametr**, který se použije jako **výchozí hodnota**, pokud klíč ve slovníku neexistuje.\n"
   ]
  },
  {
   "cell_type": "code",
   "execution_count": null,
   "id": "7d0bb545",
   "metadata": {},
   "outputs": [],
   "source": [
    "# Pokud klíč \"email\" neexistuje, vrátí se zadaná výchozí hodnota\n",
    "print(osoba.get(\"email\", \"neuvedeno\"))  # ➝ neuvedeno"
   ]
  },
  {
   "cell_type": "markdown",
   "id": "d11218d9",
   "metadata": {},
   "source": [
    "\n",
    "\n",
    "📌 V tomto příkladu klíč `\"email\"` ve slovníku neexistuje, a proto metoda `.get()` vrátí zadaný text `\"neuvedeno\"` místo hodnoty `None`.\n",
    "\n",
    "---\n",
    "\n",
    "### 3. **Poznámka: Rozdíl mezi `.get()` a `[]`**\n"
   ]
  },
  {
   "cell_type": "code",
   "execution_count": null,
   "id": "89b0bfe0",
   "metadata": {},
   "outputs": [],
   "source": [
    "print(osoba[\"vek\"])    # ✔️ 22\n",
    "print(osoba[\"email\"])  # ❌ KeyError: 'email'"
   ]
  },
  {
   "cell_type": "markdown",
   "id": "ca5991da",
   "metadata": {},
   "source": [
    "\n",
    "\n",
    "🔴 Pokud klíč `\"email\"` neexistuje, klasický přístup přes `[]` způsobí chybu.\n",
    "\n",
    "✅ `.get()` místo toho vrátí:\n",
    "\n",
    "- `None` (když není uvedena výchozí hodnota),\n",
    "    \n",
    "- nebo **námi zadanou výchozí hodnotu**.\n",
    "    \n",
    "\n",
    "---\n",
    "\n",
    "### 📌 Shrnutí\n",
    "\n",
    "|Přístup|Chování, pokud klíč neexistuje|\n",
    "|---|---|\n",
    "|`slovnik[\"klic\"]`|❌ Chyba `KeyError`|\n",
    "|`slovnik.get(\"klic\")`|✅ Vrátí `None`|\n",
    "|`slovnik.get(\"klic\", \"výchozí\")`|✅ Vrátí zadanou výchozí hodnotu `\"výchozí\"`|\n",
    "\n",
    "---\n",
    "\n",
    "## ❓ Ověření existence klíče ve slovníku\n",
    "\n",
    "---\n",
    "\n",
    "### Proč je to důležité?\n",
    "\n",
    "Někdy chceme něco udělat **jen pokud slovník obsahuje určitý klíč** – např. zobrazit e-mail, pokud je uveden.\n",
    "\n",
    "Pokud bychom použili `slovnik[\"klic\"]` a klíč neexistoval, program by spadl s chybou `KeyError`.  \n",
    "Proto je lepší nejprve **zkontrolovat, zda klíč existuje**.\n",
    "\n",
    "---\n",
    "\n",
    "## 🔍 Použití `in` pro kontrolu klíče\n"
   ]
  },
  {
   "cell_type": "code",
   "execution_count": null,
   "id": "4ee9286c",
   "metadata": {},
   "outputs": [],
   "source": [
    "if \"email\" in osoba:\n",
    "    print(\"E-mail je:\", osoba[\"email\"])\n",
    "else:\n",
    "    print(\"E-mail není uveden.\")"
   ]
  },
  {
   "cell_type": "markdown",
   "id": "d9ec698e",
   "metadata": {},
   "source": [
    "\n",
    "\n",
    "📌 Tento zápis je **rychlý a bezpečný** – zjistí, jestli klíč existuje, než s ním budeme pracovat.\n",
    "\n",
    "---\n",
    "\n",
    "### Opak: `not in`\n",
    "\n",
    "Pokud chceme ověřit, že klíč **neexistuje**, použijeme `not in`:\n"
   ]
  },
  {
   "cell_type": "code",
   "execution_count": null,
   "id": "fc6b298f",
   "metadata": {},
   "outputs": [],
   "source": [
    "if \"telefon\" not in osoba:\n",
    "    print(\"Telefon není znám.\")"
   ]
  },
  {
   "cell_type": "markdown",
   "id": "2fb0d0ff",
   "metadata": {},
   "source": [
    "\n",
    "---\n",
    "\n",
    "## 🔁 `.get()` vs. `in` – kdy co použít?\n",
    "\n",
    "Obě možnosti mají své místo:\n",
    "\n",
    "|Chci...|Použít|\n",
    "|---|---|\n",
    "|Jen zjistit, jestli klíč existuje|`if \"email\" in osoba:`|\n",
    "|Získat hodnotu s výchozí náhradou|`osoba.get(\"email\", \"neuvedeno\")`|\n",
    "\n",
    "---\n",
    "\n",
    "## 🎯 Bonus: kontrola hodnoty pomocí `.values()`\n",
    "\n",
    "Pokud chceme zjistit, **jestli ve slovníku existuje nějaká konkrétní hodnota**, můžeme použít `.values()`:\n"
   ]
  },
  {
   "cell_type": "code",
   "execution_count": null,
   "id": "8bd4171d",
   "metadata": {},
   "outputs": [],
   "source": [
    "if 22 in osoba.values():\n",
    "    print(\"Někdo má 22 let.\")"
   ]
  },
  {
   "cell_type": "markdown",
   "id": "33f2b267",
   "metadata": {},
   "source": [
    "\n",
    "\n",
    "📌 Tady nás nezajímá klíč, ale konkrétní hodnota uvnitř slovníku.\n",
    "\n",
    "---\n",
    "## 🗑️ Metoda `.pop()`\n",
    "\n",
    "---\n",
    "\n",
    "### 1. **Co dělá metoda `.pop()`?**\n",
    "\n",
    "Metoda `.pop()` slouží k **odstranění položky ze slovníku podle klíče**.  \n",
    "Zároveň **vrací hodnotu**, která byla k danému klíči přiřazena.\n",
    "\n",
    "---\n",
    "\n",
    "### 2. **Příklad použití**\n"
   ]
  },
  {
   "cell_type": "code",
   "execution_count": null,
   "id": "7cf785c4",
   "metadata": {},
   "outputs": [],
   "source": [
    "osoba = {\n",
    "    \"jmeno\": \"Tereza\",\n",
    "    \"vek\": 22,\n",
    "    \"email\": \"tereza@example.com\"\n",
    "}\n",
    "\n",
    "# Odstraníme klíč \"email\"\n",
    "hodnota = osoba.pop(\"email\")\n",
    "\n",
    "print(hodnota)  # ➝ tereza@example.com\n",
    "print(osoba)\n",
    "# ➝ {'jmeno': 'Tereza', 'vek': 22}"
   ]
  },
  {
   "cell_type": "markdown",
   "id": "c0e4353f",
   "metadata": {},
   "source": [
    "\n",
    "\n",
    "📌 Metoda `.pop(\"email\")` odstraní položku `\"email\"` a zároveň vrátí její hodnotu.\n",
    "\n",
    "---\n",
    "\n",
    "### 3. **Pozor na častou chybu**\n",
    "\n",
    "Pokud se pokusíte odstranit klíč, který ve slovníku **neexistuje**, vznikne **chyba `KeyError`**:\n"
   ]
  },
  {
   "cell_type": "code",
   "execution_count": null,
   "id": "8ba2b474",
   "metadata": {},
   "outputs": [],
   "source": [
    "osoba.pop(\"telefon\")  # ❌ KeyError: 'telefon'"
   ]
  },
  {
   "cell_type": "markdown",
   "id": "3c2493fb",
   "metadata": {},
   "source": [
    "\n",
    "\n",
    "✅ Řešením může být **předchozí kontrola** nebo zadání výchozí hodnoty:\n"
   ]
  },
  {
   "cell_type": "code",
   "execution_count": null,
   "id": "53c60f64",
   "metadata": {},
   "outputs": [],
   "source": [
    "osoba.pop(\"telefon\", \"nenalezeno\")  # ➝ \"nenalezeno\""
   ]
  },
  {
   "cell_type": "markdown",
   "id": "c83882e2",
   "metadata": {},
   "source": [
    "\n",
    "---\n",
    "\n",
    "### 📌 Shrnutí\n",
    "\n",
    "|Použití|Výsledek|\n",
    "|---|---|\n",
    "|`slovnik.pop(\"klic\")`|✅ Odstraní položku a vrátí její hodnotu|\n",
    "|`slovnik.pop(\"neexistuje\")`|❌ Chyba `KeyError`|\n",
    "|`slovnik.pop(\"neexistuje\", x)`|✅ Vrátí `x`, pokud klíč není nalezen|\n",
    "\n",
    "\n",
    "---\n",
    "\n",
    "## 🆕 Odstranění položky pomocí `del`\n",
    "\n",
    "Kromě metody `.pop()` můžeme ze slovníku **odstranit položku pomocí příkazu `del`**.\n",
    "\n",
    "### Příklad:\n"
   ]
  },
  {
   "cell_type": "code",
   "execution_count": null,
   "id": "c8c5a988",
   "metadata": {},
   "outputs": [],
   "source": [
    "osoba = {\n",
    "    \"jmeno\": \"Tereza\",\n",
    "    \"vek\": 22,\n",
    "    \"email\": \"tereza@example.com\"\n",
    "}\n",
    "\n",
    "del osoba[\"email\"]\n",
    "\n",
    "print(osoba)\n",
    "# ➝ {'jmeno': 'Tereza', 'vek': 22}"
   ]
  },
  {
   "cell_type": "markdown",
   "id": "c5456212",
   "metadata": {},
   "source": [
    "\n",
    "\n",
    "📌 Stejně jako `.pop()` odstraní klíč a jeho hodnotu. Ale:\n",
    "\n",
    "|Porovnání|`.pop()`|`del`|\n",
    "|---|---|---|\n",
    "|Vrací hodnotu?|✅ Ano|❌ Ne|\n",
    "|Chyba, pokud klíč neexistuje?|❌ Může vrátit výchozí hodnotu|✅ Vyvolá `KeyError`|\n",
    "\n",
    "✅ Použij `del`, když si jsi jistý, že klíč existuje.  \n",
    "✅ Použij `.pop()` pokud chceš zároveň získat hodnotu nebo chceš mít možnost zadat výchozí hodnotu.\n",
    "\n",
    "---\n",
    "\n",
    
    "## 🧹 Metoda `.clear()`\n",
    "\n",
    "### 1. **Co dělá metoda `.clear()`?**\n",
    "\n",
    "Metoda `.clear()` **odstraní všechny položky ze slovníku**, takže zůstane prázdný.  \n",
    "Používá se, když chceme slovník „vynulovat“ nebo začít znovu.\n",
    "\n",
    "---\n",
    "\n",
    "### 2. **Příklad použití**\n"
   ]
  },
  {
   "cell_type": "code",
   "execution_count": null,
   "id": "625f870b",
   "metadata": {},
   "outputs": [],
   "source": [
    "osoba = {\n",
    "    \"jmeno\": \"Tereza\",\n",
    "    \"vek\": 22,\n",
    "    \"email\": \"tereza@example.com\"\n",
    "}\n",
    "\n",
    "# Vymažeme celý slovník\n",
    "osoba.clear()\n",
    "\n",
    "print(osoba)  # ➝ {}"
   ]
  },
  {
   "cell_type": "markdown",
   "id": "10bb615c",
   "metadata": {},
   "source": [
    "\n",
    "\n",
    "📌 Po zavolání `osoba.clear()` je slovník úplně prázdný – neobsahuje žádné klíče ani hodnoty.\n",
    "\n",
    "---\n",
    "\n",
    "### 3. **Poznámka**\n",
    "\n",
    "- Metoda `.clear()` **nevrací žádnou hodnotu** – její efekt se projeví přímo na proměnné.\n",
    "    \n",
    "- Pokud si chcete původní data zachovat, **nejprve si slovník zkopírujte** pomocí `.copy()`.\n",
    "    \n",
    "\n",
    "---\n",
    "\n",
    "### 📌 Shrnutí\n",
    "\n",
    "|Použití|Výsledek|\n",
    "|---|---|\n",
    "|`slovnik.clear()`|✅ Vymaže celý slovník|\n",
    "|`print(slovnik)`|➝ `{}`|\n",
    "\n",
    "---\n",
    "## 📄 Metoda `.copy()`\n",
    "\n",
    "---\n",
    "\n",
    "### 1. **Co dělá metoda `.copy()`?**\n",
    "\n",
    "Metoda `.copy()` vytvoří **mělkou kopii slovníku** – tzn. nový slovník se stejným obsahem.  \n",
    "Původní a nový slovník jsou **dvě různé proměnné**, ale obsahují stejné klíče a hodnoty.\n",
    "\n",
    "---\n",
    "\n",
    "### 2. **Příklad použití**\n"
   ]
  },
  {
   "cell_type": "code",
   "execution_count": null,
   "id": "8eb88f7f",
   "metadata": {},
   "outputs": [],
   "source": [
    "puvodni = {\n",
    "    \"jmeno\": \"Tereza\",\n",
    "    \"vek\": 22\n",
    "}\n",
    "\n",
    "kopie = puvodni.copy()\n",
    "\n",
    "kopie[\"vek\"] = 30\n",
    "\n",
    "print(puvodni)  # ➝ {'jmeno': 'Tereza', 'vek': 22}\n",
    "print(kopie)    # ➝ {'jmeno': 'Tereza', 'vek': 30}"
   ]
  },
  {
   "cell_type": "markdown",
   "id": "63b79976",
   "metadata": {},
   "source": [
    "\n",
    "\n",
    "📌 Vidíme, že změna hodnoty v `kopie` **neovlivnila** původní slovník. Pracujeme se **samostatnou kopií**.\n",
    "\n",
    "---\n",
    "\n",
    "### 3. **Pozor na častý omyl**\n",
    "\n",
    "Pokud vytvoříme „kopii“ běžným přiřazením, nedostaneme skutečnou kopii, ale jen **další název pro stejný slovník**.\n"
   ]
  },
  {
   "cell_type": "code",
   "execution_count": null,
   "id": "a820a571",
   "metadata": {},
   "outputs": [],
   "source": [
    "kopie = puvodni      # ⚠️ jen odkaz, ne kopie\n",
    "kopie[\"vek\"] = 30"
   ]
  },
  {
   "cell_type": "markdown",
   "id": "e6208ea4",
   "metadata": {},
   "source": [
    "\n",
    "\n",
    "📌 Pozor – přiřazením `kopie = puvodni` **nevzniká nový slovník**, ale pouze další proměnná, která ukazuje na stejný objekt.\n"
   ]
  },
  {
   "cell_type": "code",
   "execution_count": null,
   "id": "305b98f7",
   "metadata": {},
   "outputs": [],
   "source": [
    "print(puvodni)       # ➝ {'jmeno': 'Tereza', 'vek': 30}"
   ]
  },
  {
   "cell_type": "markdown",
   "id": "18342dc7",
   "metadata": {},
   "source": [
    "\n",
    "Obě proměnné `puvodni` a `kopie` teď ukazují na **stejný objekt v paměti**. Pokud změníme jednu, změní se i druhá.\n",
    "\n",
    "---\n",
    "\n",
    "1. Nejprve proměnná `puvodni` ukazuje na slovník.\n"
   ]
  },
  {
   "cell_type": "code",
   "execution_count": null,
   "id": "0c7b3248",
   "metadata": {},
   "outputs": [],
   "source": [
    "puvodni = {\n",
    "    \"jmeno\": \"Tereza\",\n",
    "    \"vek\": 22\n",
    "}"
   ]
  },
  {
   "cell_type": "markdown",
   "id": "db0d486f",
   "metadata": {},
   "source": [
    "\n",
    "\n",
    "<img src=\"images/frame-1.png\" width=\"600\"/>\n",
    "\n",
    "2. Při přiřazení `kopie = puvodni` se `kopie` stane jen **další značkou** pro tentýž objekt.\n"
   ]
  },
  {
   "cell_type": "markdown",
   "id": "64e16127",
   "metadata": {},
   "source": [
    "```python\n",
    "kopie = puvodni \n",
    "```\n",
    "<img src=\"images/frame-2.png\" width=\"600\"/>\n",
    "\n",
    "3. Změna přes `kopie[\"vek\"] = 30` ovlivní i `puvodni`, protože oba ukazují na **stejný objekt**.\n"
   ]
  },
  {
   "cell_type": "code",
   "execution_count": null,
   "id": "b1a79d7d",
   "metadata": {},
   "outputs": [],
   "source": [
    "kopie[\"vek\"] = 30"
   ]
  },
  {
   "cell_type": "markdown",
   "id": "cd9a7c12",
   "metadata": {},
   "source": [
    "\n",
    "<img src=\"images/frame-3.png\" width=\"600\"/>\n",
    "\n",
    "---\n",
    "\n",
    "✅ Pokud chceme vytvořit **opravdovou kopii**, která bude nezávislá, použijeme metodu `.copy()`:\n"
   ]
  },
  {
   "cell_type": "code",
   "execution_count": null,
   "id": "4f5f0247",
   "metadata": {},
   "outputs": [],
   "source": [
    "kopie = puvodni.copy()\n",
    "kopie[\"vek\"] = 30\n",
    "\n",
    "print(puvodni)  # ➝ {'jmeno': 'Tereza', 'vek': 22}\n",
    "print(kopie)    # ➝ {'jmeno': 'Tereza', 'vek': 30}"
   ]
  },
  {
   "cell_type": "markdown",
   "id": "89b4238f",
   "metadata": {},
   "source": [
    "\n",
    "---\n",
    "\n",
    "🔄 **Připomenutí z předchozí lekce**:\n",
    "\n",
    "V minulé lekci jsme si vysvětlili, že:\n",
    "\n",
    "- objekty jako `list` nebo `dict` jsou **mutable** (měnitelné),\n",
    "    \n",
    "- a každý nový objekt má svou **vlastní paměťovou adresu**, což si můžeme ověřit pomocí funkce `id()`.\n",
    "    \n"
   ]
  },
  {
   "cell_type": "code",
   "execution_count": null,
   "id": "eea1d0a5",
   "metadata": {},
   "outputs": [],
   "source": [
    "a = [1, 2, 3]\n",
    "b = a\n",
    "print(id(a) == id(b))  # ➝ True – stejný objekt\n",
    "\n",
    "c = a.copy()\n",
    "print(id(a) == id(c))  # ➝ False – jiný objekt"
   ]
  },
  {
   "cell_type": "markdown",
   "id": "2fae7d8f",
   "metadata": {},
   "source": [
    "\n",
    "To samé platí pro slovníky (`dict`) – pokud chceme **nový samostatný objekt**, musíme použít `.copy()`.\n",
    "\n",
    "---\n",
    "\n",
    "### 📌 Shrnutí\n",
    "\n",
    "|Použití|Výsledek|\n",
    "|---|---|\n",
    "|`novy = slovnik.copy()`|✅ Vytvoří nový, nezávislý slovník|\n",
    "|`novy = slovnik`|❌ Vytvoří jen další odkaz na stejný objekt|\n",
    "\n",
    "---\n",
    "\n",
    "## 🔑 Metoda `.keys()`\n",
    "\n",
    "---\n",
    "\n",
    "### 1. **Co dělá metoda `.keys()`?**\n",
    "\n",
    "Metoda `.keys()` vrátí **všechny klíče ve slovníku** jako speciální objekt `dict_keys`.  \n",
    "Nejde o běžný seznam (`list`), ale o tzv. „výčet“ (view object), který se chová podobně jako seznam.\n",
    "\n",
    "---\n",
    "\n",
    "### 2. **Příklad použití**\n"
   ]
  },
  {
   "cell_type": "code",
   "execution_count": null,
   "id": "159c4d2a",
   "metadata": {},
   "outputs": [],
   "source": [
    "osoba = {\n",
    "    \"jmeno\": \"Tereza\",\n",
    "    \"vek\": 22,\n",
    "    \"email\": \"tereza@example.com\"\n",
    "}\n",
    "\n",
    "klice = osoba.keys()\n",
    "print(klice)  # ➝ dict_keys(['jmeno', 'vek', 'email'])\n",
    "\n",
    "# Pokud chceme klasický seznam:\n",
    "print(list(klice))  # ➝ ['jmeno', 'vek', 'email']"
   ]
  },
  {
   "cell_type": "markdown",
   "id": "675b08f7",
   "metadata": {},
   "source": [
    "\n",
    "\n",
    "📌 Pomocí `.keys()` můžeme získat přehled všech klíčů ve slovníku, např. pro výpis, kontrolu nebo iteraci.\n",
    "\n",
    "---\n",
    "\n",
    "### 3. **Pozor na častý omyl**\n",
    "\n",
    "Metoda `.keys()` **nevrací seznam**, ale objekt `dict_keys`.  \n",
    "Tento objekt se chová podobně jako seznam (lze přes něj iterovat), ale není indexovatelný přímo:\n"
   ]
  },
  {
   "cell_type": "code",
   "execution_count": null,
   "id": "194aa20e",
   "metadata": {},
   "outputs": [],
   "source": [
    "print(klice[0])  # ❌ TypeError"
   ]
  },
  {
   "cell_type": "markdown",
   "id": "8b559c6b",
   "metadata": {},
   "source": [
    "\n",
    "✅ Pokud potřebujete indexovat nebo měnit pořadí, převeďte výsledek na seznam pomocí `list()`:\n"
   ]
  },
  {
   "cell_type": "code",
   "execution_count": null,
   "id": "461ae23c",
   "metadata": {},
   "outputs": [],
   "source": [
    "seznam_klicu = list(osoba.keys())\n",
    "print(seznam_klicu[0])  # ➝ 'jmeno'"
   ]
  },
  {
   "cell_type": "markdown",
   "id": "8f2c9852",
   "metadata": {},
   "source": [
    "\n",
    "---\n",
    "\n",
    "### 📌 Shrnutí\n",
    "\n",
    "|Použití|Výsledek|\n",
    "|---|---|\n",
    "|`slovnik.keys()`|✅ Vrátí objekt `dict_keys` se všemi klíči|\n",
    "|`list(slovnik.keys())`|✅ Vrátí seznam všech klíčů|\n",
    "|`slovnik.keys()[0]`|❌ Chyba – `dict_keys` není indexovatelný|\n",
    "\n",
    "---\n",
    "## 💬 Metoda `.values()`\n",
    "\n",
    "---\n",
    "\n",
    "### 1. **Co dělá metoda `.values()`?**\n",
    "\n",
    "Metoda `.values()` vrátí **všechny hodnoty** ve slovníku jako speciální objekt typu `dict_values`.  \n",
    "Podobně jako u `.keys()` nejde o běžný seznam, ale o tzv. „view object“, který lze snadno převést na seznam.\n",
    "\n",
    "---\n",
    "\n",
    "### 2. **Příklad použití**\n"
   ]
  },
  {
   "cell_type": "code",
   "execution_count": null,
   "id": "dbd4f264",
   "metadata": {},
   "outputs": [],
   "source": [
    "osoba = {\n",
    "    \"jmeno\": \"Tereza\",\n",
    "    \"vek\": 22,\n",
    "    \"email\": \"tereza@example.com\"\n",
    "}\n",
    "\n",
    "hodnoty = osoba.values()\n",
    "print(hodnoty)  # ➝ dict_values(['Tereza', 22, 'tereza@example.com'])\n",
    "\n",
    "# Pokud chceme klasický seznam:\n",
    "print(list(hodnoty))  # ➝ ['Tereza', 22, 'tereza@example.com']"
   ]
  },
  {
   "cell_type": "markdown",
   "id": "49f414ca",
   "metadata": {},
   "source": [
    "\n",
    "\n",
    "📌 `.values()` je užitečné, když chceme zobrazit nebo zkontrolovat všechny hodnoty bez klíčů.\n",
    "\n",
    "---\n",
    "\n",
    "### 3. **Pozor na častý omyl**\n",
    "\n",
    "Objekt `dict_values`, který metoda vrací, **není seznam**, takže nelze přímo přistupovat k prvkům pomocí indexu:\n"
   ]
  },
  {
   "cell_type": "code",
   "execution_count": null,
   "id": "f8ff6b63",
   "metadata": {},
   "outputs": [],
   "source": [
    "print(hodnoty[0])  # ❌ TypeError"
   ]
  },
  {
   "cell_type": "markdown",
   "id": "ac3fb6e6",
   "metadata": {},
   "source": [
    "\n",
    "\n",
    "✅ Pokud potřebujete hodnoty indexovat nebo je projít jako běžný seznam, převeďte výsledek na `list()`:\n"
   ]
  },
  {
   "cell_type": "code",
   "execution_count": null,
   "id": "f7d88356",
   "metadata": {},
   "outputs": [],
   "source": [
    "seznam_hodnot = list(osoba.values())\n",
    "print(seznam_hodnot[0])  # ➝ 'Tereza'"
   ]
  },
  {
   "cell_type": "markdown",
   "id": "4ebb20d3",
   "metadata": {},
   "source": [
    "\n",
    "---\n",
    "\n",
    "### 📌 Shrnutí\n",
    "\n",
    "|Použití|Výsledek|\n",
    "|---|---|\n",
    "|`slovnik.values()`|✅ Vrátí objekt `dict_values` se všemi hodnotami|\n",
    "|`list(slovnik.values())`|✅ Vrátí seznam hodnot|\n",
    "|`slovnik.values()[0]`|❌ Chyba – `dict_values` není indexovatelný|\n",
    "\n",
    "---\n",
    "\n",
    "### 🔍 Kontrola hodnoty pomocí `in` + `.values()`\n"
   ]
  },
  {
   "cell_type": "code",
   "execution_count": null,
   "id": "b3856408",
   "metadata": {},
   "outputs": [],
   "source": [
    "osoba = {\n",
    "    \"jmeno\": \"Tereza\",\n",
    "    \"vek\": 22\n",
    "}\n",
    "\n",
    "print(22 in osoba.values())        # ➝ True\n",
    "print(\"Tereza\" in osoba.values())  # ➝ True\n",
    "print(\"email\" in osoba.values())   # ➝ False"
   ]
  },
  {
   "cell_type": "markdown",
   "id": "175ac6da",
   "metadata": {},
   "source": [
    "\n",
    "\n",
    "✅ `.values()` můžeme použít spolu s `in`, pokud nás zajímá, **zda určitá hodnota existuje** ve slovníku.\n",
    "\n",
    "---\n",
    "\n",
    "### 🔍 Totéž platí pro `.keys()`\n"
   ]
  },
  {
   "cell_type": "code",
   "execution_count": null,
   "id": "3ce69d9e",
   "metadata": {},
   "outputs": [],
   "source": [
    "print(\"vek\" in osoba.keys())    # ➝ True\n",
    "print(\"email\" in osoba.keys())  # ➝ False"
   ]
  },
  {
   "cell_type": "markdown",
   "id": "95b77bce",
   "metadata": {},
   "source": [
    "\n",
    "\n",
    "📌 Tady kontrolujeme, jestli je **daný klíč** ve slovníku.\n",
    "\n",
    "---\n",
    "\n",
    "### 📎 Rozšiřující poznámka – použití `in`\n",
    "\n",
    "Metody `.keys()` a `.values()` lze použít i s `in` pro kontrolu, zda klíč nebo hodnota ve slovníku existuje:\n"
   ]
  },
  {
   "cell_type": "code",
   "execution_count": null,
   "id": "6c24281d",
   "metadata": {},
   "outputs": [],
   "source": [
    "if \"vek\" in osoba:\n",
    "    print(\"Věk je zadaný.\")\n",
    "\n",
    "if 22 in osoba.values():\n",
    "    print(\"Někdo má 22 let.\")"
   ]
  },
  {
   "cell_type": "markdown",
   "id": "471611eb",
   "metadata": {},
   "source": [
    "\n",
    "---\n",
    "\n",
    "## 🧩 Metoda `.items()`\n",
    "\n",
    "---\n",
    "\n",
    "### 1. **Co dělá metoda `.items()`?**\n",
    "\n",
    "Metoda `.items()` vrátí **všechny položky (klíč–hodnota)** ze slovníku jako objekt typu `dict_items`.\n",
    "\n",
    "Každá položka je uložena jako **dvojice `(klíč, hodnota)`** ve formě tzv. `tuple` (n-tice).  \n",
    "Tento výstup je ideální pro procházení slovníku v cyklu.\n",
    "\n",
    "---\n",
    "\n",
    "### 2. **Příklad použití**\n"
   ]
  },
  {
   "cell_type": "code",
   "execution_count": null,
   "id": "cf73600d",
   "metadata": {},
   "outputs": [],
   "source": [
    "osoba = {\n",
    "    \"jmeno\": \"Tereza\",\n",
    "    \"vek\": 22,\n",
    "    \"email\": \"tereza@example.com\"\n",
    "}\n",
    "\n",
    "polozky = osoba.items()\n",
    "print(polozky)\n",
    "# ➝ dict_items([('jmeno', 'Tereza'), ('vek', 22), ('email', 'tereza@example.com')])\n",
    "\n",
    "# Převod na seznam:\n",
    "print(list(polozky))\n",
    "# ➝ [('jmeno', 'Tereza'), ('vek', 22), ('email', 'tereza@example.com')]"
   ]
  },
  {
   "cell_type": "markdown",
   "id": "7f8ad328",
   "metadata": {},
   "source": [
    "\n",
    "📌 Výstupem je seznam dvojic `(klíč, hodnota)`, který je výborný pro iteraci.\n",
    "\n",
    "---\n",
    "\n",
    "### 3. **Pozor na častý omyl**\n",
    "\n",
    "Objekt `dict_items` **není běžný seznam** – nemůžeme k němu přistupovat pomocí indexů:\n"
   ]
  },
  {
   "cell_type": "code",
   "execution_count": null,
   "id": "72422bb3",
   "metadata": {},
   "outputs": [],
   "source": [
    "print(polozky[0])  # ❌ TypeError"
   ]
  },
  {
   "cell_type": "markdown",
   "id": "f39b616c",
   "metadata": {},
   "source": [
    "\n",
    "\n",
    "✅ Pokud chceme s položkami pracovat jako se seznamem, převedeme je pomocí `list()`:\n"
   ]
  },
  {
   "cell_type": "code",
   "execution_count": null,
   "id": "59524d7f",
   "metadata": {},
   "outputs": [],
   "source": [
    "seznam = list(osoba.items())\n",
    "print(seznam[0])  # ➝ ('jmeno', 'Tereza')"
   ]
  },
  {
   "cell_type": "markdown",
   "id": "e94f6731",
   "metadata": {},
   "source": [
    "\n",
    "---\n",
    "\n",
    "### 📌 Shrnutí\n",
    "\n",
    "|Použití|Výsledek|\n",
    "|---|---|\n",
    "|`slovnik.items()`|✅ Vrátí objekt `dict_items` s dvojicemi `(klíč, hodnota)`|\n",
    "|`list(slovnik.items())`|✅ Seznam všech dvojic jako n-tice (tuple)|\n",
    "|`slovnik.items()[0]`|❌ Chyba – `dict_items` není indexovatelný|\n",
    "\n",
    "\n"
   ]
  }
 ],
 "metadata": {
  "kernelspec": {
   "display_name": ".venv",
   "language": "python",
   "name": "python3"
  },
  "language_info": {
   "codemirror_mode": {
    "name": "ipython",
    "version": 3
   },
   "file_extension": ".py",
   "mimetype": "text/x-python",
   "name": "python",
   "nbconvert_exporter": "python",
   "pygments_lexer": "ipython3",
   "version": "3.13.1"
  }
 },
 "nbformat": 4,
 "nbformat_minor": 5
}
