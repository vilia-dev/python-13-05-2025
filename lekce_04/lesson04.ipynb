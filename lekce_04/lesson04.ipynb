{
 "cells": [
  {
   "cell_type": "markdown",
   "metadata": {},
   "source": [
    "# Python akademie\n",
    "\n",
    "<br>\n",
    "\n",
    "## Obsah lekce\n",
    "\n",
    "---"
   ]
  },
  {
   "cell_type": "markdown",
   "metadata": {},
   "source": [
    "1. [Iterační protokol](#Iterační-protokol),\n",
    "2. [for loop](#for-loop),\n",
    "3. [range](#Datový-typ-RANGE),\n",
    "4. [enumerate](#Enumerate),\n",
    "5. [zip](#Zip),\n",
    "6. [domácí úkol](#Domácí-úkol)."
   ]
  },
  {
   "cell_type": "markdown",
   "metadata": {},
   "source": [
    "## Iterační protokol a.k.a. cyklus\n",
    "\n",
    "---"
   ]
  },
  {
   "cell_type": "markdown",
   "metadata": {},
   "source": [
    "V některých situacích se můžeš setkat s **opakujícím se zápisem**:\n",
    "```python\n",
    "\n",
    "# Máš set..\n",
    "domena = set()\n",
    "\n",
    "# .. chceš procházet stringy s emaily..\n",
    "email_1 = \"m.vybiralova@firma.cz\"\n",
    "email_2 = \"m.vybiralova@email.cz\"\n",
    "email_3 = \"m.vybiralova@dobradomena.cz\"\n",
    "email_4 = \"marie@vybiralova.cz\"\n",
    "email_5 = \"marie.vybiralova@gmail.com\"\n",
    "\n",
    "# ..a do původního setu ukládat pouze jména domén.\n",
    "domena = set(\n",
    "    (\n",
    "        email_1.split(\"@\")[1].split(\".\")[0],\n",
    "        email_2.split(\"@\")[1].split(\".\")[0],\n",
    "        email_3.split(\"@\")[1].split(\".\")[0],\n",
    "        email_4.split(\"@\")[1].split(\".\")[0],\n",
    "        email_5.split(\"@\")[1].split(\".\")[0]\n",
    "    )\n",
    ")\n",
    "```"
   ]
  },
  {
   "cell_type": "markdown",
   "metadata": {},
   "source": [
    "Ten nutně nemusí znamenat **chybný** nebo **nelogický zápis**, ale pokud chceš provádět podobný postup 10x, 100x, 1000x, už může být nereálný na zapsání.\n",
    "```python\n",
    "emaily = list()\n",
    "\n",
    "# pro každý email v listu emailu\n",
    "# .. vyber email,\n",
    "# .. označ pouze doménu,\n",
    "# .. ulož ji do setu.\n",
    "\n",
    "```"
   ]
  },
  {
   "cell_type": "markdown",
   "metadata": {},
   "source": [
    "<br>\n",
    "\n",
    "Pro periodické opakování ohlášení existují tzv. *iterační protokoly* (příp.  označovány jako smyčky, cykly, loopy).\n",
    "\n",
    "Ty umožní zápis **zkrátit, automatizovat** a **současně udělat přehlednější**.\n",
    "\n",
    "<br>\n",
    "\n",
    "V rámci Pythonu se budeme bavit o **dvou základních typech smyček**:\n",
    "1. smyčka `for`,\n",
    "2. smyčka `while`.\n",
    "\n",
    "\n",
    "<br>"
   ]
  },
  {
   "cell_type": "markdown",
   "metadata": {},
   "source": [
    "## For loop <a class=\"anchor\" id=\"for-loop\"></a>\n",
    "\n",
    "---\n",
    "\n",
    "*For cyklus* je v jednoduchosti proces, který ti umožní projít tebou zadaný objekt **od prvního údaje** až **do posledního**."
   ]
  },
  {
   "cell_type": "markdown",
   "metadata": {},
   "source": [
    "<br>\n",
    "\n",
    "## OBECNÉ VYSVĚTLENÍ `for` SMYČKY\n",
    "\n",
    "---"
   ]
  },
  {
   "cell_type": "code",
   "execution_count": null,
   "metadata": {},
   "outputs": [],
   "source": [
    "for pismeno in ['a', 'b', 'c']:\n",
    "    print(pismeno)"
   ]
  },
  {
   "cell_type": "markdown",
   "metadata": {},
   "source": [
    "Iterovat můžeme jak přímo nad seznamem, tak i nad proměnnou, která obsahuje iterovatelný objekt"
   ]
  },
  {
   "cell_type": "code",
   "execution_count": null,
   "metadata": {},
   "outputs": [],
   "source": [
    "znaky = ['a', 'b', 'c']\n",
    "\n",
    "for pismeno in znaky:\n",
    "    print(pismeno)\n"
   ]
  },
  {
   "cell_type": "markdown",
   "metadata": {},
   "source": [
    "### Co je důležité:\n",
    "\n",
    "1. **`for`** – klíčové slovo pro začátek cyklu.\n",
    "    \n",
    "2. **`pismeno`** – proměnná, která se **v každé iteraci naplní jinou hodnotou** ze seznamu.\n",
    "    \n",
    "3. **`in`** – další klíčové slovo, které spojuje proměnnou a objekt, přes který se iteruje.\n",
    "    \n",
    "4. **`['a', 'b', 'c']`** – tzv. **iterovatelný objekt**, který Python umí „procházet“ krok po kroku.\n",
    "    \n",
    "5. **Dvojtečka `:`** na konci řádku je povinná.\n",
    "    \n",
    "6. **Odsazený blok kódu** (zde `print(pismeno)`) je to, co se opakuje v každé iteraci."
   ]
  },
  {
   "cell_type": "markdown",
   "metadata": {},
   "source": [
    "#### 1. Ruční výpis – bez smyčky\n",
    "\n",
    "```python\n",
    "jmena = [\"Anna\", \"Petr\", \"Lucie\", \"Tomáš\"]\n",
    "\n",
    "print(jmena[0])  # ➝ Anna\n",
    "print(jmena[1])  # ➝ Petr\n",
    "print(jmena[2])  # ➝ Lucie\n",
    "print(jmena[3])  # ➝ Tomáš\n",
    "```\n",
    "\n",
    "> Funguje, ale je to ruční a nepružné.\n",
    "\n",
    "<br/>\n",
    "\n",
    "#### 2.Smyčka `for` – automaticky\n",
    "\n",
    "```python\n",
    "jmena = [\"Anna\", \"Petr\", \"Lucie\", \"Tomáš\"]\n",
    "\n",
    "for jmeno in jmena:\n",
    "    print(jmeno)\n",
    "\n",
    "```\n",
    "\n",
    "Python automaticky:\n",
    "\n",
    "- projde celý seznam,\n",
    "    \n",
    "- uloží aktuální jméno do proměnné `jmeno`,\n",
    "    \n",
    "- a provede tělo smyčky (v tomto případě `print(jmeno)`).\n",
    "\n",
    "<br/>\n",
    "\n",
    "\n",
    "#### 3.Ukázka toho, co dělá smyčka „v pozadí“\n",
    "\n",
    "```python\n",
    "jmena = [\"Anna\", \"Petr\", \"Lucie\", \"Tomáš\"]\n",
    "\n",
    "# Toto napodobuje chování smyčky:\n",
    "jmeno = jmena[0]\n",
    "print(jmeno)  # ➝ Anna\n",
    "\n",
    "jmeno = jmena[1]\n",
    "print(jmeno)  # ➝ Petr\n",
    "\n",
    "jmeno = jmena[2]\n",
    "print(jmeno)  # ➝ Lucie\n",
    "\n",
    "jmeno = jmena[3]\n",
    "print(jmeno)  # ➝ Tomáš\n",
    "```\n",
    "\n",
    "> Proměnná `jmeno` **existuje jen jedna** a **v každém kroku se přepíše** novou hodnotou."
   ]
  },
  {
   "cell_type": "markdown",
   "metadata": {},
   "source": [
    "## 🔄 **Co přesně se děje při každé iteraci**\n",
    "\n",
    "na základě tohoto kódu:\n",
    "\n",
    "```python\n",
    "jmena = [\"Anna\", \"Petr\", \"Lucie\", \"Tomáš\"]\n",
    "\n",
    "for jmeno in jmena:\n",
    "    print(jmeno)\n",
    "```\n",
    "\n",
    "Python postupně **prochází seznam `jmena`** a při každé iteraci:\n",
    "\n",
    "---\n",
    "\n",
    "### 1. **První krok:**\n",
    "\n",
    "- Vezme první prvek seznamu → `\"Anna\"`\n",
    "    \n",
    "- Uloží ho do proměnné `jmeno`\n",
    "    \n",
    "- Provede tělo smyčky → `print(jmeno)` ➝ vytiskne **Anna**\n",
    "    \n",
    "\n",
    "---\n",
    "\n",
    "### 2. **Druhý krok:**\n",
    "\n",
    "- Vezme `\"Petr\"`\n",
    "    \n",
    "- Přepíše hodnotu v proměnné `jmeno` na `\"Petr\"`\n",
    "    \n",
    "- `print(jmeno)` ➝ vytiskne **Petr**\n",
    "    \n",
    "\n",
    "---\n",
    "\n",
    "### 3. **Třetí krok:**\n",
    "\n",
    "- Vezme `\"Lucie\"`\n",
    "    \n",
    "- `jmeno = \"Lucie\"`\n",
    "    \n",
    "- Vytiskne **Lucie**\n",
    "    \n",
    "\n",
    "---\n",
    "\n",
    "### 4. **Čtvrtý krok:**\n",
    "\n",
    "- Vezme `\"Tomáš\"`\n",
    "    \n",
    "- `jmeno = \"Tomáš\"`\n",
    "    \n",
    "- Vytiskne **Tomáš**\n",
    "    \n",
    "\n",
    "---\n",
    "\n",
    "## **Jak funguje proměnná ve `for` smyčce**\n",
    "\n",
    "> Proměnná `jmeno` se **vytvoří při vstupu do smyčky** a **v každém průchodu se přepíše** novou hodnotou z iterovatelného objektu (seznamu).\n",
    "\n",
    "- Není potřeba ji deklarovat předem.\n",
    "    \n",
    "- Není to pokaždé nová proměnná – je stále stejná, jen s novou hodnotou.\n",
    "    \n",
    "- Mimo smyčku pak zůstane její **poslední hodnota** (v tomto případě `\"Tomáš\"`).\n",
    "    \n"
   ]
  },
  {
   "cell_type": "markdown",
   "metadata": {},
   "source": [
    "### Co všechno můžeš iterovat"
   ]
  },
  {
   "cell_type": "markdown",
   "metadata": {},
   "source": [
    "\n",
    "|Typ|Vysvětlení|Iteruje se po...|\n",
    "|---|---|---|\n",
    "|`list`|běžný, měnitelný seznam|jednotlivých prvcích|\n",
    "|`tuple`|n-tice, neměnitelný|jednotlivých prvcích|\n",
    "|`set`|neuspořádaná množina unikátních prvků|jednotlivých prvcích (v náhodném pořadí)|\n",
    "|`dict`|slovník: klíč → hodnota|dvojice `(klíč, hodnota)` (přes `.items()`)|\n",
    "|`str`|řetězec|jednotlivých znacích|\n",
    "|`int`|není iterovatelný|❌ vyvolá chybu|\n"
   ]
  },
  {
   "cell_type": "markdown",
   "metadata": {},
   "source": [
    "##### Sety – neuspořádaná množina unikátních prvků"
   ]
  },
  {
   "cell_type": "code",
   "execution_count": null,
   "metadata": {},
   "outputs": [],
   "source": [
    "for jmeno in {\"Matouš\", \"Marek\", \"Lukáš\"}:\n",
    "    print(jmeno)"
   ]
  },
  {
   "cell_type": "markdown",
   "metadata": {},
   "source": [
    "##### Tuple – n-tice, neměnitelný seznam"
   ]
  },
  {
   "cell_type": "code",
   "execution_count": null,
   "metadata": {},
   "outputs": [],
   "source": [
    "for jmeno in (\"Matouš\", \"Marek\", \"Lukáš\"):\n",
    "    print(jmeno)"
   ]
  },
  {
   "cell_type": "markdown",
   "metadata": {},
   "source": [
    "##### List – běžný, měnitelný seznam"
   ]
  },
  {
   "cell_type": "code",
   "execution_count": null,
   "metadata": {},
   "outputs": [],
   "source": [
    "for jmeno in [\"Matouš\", \"Marek\", \"Lukáš\"]:\n",
    "    print(jmeno)"
   ]
  },
  {
   "cell_type": "markdown",
   "metadata": {},
   "source": [
    "##### String (`str`) – řetězec znaků"
   ]
  },
  {
   "cell_type": "code",
   "execution_count": null,
   "metadata": {},
   "outputs": [],
   "source": [
    "\n",
    "for znak in \"Ahoj\":\n",
    "    print(znak)\n"
   ]
  },
  {
   "cell_type": "markdown",
   "metadata": {},
   "source": [
    "> 🧠 V každém kroku se proměnná `znak` naplní dalším písmenem ze slova `\"Ahoj\"`."
   ]
  },
  {
   "cell_type": "markdown",
   "metadata": {},
   "source": [
    "##### ❌ Chyba: Integers nejsou iterovatelné "
   ]
  },
  {
   "cell_type": "code",
   "execution_count": null,
   "metadata": {},
   "outputs": [],
   "source": [
    "for cislo in 12345:\n",
    "    print(cislo)"
   ]
  },
  {
   "cell_type": "markdown",
   "metadata": {},
   "source": [
    "Číslo jako 12345 není seznam ani jiný objekt, který by šel procházet krok po kroku. Python neumí rozdělit celé číslo na jednotlivé cifry pomocí smyčky for."
   ]
  },
  {
   "cell_type": "markdown",
   "metadata": {},
   "source": [
    "#### Iterace přes slovník (`dict`) v Pythonu\n",
    "\n",
    "Slovník ukládá **dvojice**:  \n",
    "`klíč → hodnota` (např. `\"jmeno\": \"Matouš\"`)\n",
    "\n",
    "---\n"
   ]
  },
  {
   "cell_type": "code",
   "execution_count": null,
   "metadata": {},
   "outputs": [],
   "source": [
    "for klic, hodnota in {\n",
    "    \"jmeno\": \"Matous\",\n",
    "    \"prijmeni\": \"Holinka\",\n",
    "    \"email\": \"matous@holinka.com\"\n",
    "}.items():\n",
    "    print(klic, hodnota, sep=\"=\")"
   ]
  },
  {
   "cell_type": "markdown",
   "metadata": {},
   "source": [
    "### 1. Iterace přes klíče (výchozí způsob)"
   ]
  },
  {
   "cell_type": "code",
   "execution_count": null,
   "metadata": {},
   "outputs": [],
   "source": [
    "osoba = {\n",
    "    \"jmeno\": \"Matouš\",\n",
    "    \"prijmeni\": \"Holinka\",\n",
    "    \"email\": \"matous@holinka.com\"\n",
    "}\n",
    "\n",
    "for klic in osoba:\n",
    "    print(\"Klíč:\", klic)"
   ]
  },
  {
   "cell_type": "markdown",
   "metadata": {},
   "source": [
    "Co se děje:\n",
    "\n",
    "- `for` iteruje **jen přes klíče** (např. `\"jmeno\"`, `\"prijmeni\"`...)\n",
    "    \n",
    "- je to **výchozí chování** smyčky `for` u `dict`\n",
    "    "
   ]
  },
  {
   "cell_type": "markdown",
   "metadata": {},
   "source": [
    "### 2. Iterace přes **klíče + hodnoty** pomocí `.items()`"
   ]
  },
  {
   "cell_type": "code",
   "execution_count": null,
   "metadata": {},
   "outputs": [],
   "source": [
    "for klic, hodnota in osoba.items():\n",
    "    print(klic, \"→\", hodnota)"
   ]
  },
  {
   "cell_type": "markdown",
   "metadata": {},
   "source": [
    "Co se děje:\n",
    "\n",
    "- každý průchod vrací **dvojici `(klíč, hodnota)`**\n",
    "    \n",
    "- ideální, když chceme **obě hodnoty najednou**\n",
    "    \n",
    "- nejpřehlednější a **nejčastěji používaný způsob**"
   ]
  },
  {
   "cell_type": "markdown",
   "metadata": {},
   "source": [
    "### 3. Iterace jen přes hodnoty pomocí `.values()`"
   ]
  },
  {
   "cell_type": "code",
   "execution_count": null,
   "metadata": {},
   "outputs": [],
   "source": [
    "for hodnota in osoba.values():\n",
    "    print(\"Hodnota:\", hodnota)"
   ]
  },
  {
   "cell_type": "markdown",
   "metadata": {},
   "source": [
    "Co se děje:\n",
    "\n",
    "- iterujeme **jen přes hodnoty** (např. `\"Matouš\"`, `\"Holinka\"`...)\n",
    "    \n",
    "- klíče nás v tomto případě **nezajímají**"
   ]
  },
  {
   "cell_type": "markdown",
   "metadata": {},
   "source": [
    "### Shrnutí pro studenty (tabulka):\n",
    "\n",
    "| Zápis                             | Co prochází    | Použití, když...                  |\n",
    "| --------------------------------- | -------------- | --------------------------------- |\n",
    "| `for klic in slovnik`             | jen klíče      | chceme klíče                      |\n",
    "| `for klic, hodnota in ...`        | klíč + hodnota | chceme obojí (nejčastější způsob) |\n",
    "| `for hodnota in slovnik.values()` | jen hodnoty    | klíče nejsou důležité             |"
   ]
  },
  {
   "cell_type": "markdown",
   "metadata": {},
   "source": [
    "## S proměnnou a podmínkou\n",
    "\n",
    "---\n",
    "Cyklus lze kombinovat s objekty, které jsou ti již dobře známé. Tedy *proměnné* a *podmínkové zápisy*:"
   ]
  },
  {
   "cell_type": "code",
   "execution_count": null,
   "metadata": {},
   "outputs": [],
   "source": [
    "pismena = [\"a\", \"b\", \"c\", \"d\", \"e\", \"f\", \"g\", \"h\", \"i\"]"
   ]
  },
  {
   "cell_type": "markdown",
   "metadata": {},
   "source": [
    "V seznamu pismena procházíme každé písmeno a kontrolujeme, zda se rovná konkrétní hodnotě – v tomto případě \"g\".\n",
    "Pokud podmínka platí, vypíšeme speciální zprávu. Ve všech ostatních případech vypíšeme alternativní hlášení."
   ]
  },
  {
   "cell_type": "code",
   "execution_count": null,
   "metadata": {},
   "outputs": [],
   "source": [
    "for pismeno in pismena:\n",
    "    # Pokud aktuální písmeno je právě \"g\"\n",
    "    if pismeno == \"g\":  # \"a\" --> False\n",
    "        print(\"*Mam hodnotu ->*\", pismeno)\n",
    "    else:\n",
    "        # Jinak vypiš, že ji nemám\n",
    "        print(\"Nemam 'g', ale\", pismeno)"
   ]
  },
  {
   "cell_type": "markdown",
   "metadata": {},
   "source": [
    "V proměnné narozeni máme seznam let narození. Pomocí smyčky postupně projdeme každý rok a v každém kroku rozhodneme, zda spadá do kategorie „mladší“ (rok 2010 a více), nebo „starší“ (rok dříve než 2010)."
   ]
  },
  {
   "cell_type": "code",
   "execution_count": null,
   "metadata": {},
   "outputs": [],
   "source": [
    "narozeni = [2000, 2004, 2010, 1999, 2023]\n",
    "\n",
    "for rok in narozeni:\n",
    "    if rok >= 2010:\n",
    "        print(\"Mladší dítě:\", rok)\n",
    "    else:\n",
    "        print(\"Starší dítě:\", rok)\n"
   ]
  },
  {
   "cell_type": "markdown",
   "metadata": {},
   "source": [
    "Pomocí if rozhodneme, jestli daný rok je větší nebo rovný 2010."
   ]
  },
  {
   "cell_type": "markdown",
   "metadata": {},
   "source": [
    "<br>\n",
    "\n",
    "### 🧠 CVIČENÍ 🧠, Vyzkoušej si práci s `for` smyčkou a podmínkovým zápisem:"
   ]
  },
  {
   "cell_type": "markdown",
   "metadata": {},
   "source": [
    "1. Procházej hodnoty pro zadaný `tuple` se jménem `cisla`,\n",
    "2. .. pokud je hodnota **dělitelná třemi**, vypiš `\"Fizz\"`,\n",
    "3. .. pokud je hodnota **dělitelná pěti**, vypiš `\"Buzz\"`,\n",
    "4. .. pokud je hodnota **dělitelná třemi a současně pěti**, vypiš `\"FizzBuzz\"`,\n",
    "5. .. pokud nebude platit ani jedna z předchozích podmínek, vypiš hodnotu samotnou."
   ]
  },
  {
   "cell_type": "code",
   "execution_count": null,
   "metadata": {},
   "outputs": [],
   "source": [
    "cisla = (1, 2, 3, 4, 5, 6, 7, 8, 9, 10, 11, 12, 13, 14, 15)"
   ]
  },
  {
   "cell_type": "markdown",
   "metadata": {},
   "source": [
    "<details>\n",
    "  <summary>▶️  Klikni zde pro zobrazení řešení</summary>\n",
    "   \n",
    "```python\n",
    "cisla = (1, 2, 3, 4, 5, 6, 7, 8, 9, 10, 11, 12, 13, 14, 15)\n",
    "\n",
    "for cislo in cisla:\n",
    "    if cislo % 3 == 0 and cislo % 5 == 0:\n",
    "        print(\"FizzBuzz\")\n",
    "    elif cislo % 3 == 0:\n",
    "        print(\"Fizz\")\n",
    "    elif cislo % 5 == 0:\n",
    "        print(\"Buzz\")\n",
    "    else:\n",
    "        print(cislo)\n",
    "```\n",
    "</details>"
   ]
  },
  {
   "cell_type": "markdown",
   "metadata": {},
   "source": [
    "<br>\n",
    "\n",
    "## For/else\n",
    "\n",
    "Python umožňuje použít ke smyčce `for` také větev `else`.  \n",
    "Tato konstrukce se **vykoná jen tehdy, pokud smyčka doběhne až do konce bez přerušení pomocí `break`**.\n",
    "\n",
    "Konstrukci `for/else` nejčastěji využijeme při **vyhledávání**, kdy chceme něco udělat jen tehdy, **pokud jsme v cyklu nic nenašli**."
   ]
  },
  {
   "cell_type": "markdown",
   "metadata": {},
   "source": [
    "\n",
    "---\n",
    "\n",
    "### 1. Jednoduchá iterace (`for`)\n",
    "\n",
    "Začněme úplně jednoduše: projdeme seznam a vypíšeme jeho položky."
   ]
  },
  {
   "cell_type": "code",
   "execution_count": null,
   "metadata": {},
   "outputs": [],
   "source": [
    "pismena = [\"a\", \"b\", \"c\", \"d\"]\n",
    "\n",
    "for pismeno in pismena:\n",
    "    print(\"Zkoumám písmeno:\", pismeno)"
   ]
  },
  {
   "cell_type": "markdown",
   "metadata": {},
   "source": [
    "**Co se děje:**\n",
    "\n",
    "- Python vezme každý prvek ze seznamu a uloží ho do proměnné `pismeno`\n",
    "    \n",
    "- Smyčka běží **až do konce**\n",
    "    "
   ]
  },
  {
   "cell_type": "markdown",
   "metadata": {},
   "source": [
    "### 2. Přidáme `break`\n",
    "\n",
    "Nyní přidáme podmínku: pokud najdeme písmeno `\"c\"`, **přerušíme smyčku**."
   ]
  },
  {
   "cell_type": "code",
   "execution_count": null,
   "metadata": {},
   "outputs": [],
   "source": [
    "pismena = [\"a\", \"b\", \"c\", \"d\"]\n",
    "\n",
    "for pismeno in pismena:\n",
    "    print(\"Zkoumám písmeno:\", pismeno)\n",
    "    if pismeno == \"c\":\n",
    "        print(\"✓ Našel jsem 'c', končím.\")\n",
    "        break"
   ]
  },
  {
   "cell_type": "markdown",
   "metadata": {},
   "source": [
    "**Co se děje:**\n",
    "\n",
    "- Smyčka začíná\n",
    "    \n",
    "- Když narazí na `\"c\"`, provede se `break`\n",
    "    \n",
    "- **`break` okamžitě ukončí cyklus** (i kdyby byly další položky)\n",
    "    \n",
    "\n",
    "📌 **Kdy se `break` hodí:**\n",
    "\n",
    "- hledání první shody v datech\n",
    "    \n",
    "- okamžité ukončení cyklu při chybě nebo výjimce\n",
    "    "
   ]
  },
  {
   "cell_type": "markdown",
   "metadata": {},
   "source": [
    "### 3. Představíme `for/else`\n",
    "\n",
    "Konstrukce `for/else` může na první pohled působit nezvykle, ale má jasné využití.  \n",
    "Slouží k detekci toho, **zda cyklus doběhl až do konce** – např. když něco hledáme a nic jsme nenašli."
   ]
  },
  {
   "cell_type": "markdown",
   "metadata": {},
   "source": [
    "---\n",
    "#### Příklad A – `x` **není** v seznamu → `else` se spustí"
   ]
  },
  {
   "cell_type": "code",
   "execution_count": null,
   "metadata": {},
   "outputs": [],
   "source": [
    "pismena = [\"a\", \"b\", \"c\", \"d\"]\n",
    "\n",
    "for pismeno in pismena:\n",
    "    print(\"Zkoumám písmeno:\", pismeno)\n",
    "    if pismeno == \"x\":\n",
    "        print(\"✓ Našel jsem 'x'\")\n",
    "        break\n",
    "else:\n",
    "    print(\"✗ Písmeno 'x' nebylo nalezeno.\")"
   ]
  },
  {
   "cell_type": "markdown",
   "metadata": {},
   "source": [
    "**Výsledek:**\n",
    "\n",
    "```\n",
    "Zkoumám písmeno: a\n",
    "Zkoumám písmeno: b\n",
    "Zkoumám písmeno: c\n",
    "Zkoumám písmeno: d\n",
    "✗ Písmeno 'x' nebylo nalezeno.\n",
    "```"
   ]
  },
  {
   "cell_type": "markdown",
   "metadata": {},
   "source": [
    "---\n"
   ]
  },
  {
   "cell_type": "markdown",
   "metadata": {},
   "source": [
    "#### Příklad B – `x` **je** v seznamu → `else` se přeskočí"
   ]
  },
  {
   "cell_type": "code",
   "execution_count": null,
   "metadata": {},
   "outputs": [],
   "source": [
    "pismena = [\"a\", \"b\", \"x\", \"c\", \"d\"]\n",
    "\n",
    "for pismeno in pismena:\n",
    "    print(\"Zkoumám písmeno:\", pismeno)\n",
    "    if pismeno == \"x\":\n",
    "        print(\"✓ Našel jsem 'x'\")\n",
    "        break\n",
    "else:\n",
    "    print(\"✗ Písmeno 'x' nebylo nalezeno.\")"
   ]
  },
  {
   "cell_type": "markdown",
   "metadata": {},
   "source": [
    "**Výsledek:**\n",
    "\n",
    "```\n",
    "Zkoumám písmeno: a\n",
    "Zkoumám písmeno: b\n",
    "Zkoumám písmeno: x\n",
    "✓ Našel jsem 'x'\n",
    "```\n",
    "---"
   ]
  },
  {
   "cell_type": "markdown",
   "metadata": {},
   "source": [
    "**Jak `for/else` funguje:**\n",
    "\n",
    "- `else` se **vykoná**, pokud cyklus **nebyl přerušen `breakem`** nebo **pokud cyklus doběhne až do konce bez přerušení**\n",
    "\n",
    "\n",
    "    \n",
    "- `else` se **nevykoná**, pokud dojde k `break` (tj. „něco jsme našli“)\n",
    "    \n",
    "\n",
    ">`else` v tomto případě neznamená „jinak“, ale spíš **„pokud se cyklus dokončil celý bez přerušení“**.  Tato konstrukce je ideální, když něco **hledáme** – a chceme zvlášť reagovat na stav, kdy **nic nenajdeme**."
   ]
  },
  {
   "cell_type": "markdown",
   "metadata": {},
   "source": [
    "### Rozdíl mezi třemi způsoby ukončení smyčky `for`\n",
    "---"
   ]
  },
  {
   "cell_type": "markdown",
   "metadata": {},
   "source": [
    "#### `for` + `print` **mimo smyčku**"
   ]
  },
  {
   "cell_type": "code",
   "execution_count": null,
   "metadata": {},
   "outputs": [],
   "source": [
    "for pismeno in \"Matous\":\n",
    "    print(pismeno)\n",
    "\n",
    "print(\"Hotovo\")"
   ]
  },
  {
   "cell_type": "markdown",
   "metadata": {},
   "source": [
    "`print(\"Hotovo\")` se **vždy vykoná**, nezávisle na tom, jestli cyklus doběhne přirozeně, nebo je ukončen `breakem`."
   ]
  },
  {
   "cell_type": "markdown",
   "metadata": {},
   "source": [
    "Výstup:\n",
    "```\n",
    "M\n",
    "a\n",
    "t\n",
    "o\n",
    "u\n",
    "s\n",
    "Hotovo\n",
    "```"
   ]
  },
  {
   "cell_type": "markdown",
   "metadata": {},
   "source": [
    "A i když tam dáme `break`, `print(\"Hotovo\")` se **stejně vykoná**:"
   ]
  },
  {
   "cell_type": "code",
   "execution_count": null,
   "metadata": {},
   "outputs": [],
   "source": [
    "for pismeno in \"Matous\":\n",
    "    print(pismeno)\n",
    "    if pismeno == \"o\":\n",
    "        break\n",
    "\n",
    "print(\"Hotovo\")"
   ]
  },
  {
   "cell_type": "markdown",
   "metadata": {},
   "source": [
    "Výstup:\n",
    "\n",
    "```\n",
    "M\n",
    "a\n",
    "t\n",
    "o\n",
    "Hotovo\n",
    "```"
   ]
  },
  {
   "cell_type": "markdown",
   "metadata": {},
   "source": [
    "### `for/else` **bez `break`**"
   ]
  },
  {
   "cell_type": "code",
   "execution_count": null,
   "metadata": {},
   "outputs": [],
   "source": [
    "for pismeno in \"Matous\":\n",
    "    print(pismeno)\n",
    "else:\n",
    "    print(\"Konec smyčky\")"
   ]
  },
  {
   "cell_type": "markdown",
   "metadata": {},
   "source": [
    "Výstup:\n",
    "\n",
    "```\n",
    "M\n",
    "a\n",
    "t\n",
    "o\n",
    "u\n",
    "s\n",
    "Konec smyčky\n",
    "```"
   ]
  },
  {
   "cell_type": "markdown",
   "metadata": {},
   "source": [
    "Vypadá **stejně** jako `print` za smyčkou – ale má jiný význam.  \n",
    "Používá se, když nás **zajímá, že smyčka doběhla až do konce.**"
   ]
  },
  {
   "cell_type": "markdown",
   "metadata": {},
   "source": [
    "### `for/else` **s `break`**"
   ]
  },
  {
   "cell_type": "code",
   "execution_count": null,
   "metadata": {},
   "outputs": [],
   "source": [
    "for pismeno in \"Matous\":\n",
    "    print(pismeno)\n",
    "    if pismeno == \"o\":\n",
    "        break\n",
    "else:\n",
    "    print(\"Konec smyčky\")"
   ]
  },
  {
   "cell_type": "markdown",
   "metadata": {},
   "source": [
    "Výstup:\n",
    "\n",
    "```\n",
    "M\n",
    "a\n",
    "t\n",
    "o\n",
    "```\n",
    "\n",
    "`else` se **neprovede**, protože `break` přerušil smyčku."
   ]
  },
  {
   "cell_type": "markdown",
   "metadata": {},
   "source": [
    "### Shrnutí: Kdy použít co?\n",
    "\n",
    "|Konstrukce|Spustí se vždy?|Reaguje na `break`?|Vhodné pro...|\n",
    "|---|---|---|---|\n",
    "|`for` + `print`|✅ Ano|❌ Ne|obecné oznámení po smyčce|\n",
    "|`for/else` bez `break`|✅ Ano|✅ (čeká na průběh)|potvrzení, že nic nebylo nalezeno|\n",
    "|`for/else` s `break`|❌ Ne|✅ Ano|hledání, kdy výstup závisí na tom, **jestli** něco bylo nalezeno|\n"
   ]
  },
  {
   "cell_type": "markdown",
   "metadata": {},
   "source": [
    "---"
   ]
  },
  {
   "cell_type": "markdown",
   "metadata": {},
   "source": [
    "<br>\n",
    "\n",
    "### Ohlášení CONTINUE"
   ]
  },
  {
   "cell_type": "markdown",
   "metadata": {},
   "source": [
    "### Co `continue` dělá?\n",
    "\n",
    "Příkaz `continue` v cyklu způsobí, že:\n",
    "\n",
    "- **se přeskočí zbytek těla smyčky pro aktuální iteraci**\n",
    "    \n",
    "- a cyklus **pokračuje dalším kolem**\n",
    "\n",
    "<br/>\n",
    "\n",
    "### Jak si to představit:\n",
    "\n",
    "> „Tahle hodnota mě nezajímá – přeskoč ji a jdi dál.“\n",
    "\n",
    "<br/>\n",
    "\n",
    "### Kdy se `continue` hodí?\n",
    "\n",
    "- Když chceme **přeskočit určité hodnoty**, ale cyklus **jako celek pokračuje**\n",
    "    \n",
    "- Např. chceme zpracovávat jen určité typy dat, znaky, čísla…\n",
    "    "
   ]
  },
  {
   "cell_type": "markdown",
   "metadata": {},
   "source": [
    "### Jednoduchý příklad"
   ]
  },
  {
   "cell_type": "code",
   "execution_count": null,
   "metadata": {},
   "outputs": [],
   "source": [
    "for pismeno in \"Python\":\n",
    "    if pismeno == \"h\":\n",
    "        continue\n",
    "    print(\"Znak:\", pismeno)"
   ]
  },
  {
   "cell_type": "markdown",
   "metadata": {},
   "source": [
    "Výstup:\n",
    "\n",
    "```\n",
    "Znak: P\n",
    "Znak: y\n",
    "Znak: t\n",
    "Znak: o\n",
    "Znak: n\n",
    "\n",
    "```\n"
   ]
  },
  {
   "cell_type": "markdown",
   "metadata": {},
   "source": [
    "Písmeno `\"h\"` je přeskočeno → `print(pismeno)` se v tomto kole neprovede."
   ]
  },
  {
   "cell_type": "markdown",
   "metadata": {},
   "source": [
    "### Reálnější příklad: Posílání SMS"
   ]
  },
  {
   "cell_type": "code",
   "execution_count": null,
   "metadata": {},
   "outputs": [],
   "source": [
    "cisla = [\"+420123456789\", \"\", None, \"420987654321\", \"\", \"+42012345999\"]\n",
    "\n",
    "for cislo in cisla:\n",
    "    if not cislo or not cislo.startswith(\"+420\"):\n",
    "        continue\n",
    "    print(\"Posílám SMS na:\", cislo)"
   ]
  },
  {
   "cell_type": "markdown",
   "metadata": {},
   "source": [
    "Ukazuje praktické použití: validace dat ve smyčce."
   ]
  },
  {
   "cell_type": "markdown",
   "metadata": {},
   "source": [
    "### Reálnější příklad: Práce s komentáři"
   ]
  },
  {
   "cell_type": "code",
   "execution_count": null,
   "metadata": {},
   "outputs": [],
   "source": [
    "komentare = [\"Skvělé!\", \"\", \"  \", \"Děkuji\", None, \"\"]\n",
    "\n",
    "for komentar in komentare:\n",
    "    if not komentar or komentar.strip() == \"\":\n",
    "        continue\n",
    "    print(\"💬 Zpracovávám komentář:\", komentar)"
   ]
  },
  {
   "cell_type": "markdown",
   "metadata": {},
   "source": [
    "Ukazuje filtraci textového obsahu – běžné např. v aplikacích."
   ]
  },
  {
   "cell_type": "markdown",
   "metadata": {},
   "source": [
    "### Rozdíl mezi `continue` a `break`"
   ]
  },
  {
   "cell_type": "markdown",
   "metadata": {},
   "source": [
    "| Příkaz     | Co dělá                                     |\n",
    "| ---------- | ------------------------------------------- |\n",
    "| `continue` | ⏩ přeskočí aktuální iteraci a pokračuje dál |\n",
    "| `break`    | ⛔ okamžitě ukončí celý cyklus               |"
   ]
  },
  {
   "cell_type": "markdown",
   "metadata": {},
   "source": [
    "### Příklad `break` vs `continue`"
   ]
  },
  {
   "cell_type": "markdown",
   "metadata": {},
   "source": [
    "#### S `break`:"
   ]
  },
  {
   "cell_type": "code",
   "execution_count": null,
   "metadata": {},
   "outputs": [],
   "source": [
    "for znak in \"Python\":\n",
    "    if znak == \"h\":\n",
    "        break\n",
    "    print(znak)"
   ]
  },
  {
   "cell_type": "markdown",
   "metadata": {},
   "source": [
    "Výstup:\n",
    "\n",
    "```\n",
    "P\n",
    "y\n",
    "t\n",
    "```\n",
    "\n",
    "Smyčka skončí **okamžitě**, jakmile narazí na `\"h\"`."
   ]
  },
  {
   "cell_type": "markdown",
   "metadata": {},
   "source": [
    "#### S `continue`:"
   ]
  },
  {
   "cell_type": "code",
   "execution_count": null,
   "metadata": {},
   "outputs": [],
   "source": [
    "for znak in \"Python\":\n",
    "    if znak == \"h\":\n",
    "        continue\n",
    "    print(znak)"
   ]
  },
  {
   "cell_type": "markdown",
   "metadata": {},
   "source": [
    "Výstup:\n",
    "\n",
    "```\n",
    "P\n",
    "y\n",
    "t\n",
    "o\n",
    "n\n",
    "```\n",
    "\n",
    "`\"h\"` je **přeskočeno**, ale smyčka **pokračuje dál**."
   ]
  },
  {
   "cell_type": "markdown",
   "metadata": {},
   "source": [
    "### Kdy `continue` použít\n",
    "\n",
    "- Chceš **ignorovat určité hodnoty** bez ukončení celé smyčky\n",
    "    \n",
    "- Např. filtrovat „nezajímavá“ data"
   ]
  },
  {
   "cell_type": "code",
   "execution_count": 7,
   "metadata": {},
   "outputs": [
    {
     "name": "stdout",
     "output_type": "stream",
     "text": [
      "Dělím číslem: 1\n",
      "Dělím číslem: 2\n",
      "Dělím číslem: 4\n",
      "Dělím číslem: 5\n"
     ]
    }
   ],
   "source": [
    "cisla = [1, 2, 0, 4, 0, 5]\n",
    "\n",
    "for cislo in cisla:\n",
    "    if cislo == 0:\n",
    "        continue\n",
    "    print(\"Dělím číslem:\", cislo)"
   ]
  },
  {
   "cell_type": "markdown",
   "metadata": {},
   "source": [
    "### Shrnutí\n",
    "\n",
    "| Příkaz     | Význam                      | Použití                      |\n",
    "| ---------- | --------------------------- | ---------------------------- |\n",
    "| `continue` | přeskočí zbytek těla smyčky | „tohle mě nezajímá“          |\n",
    "| `break`    | ukončí celý cyklus          | „končím, dál nemá smysl jít“ |\n",
    "\n",
    "<br/>\n",
    "\n",
    "---\n"
   ]
  },
  {
   "cell_type": "markdown",
   "metadata": {},
   "source": [
    "## `pass` \n",
    "\n",
    "– když kód ještě není hotový, ale potřebujeme, aby fungoval"
   ]
  },
  {
   "cell_type": "markdown",
   "metadata": {},
   "source": [
    "Představte si, že připravujete smyčku, která bude zpracovávat komentáře z webového formuláře.\n",
    "Chcete rozlišit:\n",
    "\n",
    "- prázdné nebo nevyplněné komentáře,\n",
    "\n",
    "- nevhodný nebo spamový obsah,\n",
    "\n",
    "- běžné komentáře, které můžete rovnou zobrazit.\n",
    "\n",
    "Ale… ještě nevíte, co přesně s těmi problematickými případy uděláte. Možná je později smažete, zalogujete nebo schováte."
   ]
  },
  {
   "cell_type": "markdown",
   "metadata": {},
   "source": [
    "#### Pokud ale necháte tělo podmínek prázdné, Python vám to nedovolí:"
   ]
  },
  {
   "cell_type": "code",
   "execution_count": null,
   "metadata": {},
   "outputs": [],
   "source": [
    "komentare = [\"\", \"Tohle je super!\", \" \", None, \"Nevhodný obsah!\", \"Díky\", \"Spam?\"]\n",
    "\n",
    "for komentar in komentare:\n",
    "    if not komentar or komentar.strip() == \"\":\n",
    "        # zatím nevíme, co s tím\n",
    "\n",
    "    elif \"nevhodný\" in komentar.lower() or \"spam\" in komentar.lower():\n",
    "        # zatím nevíme, co s tím\n",
    "\n",
    "    else:\n",
    "        print(\"✅ Vhodný komentář:\", komentar)\n"
   ]
  },
  {
   "cell_type": "markdown",
   "metadata": {},
   "source": [
    "Výsledkem bude:"
   ]
  },
  {
   "cell_type": "markdown",
   "metadata": {},
   "source": [
    "```\n",
    "IndentationError: expected an indented block\n",
    "```"
   ]
  },
  {
   "cell_type": "markdown",
   "metadata": {},
   "source": [
    "### Řešení: použijeme pass"
   ]
  },
  {
   "cell_type": "code",
   "execution_count": null,
   "metadata": {},
   "outputs": [],
   "source": [
    "komentare = [\"\", \"Tohle je super!\", \" \", None, \"Nevhodný obsah!\", \"Díky\", \"Spam?\"]\n",
    "\n",
    "for komentar in komentare:\n",
    "    if not komentar or komentar.strip() == \"\":\n",
    "        pass  # prázdný komentář – zatím nic neděláme\n",
    "\n",
    "    elif \"nevhodný\" in komentar.lower() or \"spam\" in komentar.lower():\n",
    "        pass  # nevhodný komentář – zatím žádná akce\n",
    "\n",
    "    else:\n",
    "        print(\"✅ Vhodný komentář:\", komentar)\n"
   ]
  },
  {
   "cell_type": "markdown",
   "metadata": {},
   "source": [
    "Program nyní běží bez chyby, i když jsme některé větve logiky zatím nechali prázdné.\n",
    "To je přesně účel příkazu pass – nevyvolá chybu, ale drží místo, kam se později doplní funkční kód."
   ]
  },
  {
   "cell_type": "markdown",
   "metadata": {},
   "source": [
    "### Co `pass` dělá?\n",
    "\n",
    "Příkaz `pass` **nedělá vůbec nic** – ale:\n",
    "\n",
    "- **je platný Python kód**\n",
    "    \n",
    "- **nevyvolá chybu**\n",
    "    \n",
    "- slouží jako **placeholder** – tedy \"výplň\", kterou později nahradíš skutečným kódem"
   ]
  },
  {
   "cell_type": "markdown",
   "metadata": {},
   "source": [
    "### Kdy se `pass` hodí?\n",
    "\n",
    "- Píšeš si **kostru programu** a některou část **ještě nechceš řešit**\n",
    "    \n",
    "- Chceš **ponechat tělo funkce, smyčky nebo podmínky prázdné**, ale Python ti nedovolí prázdný blok"
   ]
  },
  {
   "cell_type": "code",
   "execution_count": 8,
   "metadata": {},
   "outputs": [],
   "source": [
    "for pismeno in \"Matous\":\n",
    "    pass  # Tady zatím nebude žádná akce, ale smyčka je syntakticky správná"
   ]
  },
  {
   "cell_type": "markdown",
   "metadata": {},
   "source": [
    "Program proběhne, ale **nic se nevypíše**."
   ]
  },
  {
   "cell_type": "markdown",
   "metadata": {},
   "source": [
    "### `pass` vs `continue` vs `break`\n",
    "\n",
    "| Příkaz     | Co dělá                   | Využití                           |\n",
    "| ---------- | ------------------------- | --------------------------------- |\n",
    "| `pass`     | nic – „jen tu jsem“       | rezervace místa                   |\n",
    "| `continue` | přeskočí aktuální iteraci | ignoruj tento prvek, pokračuj dál |\n",
    "| `break`    | okamžitě ukončí smyčku    | ukonči celý cyklus                |"
   ]
  },
  {
   "cell_type": "markdown",
   "metadata": {},
   "source": [
    "<br>\n",
    "\n",
    "### 🧠 CVIČENÍ 🧠, Vyzkoušej si práci s nestovanou smyčkou:"
   ]
  },
  {
   "cell_type": "markdown",
   "metadata": {},
   "source": [
    "1. Procházej hodnoty pro zadaný dvoudimenzionální `list` se jménem `obsah`,\n",
    "2. .. nejprve procházej **samotné řádky**,\n",
    "3. .. následně procházej **buňku po buňce**."
   ]
  },
  {
   "cell_type": "code",
   "execution_count": null,
   "metadata": {},
   "outputs": [],
   "source": [
    "obsah = [\n",
    "    ['jmeno;prijmeni;email;projekt'],\n",
    "    ['Matous;Holinka;m.holinka@firma.cz;hr'],\n",
    "    ['Petr;Svetr;p.svetr@firma.cz;devops']\n",
    "]"
   ]
  },
  {
   "cell_type": "markdown",
   "metadata": {},
   "source": [
    "<details>\n",
    "  <summary>▶️  Klikni zde pro zobrazení řešení</summary>\n",
    "   \n",
    "```python\n",
    "obsah = [\n",
    "    ['jmeno;prijmeni;email;projekt'],\n",
    "    ['Matous;Holinka;m.holinka@firma.cz;hr'],\n",
    "    ['Petr;Svetr;p.svetr@firma.cz;devops']\n",
    "]\n",
    "\n",
    "for radek in obsah:\n",
    "    print(radek)\n",
    "\n",
    "    for bunka in radek[0].split(\";\"):\n",
    "        print(bunka)\n",
    "```\n",
    "</details>"
   ]
  },
  {
   "cell_type": "markdown",
   "metadata": {},
   "source": [
    "<br>\n",
    "\n",
    "\n",
    "## Datový typ RANGE\n",
    "\n",
    "---\n"
   ]
  },
  {
   "cell_type": "markdown",
   "metadata": {},
   "source": [
    "### Co je `range()`?"
   ]
  },
  {
   "cell_type": "markdown",
   "metadata": {},
   "source": [
    "`range()` je **funkce, která vrací posloupnost celých čísel**. \n",
    "\n",
    "Nevytváří seznam čísel najednou, ale **generuje je postupně podle potřeby**. Je to jako \"továrna na čísla\" - ví, jaká čísla má vyrobit, ale vyrábí je až když je potřebujete.\n",
    "\n",
    "*Poznámka:* `range()` pracuje pouze s **celými čísly** – desetinná čísla (např. `1.5`) nebo jiné datové typy (např. řetězce) nejsou povoleny."
   ]
  },
  {
   "cell_type": "code",
   "execution_count": null,
   "metadata": {},
   "outputs": [],
   "source": [
    "# range NENÍ seznam!\n",
    "cisla = range(5)\n",
    "print(cisla)           # ➝ range(0, 5)\n",
    "print(type(cisla))     # ➝ <class 'range'>\n",
    "\n",
    "# Ale můžeme z něj seznam udělat:\n",
    "print(list(cisla))     # ➝ [0, 1, 2, 3, 4]"
   ]
  },
  {
   "cell_type": "markdown",
   "metadata": {},
   "source": [
    "### Jak `range()` funguje?"
   ]
  },
  {
   "cell_type": "markdown",
   "metadata": {},
   "source": [
    "#### `range(stop)` - jednoduchá varianta"
   ]
  },
  {
   "cell_type": "code",
   "execution_count": null,
   "metadata": {},
   "outputs": [],
   "source": [
    "range(5)  # ➝ 0, 1, 2, 3, 4 (vždy začíná od 0)\n",
    "\n",
    "print(list(range(5))) # ➝ [0, 1, 2, 3, 4]"
   ]
  },
  {
   "cell_type": "markdown",
   "metadata": {},
   "source": [
    "#### `range(start, stop)` - s vlastním začátkem"
   ]
  },
  {
   "cell_type": "code",
   "execution_count": null,
   "metadata": {},
   "outputs": [],
   "source": [
    "range(3, 8)  # ➝ 3, 4, 5, 6, 7 (stop se NEVČÍTÁ!)\n",
    "\n",
    "print(list(range(3, 8)))  # ➝ [3, 4, 5, 6, 7]"
   ]
  },
  {
   "cell_type": "markdown",
   "metadata": {},
   "source": [
    "#### `range(start, stop, step)` - s vlastním krokem"
   ]
  },
  {
   "cell_type": "code",
   "execution_count": null,
   "metadata": {},
   "outputs": [],
   "source": [
    "range(0, 10, 2)   # ➝ 0, 2, 4, 6, 8 (sudá čísla)\n",
    "print(list(range(0, 10, 2)))  # ➝ [0, 2, 4, 6, 8]\n",
    "\n",
    "range(10, 0, -1)  # ➝ 10, 9, 8, 7, 6, 5, 4, 3, 2, 1 (pozpátku)\n",
    "print(list(range(10, 0, -1))) # ➝ [10, 9, 8, 7, 6, 5, 4, 3, 2, 1]\n",
    "\n",
    "range(0, -10, -2) # ➝ 0, -2, -4, -6, -8 (záporně s krokem)\n",
    "print(list(range(0, -10, -2)))  # ➝ [0, -2, -4, -6, -8]"
   ]
  },
  {
   "cell_type": "markdown",
   "metadata": {},
   "source": [
    "### Proč `range()` používat?"
   ]
  },
  {
   "cell_type": "markdown",
   "metadata": {},
   "source": [
    "#### 1. Je to jednodušší než psát čísla ručně"
   ]
  },
  {
   "cell_type": "code",
   "execution_count": null,
   "metadata": {},
   "outputs": [],
   "source": [
    "# ❌ Dlouhé a nudné:\n",
    "for i in [0, 1, 2, 3, 4, 5, 6, 7, 8, 9]:\n",
    "    print(\"Číslo:\", i)\n",
    "\n",
    "# ✅ Krátké a jasné:\n",
    "for i in range(10):\n",
    "    print(\"Číslo:\", i)"
   ]
  },
  {
   "cell_type": "markdown",
   "metadata": {},
   "source": [
    "#### 2. **Úspora paměti**"
   ]
  },
  {
   "cell_type": "code",
   "execution_count": null,
   "metadata": {},
   "outputs": [],
   "source": [
    "# Tohle zabere hodně paměti:\n",
    "velky_seznam = list(range(1000000))  # 1 milion čísel v paměti!\n",
    "\n",
    "# Tohle zabere skoro nic:\n",
    "velky_range = range(1000000)         # Jen \"recept\" na čísla"
   ]
  },
  {
   "cell_type": "markdown",
   "metadata": {},
   "source": [
    "Když děláme něco jako:"
   ]
  },
  {
   "cell_type": "code",
   "execution_count": null,
   "metadata": {},
   "outputs": [],
   "source": [
    "for i in range(1000000):\n",
    "    print(i)"
   ]
  },
  {
   "cell_type": "markdown",
   "metadata": {},
   "source": [
    "Python **vygeneruje každé číslo „za běhu“ (on-the-fly)**, jedno po druhém:\n",
    "\n",
    "- Vytvoří `0` → předá ho do těla smyčky → pak zahodí\n",
    "    \n",
    "- Vytvoří `1` → předá ho → pak zahodí\n",
    "    \n",
    "- A tak dál...\n",
    "    \n",
    "\n",
    "**Nikdy nemá v paměti celý seznam 1 milionu čísel naráz.**"
   ]
  },
  {
   "cell_type": "markdown",
   "metadata": {},
   "source": [
    "### Kdy `range()` použijeme?"
   ]
  },
  {
   "cell_type": "markdown",
   "metadata": {},
   "source": [
    "#### 1. **Chceme něco opakovat několikrát**"
   ]
  },
  {
   "cell_type": "code",
   "execution_count": null,
   "metadata": {},
   "outputs": [],
   "source": [
    "# Řekni \"Ahoj\" 5krát\n",
    "for i in range(5):\n",
    "    print(\"Ahoj!\")\n",
    "\n",
    "# Vytiskni 3 vstupenky\n",
    "for cislo in range(1, 4):  # 1, 2, 3\n",
    "    print(\"Vstupenka číslo\", cislo)"
   ]
  },
  {
   "cell_type": "markdown",
   "metadata": {},
   "source": [
    "#### 2. **Potřebujeme čísla v určitém rozsahu**"
   ]
  },
  {
   "cell_type": "code",
   "execution_count": null,
   "metadata": {},
   "outputs": [],
   "source": [
    "# Čísla od 10 do 15\n",
    "for cislo in range(10, 16):\n",
    "    print(cislo)\n",
    "# Výsledek: 10, 11, 12, 13, 14, 15\n",
    "\n",
    "# Sudá čísla od 0 do 10\n",
    "for cislo in range(0, 11, 2):  # krok 2\n",
    "    print(cislo)\n",
    "# Výsledek: 0, 2, 4, 6, 8, 10"
   ]
  },
  {
   "cell_type": "markdown",
   "metadata": {},
   "source": [
    "#### 3. **Procházení seznamu s indexy**"
   ]
  },
  {
   "cell_type": "code",
   "execution_count": null,
   "metadata": {},
   "outputs": [],
   "source": [
    "zvirata = [\"pes\", \"kočka\", \"křeček\", \"papoušek\"]\n",
    "\n",
    "# Chci vypsat: 1. pes, 2. kočka, atd.\n",
    "for i in range(len(zvirata)):\n",
    "    print(str(i + 1) + \". \" + zvirata[i])\n",
    "\n",
    "#Použili jsme `str(i + 1)` pro převedení čísla na text, aby šel spojit s řetězcem pomocí `+`."
   ]
  },
  {
   "cell_type": "markdown",
   "metadata": {},
   "source": [
    "#### 4. **Generování ID nebo kódů**"
   ]
  },
  {
   "cell_type": "code",
   "execution_count": null,
   "metadata": {},
   "outputs": [],
   "source": [
    "# Vytvoř unikátní kódy produktů\n",
    "for produkt_id in range(1000, 1010):\n",
    "    kod = \"PROD-\" + str(produkt_id)\n",
    "    print(kod)"
   ]
  },
  {
   "cell_type": "markdown",
   "metadata": {},
   "source": [
    "```python-repl\n",
    "PROD-1000\n",
    "PROD-1001\n",
    "...\n",
    "PROD-1009\n",
    "\n",
    "```"
   ]
  },
  {
   "cell_type": "markdown",
   "metadata": {},
   "source": [
    "#### 5. **Stránkování a navigace**"
   ]
  },
  {
   "cell_type": "code",
   "execution_count": null,
   "metadata": {},
   "outputs": [],
   "source": [
    "# Vytvoř odkazy na stránky\n",
    "celkem_stranek = 10\n",
    "for strana in range(1, celkem_stranek + 1):\n",
    "    url = \"https://eshop.cz/produkty?page=\" + str(strana)\n",
    "    print(url)"
   ]
  },
  {
   "cell_type": "markdown",
   "metadata": {},
   "source": [
    "### ⚠️ Časté chyby a pasti"
   ]
  },
  {
   "cell_type": "markdown",
   "metadata": {},
   "source": [
    "#### 1. **Stop hodnota se NEZAHRNUJE**"
   ]
  },
  {
   "cell_type": "code",
   "execution_count": null,
   "metadata": {},
   "outputs": [],
   "source": [
    "# ❌ Častá chyba:\n",
    "for i in range(5):      # Myslím si, že půjde do 5\n",
    "    print(i)            # Ale jde jen do 4!\n",
    "\n",
    "# ✅ Správně:\n",
    "for i in range(6):      # Pro čísla 0-5 musím napsat 6\n",
    "    print(i)            # ➝ 0, 1, 2, 3, 4, 5"
   ]
  },
  {
   "cell_type": "markdown",
   "metadata": {},
   "source": [
    "#### 2. **Prázdný range**"
   ]
  },
  {
   "cell_type": "code",
   "execution_count": null,
   "metadata": {},
   "outputs": [],
   "source": [
    "print(list(range(5, 2)))     # ➝ [] (prázdný! – začátek je větší než konec)\n",
    "print(list(range(0, 10, -1))) # ➝ [] (špatný směr!)\n",
    "\n",
    "# ✅ Správně pro countdown:\n",
    "print(list(range(10, 0, -1))) # ➝ [10, 9, 8, 7, 6, 5, 4, 3, 2, 1]"
   ]
  },
  {
   "cell_type": "markdown",
   "metadata": {},
   "source": [
    "#### 3. **Nepovolené typy (např. desetinná čísla)**"
   ]
  },
  {
   "cell_type": "code",
   "execution_count": null,
   "metadata": {},
   "outputs": [],
   "source": [
    "# ❌ Nejde použít float (desetinné číslo):\n",
    "range(1.5, 5)  # ➝ TypeError\n",
    "\n",
    "# ❌ Ani textové hodnoty:\n",
    "range(\"a\", \"z\")  # ➝ TypeError\n",
    "\n",
    "# range() funguje pouze s celými čísly (int)."
   ]
  },
  {
   "cell_type": "markdown",
   "metadata": {},
   "source": [
    "<br/>"
   ]
  },
  {
   "cell_type": "markdown",
   "metadata": {},
   "source": [
    "---\n",
    "\n",
    "## `f` v `print`?\n",
    "\n",
    "V Pythonu můžeme před řetězec napsat písmeno `f`, čímž vytvoříme **formátovaný řetězec** (tzv. _f-string_).  \n",
    "Umožňuje jednoduše **vkládat proměnné a výrazy** přímo do textu.\n",
    "\n",
    "\n",
    "### Základní příklad"
   ]
  },
  {
   "cell_type": "code",
   "execution_count": null,
   "metadata": {},
   "outputs": [],
   "source": [
    "jmeno = \"Anna\"\n",
    "print(f\"Ahoj, {jmeno}!\")"
   ]
  },
  {
   "cell_type": "markdown",
   "metadata": {},
   "source": [
    "Výstup:"
   ]
  },
  {
   "cell_type": "markdown",
   "metadata": {},
   "source": [
    "```python-repl\n",
    "Ahoj, Anna!\n",
    "```"
   ]
  },
  {
   "cell_type": "markdown",
   "metadata": {},
   "source": [
    "Bez `f-stringu` bychom museli psát:"
   ]
  },
  {
   "cell_type": "code",
   "execution_count": null,
   "metadata": {},
   "outputs": [],
   "source": [
    "print(\"Ahoj, \" + jmeno + \"!\")"
   ]
  },
  {
   "cell_type": "markdown",
   "metadata": {},
   "source": [
    "\n",
    "\n",
    "### ✅ Výhody `f-stringu`\n",
    "\n",
    "- **Přehledný a kratší zápis**\n",
    "    \n",
    "- **Automaticky převádí čísla na text**\n",
    "    \n",
    "- **Umožňuje rovnou počítat a upravovat data**\n",
    "    "
   ]
  },
  {
   "cell_type": "code",
   "execution_count": null,
   "metadata": {},
   "outputs": [],
   "source": [
    "vek = 30\n",
    "print(f\"Je mi {vek} let.\")        # ➝ Je mi 30 let.\n",
    "\n",
    "print(f\"2 + 3 = {2 + 3}\")          # ➝ 2 + 3 = 5\n",
    "\n",
    "print(f\"{jmeno.upper()} má {len(jmeno)} písmena.\")  # ➝ ANNA má 4 písmena."
   ]
  },
  {
   "cell_type": "markdown",
   "metadata": {},
   "source": [
    "\n",
    "\n",
    "### ⚠️ Pozor\n",
    "\n",
    "- `f` musí být **před uvozovkami**\n",
    "    \n",
    "- Funguje jen v **Pythonu 3.6 a vyšším**\n",
    "    \n",
    "- Uvnitř `{}` může být libovolný výraz\n",
    "    \n",
    "\n",
    "\n",
    "### 🧠 Kdy se hodí `f-string`?\n",
    "\n",
    "- Pokud vypisujeme proměnné do vět\n",
    "    \n",
    "- Pokud potřebujeme přehledný výstup\n",
    "    \n",
    "- Pokud chceme kombinovat text a čísla\n",
    "    "
   ]
  },
  {
   "cell_type": "markdown",
   "metadata": {},
   "source": [
    "<br/>\n",
    "\n",
    "---\n",
    "\n",
    "### Co je `enumerate()`?\n",
    "\n",
    "Funkce `enumerate()` umožní procházet **iterovatelný objekt** (jako je seznam, řetězec, n-tice) a zároveň automaticky získávat **pořadové číslo (index)** každého prvku, společně s jeho **hodnotou**."
   ]
  },
  {
   "cell_type": "markdown",
   "metadata": {},
   "source": [
    "### Základní zápis"
   ]
  },
  {
   "cell_type": "code",
   "execution_count": null,
   "metadata": {},
   "outputs": [],
   "source": [
    "for i, hodnota in enumerate(iterovatelny_objekt, start=0):\n",
    "    ..."
   ]
  },
  {
   "cell_type": "markdown",
   "metadata": {},
   "source": [
    "### Jak `enumerate()` funguje?"
   ]
  },
  {
   "cell_type": "code",
   "execution_count": null,
   "metadata": {},
   "outputs": [],
   "source": [
    "jmena = [\"Anna\", \"Petr\", \"Lucie\"]\n",
    "\n",
    "for prvek in enumerate(jmena):\n",
    "    print(prvek)"
   ]
  },
  {
   "cell_type": "markdown",
   "metadata": {},
   "source": [
    "Výstup:\n",
    "```python-repl\n",
    "(0, 'Anna')\n",
    "(1, 'Petr')\n",
    "(2, 'Lucie')\n",
    "```"
   ]
  },
  {
   "cell_type": "markdown",
   "metadata": {},
   "source": [
    "Každý prvek je **`tuple` (dvojice)**:  \n",
    "`(index, hodnota)`\n"
   ]
  },
  {
   "cell_type": "markdown",
   "metadata": {},
   "source": [
    "### Rozbalení dvojice (tzv. tuple unpacking)\n",
    "\n",
    "Když použijeme `enumerate()`, Python nám při každé iteraci vrátí **dvojici**:"
   ]
  },
  {
   "cell_type": "markdown",
   "metadata": {},
   "source": [
    "```\n",
    "(index, hodnota)\n",
    "```"
   ]
  },
  {
   "cell_type": "markdown",
   "metadata": {},
   "source": [
    "Např. u seznamu `[\"Anna\", \"Petr\"]` to bude:"
   ]
  },
  {
   "cell_type": "markdown",
   "metadata": {},
   "source": [
    "```\n",
    "(0, \"Anna\")\n",
    "(1, \"Petr\")\n",
    "```"
   ]
  },
  {
   "cell_type": "markdown",
   "metadata": {},
   "source": [
    "Díky tzv. _rozbalení n-tice_ můžeme tuto dvojici rovnou rozdělit do dvou proměnných:"
   ]
  },
  {
   "cell_type": "code",
   "execution_count": null,
   "metadata": {},
   "outputs": [],
   "source": [
    "for index, jmeno in enumerate(jmena):\n",
    "    print(\"Index:\", index, \"Hodnota:\", jmeno)"
   ]
  },
  {
   "cell_type": "markdown",
   "metadata": {},
   "source": [
    "Python při každém kroku:\n",
    "\n",
    "- vezme dvojici `(0, \"Anna\")`\n",
    "    \n",
    "- `index = 0`, `jmeno = \"Anna\"`\n",
    "\n",
    "Bez `enumerate()` musíme index dopočítávat sami (např. pomocí `range(len(...))`), což je delší a méně přehledné."
   ]
  },
  {
   "cell_type": "code",
   "execution_count": null,
   "metadata": {},
   "outputs": [],
   "source": [
    "jmena = [\"Anna\", \"Petr\", \"Lucie\"]\n",
    "\n",
    "# Bez enumerate - musíme počítat sami:\n",
    "for i in range(len(jmena)):\n",
    "    print(f\"{i}. {jmena[i]}\")\n",
    "\n",
    "# S enumerate - Python počítá za nás:\n",
    "for index, jmeno in enumerate(jmena):\n",
    "    print(f\"{i}. {jmeno}\")\n",
    "\n",
    "# Oba způsoby dají stejný výsledek:\n",
    "# 0. Anna\n",
    "# 1. Petr  \n",
    "# 2. Lucie"
   ]
  },
  {
   "cell_type": "markdown",
   "metadata": {},
   "source": [
    "`enumerate()` nám tím pádem ušetří práci:\n",
    "\n",
    "- nemusíme ručně volat `len()`\n",
    "    \n",
    "- nemusíme přistupovat ke `jmena[i]`\n",
    "    \n",
    "- získáme rovnou jak index, tak hodnotu"
   ]
  },
  {
   "cell_type": "markdown",
   "metadata": {},
   "source": [
    "### Volitelný parametr `start=`"
   ]
  },
  {
   "cell_type": "code",
   "execution_count": null,
   "metadata": {},
   "outputs": [],
   "source": [
    "for i, jmeno in enumerate(jmena, start=1):\n",
    "    print(i, jmeno)"
   ]
  },
  {
   "cell_type": "markdown",
   "metadata": {},
   "source": [
    "Číslování začne od 1 místo od 0.\n",
    "\n",
    "Volitelný parametr `start=1` **nemění samotný seznam**, pouze říká, **od jakého čísla má začít číslování** v rámci `enumerate()`."
   ]
  },
  {
   "cell_type": "code",
   "execution_count": null,
   "metadata": {},
   "outputs": [],
   "source": [
    "jmena = [\"Anna\", \"Petr\", \"Lucie\"]\n",
    "\n",
    "for i, jmeno in enumerate(jmena, start=1):\n",
    "    print(i, jmeno)"
   ]
  },
  {
   "cell_type": "markdown",
   "metadata": {},
   "source": [
    "Výstup:\n",
    "\n",
    "```\n",
    "1 Anna\n",
    "2 Petr\n",
    "3 Lucie\n",
    "```\n"
   ]
  },
  {
   "cell_type": "markdown",
   "metadata": {},
   "source": [
    "### Co se opravdu děje:\n",
    "\n",
    "- Seznam `jmena` **zůstává beze změny**\n",
    "    \n",
    "- Python jen **vytváří indexy** od čísla 1 místo výchozího 0\n",
    "    \n",
    "### Reálné scénáře použití"
   ]
  },
  {
   "cell_type": "markdown",
   "metadata": {},
   "source": [
    "#### 1. **Očíslovaný výpis položek**"
   ]
  },
  {
   "cell_type": "code",
   "execution_count": null,
   "metadata": {},
   "outputs": [],
   "source": [
    "produkty = [\"Notebook\", \"Tablet\", \"Mobil\"]\n",
    "\n",
    "for i, produkt in enumerate(produkty, start=1):\n",
    "    print(\"Produkt č.\", i, \":\", produkt)"
   ]
  },
  {
   "cell_type": "markdown",
   "metadata": {},
   "source": [
    "#### 2. **Chceme vynechat první dvě položky**"
   ]
  },
  {
   "cell_type": "code",
   "execution_count": null,
   "metadata": {},
   "outputs": [],
   "source": [
    "jazyky = [\"Python\", \"Java\", \"JavaScript\", \"C\", \"Rust\"]\n",
    "\n",
    "for i, jazyk in enumerate(jazyky):\n",
    "    if i < 2:\n",
    "        continue\n",
    "    print(\"Zbytek:\", jazyk)"
   ]
  },
  {
   "cell_type": "markdown",
   "metadata": {},
   "source": [
    "#### 3. **Změna hodnoty podle pozice**"
   ]
  },
  {
   "cell_type": "code",
   "execution_count": null,
   "metadata": {},
   "outputs": [],
   "source": [
    "zvirata = [\"kočka\", \"pes\", \"papoušek\"]\n",
    "\n",
    "for i, zvire in enumerate(zvirata):\n",
    "    if i == 1:\n",
    "        zvirata[i] = \"tygr\"\n",
    "print(zvirata)\n",
    "# ➝ [\"kočka\", \"tygr\", \"papoušek\"]"
   ]
  },
  {
   "cell_type": "markdown",
   "metadata": {},
   "source": [
    "### Kdy `enumerate()` nepoužívat?\n",
    "\n",
    "Když **nepotřebujeme index**, postačí obyčejná smyčka:"
   ]
  },
  {
   "cell_type": "code",
   "execution_count": null,
   "metadata": {},
   "outputs": [],
   "source": [
    "for jazyk in jazyky:\n",
    "    print(jazyk)"
   ]
  },
  {
   "cell_type": "markdown",
   "metadata": {},
   "source": [
    "### Shrnutí\n",
    "\n",
    "- `enumerate()` = **index + hodnota** současně\n",
    "    \n",
    "- Funguje se **seznamy, řetězci, sety i tuple**\n",
    "    \n",
    "- Je **přehlednější než `range(len(...))`**\n",
    "    \n",
    "- Má volitelný parametr `start=`"
   ]
  },
  {
   "cell_type": "markdown",
   "metadata": {},
   "source": [
    "<br>\n",
    "\n",
    "\n",
    "## Zip\n",
    "\n",
    "---"
   ]
  },
  {
   "cell_type": "markdown",
   "metadata": {},
   "source": [
    "## Co `zip()` dělá?\n",
    "\n",
    "`zip()` **prochází více iterovatelných objektů současně** a vrací hodnoty ze stejných pozic jako **dvojice** (nebo trojice, čtveřice...).\n",
    "\n",
    "Funguje se **seznamy, řetězci, n-ticemi, range()** a dalšími objekty, které lze procházet.\n",
    "\n",
    "Představte si to jako **zip na bundě** - spojuje více \"stran\" dohromady!"
   ]
  },
  {
   "cell_type": "code",
   "execution_count": null,
   "metadata": {},
   "outputs": [],
   "source": [
    "# Příklad se seznamy:\n",
    "jmena = [\"Petr\", \"Marek\", \"Adam\"]\n",
    "prijmeni = [\"Novák\", \"Svoboda\", \"Dvořák\"]\n",
    "\n",
    "for dvojice in zip(jmena, prijmeni):\n",
    "    print(dvojice)\n",
    "\n",
    "# Výsledek:\n",
    "# ('Petr', 'Novák')\n",
    "# ('Marek', 'Svoboda')  \n",
    "# ('Adam', 'Dvořák')"
   ]
  },
  {
   "cell_type": "markdown",
   "metadata": {},
   "source": [
    "### Rozbalení dvojic\n",
    "\n",
    "Funkce `zip()` spojí hodnoty ze dvou seznamů podle pořadí – tedy `jmena[0]` s `prijmeni[0]`, `jmena[1]` s `prijmeni[1]` atd.  \n",
    "\n",
    "Každý tento pár (`(\"Petr\", \"Novák\")`) se v cyklu **rozbalí** do dvou proměnných: `jmeno` a `prijmeni`."
   ]
  },
  {
   "cell_type": "code",
   "execution_count": null,
   "metadata": {},
   "outputs": [],
   "source": [
    "# Místo jedné proměnné použijeme dvě:\n",
    "for jmeno, prijmeni in zip(jmena, prijmeni):\n",
    "    print(f\"{jmeno} {prijmeni}\")\n",
    "\n",
    "# Výsledek:\n",
    "# Petr Novák\n",
    "# Marek Svoboda\n",
    "# Adam Dvořák"
   ]
  },
  {
   "cell_type": "markdown",
   "metadata": {},
   "source": [
    "\n",
    "Funkce `zip()` spojí každé písmeno z řetězce `\"abc\"` s odpovídajícím slovem ze seznamu.  \n",
    "Vzniknou tak dvojice: `(\"a\", \"auto\")`, `(\"b\", \"bota\")`, `(\"c\", \"cukr\")`.\n",
    "\n",
    "V každém kroku cyklu Python vezme dvojici a **rozbalí ji do dvou proměnných**: `pismeno` a `slovo`."
   ]
  },
  {
   "cell_type": "code",
   "execution_count": null,
   "metadata": {},
   "outputs": [],
   "source": [
    "# Příklad s řetězcem a seznamem:\n",
    "for pismeno, slovo in zip(\"abc\", [\"auto\", \"bota\", \"cukr\"]):\n",
    "    print(f\"{pismeno} → {slovo}\")\n",
    "\n",
    "# Výsledek:\n",
    "# a → auto  \n",
    "# b → bota\n",
    "# c → cukr"
   ]
  },
  {
   "cell_type": "markdown",
   "metadata": {},
   "source": [
    "### Co když objekty nemají stejnou délku?\n",
    "\n",
    "`zip()` **zastaví u nejkratšího objektu**:"
   ]
  },
  {
   "cell_type": "code",
   "execution_count": null,
   "metadata": {},
   "outputs": [],
   "source": [
    "barvy = [\"červená\", \"modrá\"]\n",
    "cisla = [1, 2, 3, 4, 5]\n",
    "\n",
    "for barva, cislo in zip(barvy, cisla):\n",
    "    print(f\"{barva} - {cislo}\")\n",
    "\n",
    "# Výsledek:\n",
    "# červená - 1\n",
    "# modrá - 2\n",
    "# (čísla 3, 4, 5 se ignorují)"
   ]
  },
  {
   "cell_type": "markdown",
   "metadata": {},
   "source": [
    "### Převod na seznam"
   ]
  },
  {
   "cell_type": "code",
   "execution_count": null,
   "metadata": {},
   "outputs": [],
   "source": [
    "jmena = [\"Alice\", \"Bob\"]\n",
    "vek = [20, 25]\n",
    "\n",
    "# Uložení všech dvojic do seznamu:\n",
    "dvojice = list(zip(jmena, vek))\n",
    "print(dvojice)\n",
    "# ➝ [('Alice', 20), ('Bob', 25)]"
   ]
  },
  {
   "cell_type": "markdown",
   "metadata": {},
   "source": [
    "### Praktické příklady\n",
    "\n",
    "#### 1. **Propojení jmen a známek**"
   ]
  },
  {
   "cell_type": "code",
   "execution_count": null,
   "metadata": {},
   "outputs": [],
   "source": [
    "studenti = [\"Anna\", \"Tomáš\", \"Klára\"]\n",
    "znamky = [1, 2, 1]\n",
    "\n",
    "print(\"=== VÝSLEDKY TESTŮ ===\")\n",
    "for jmeno, znamka in zip(studenti, znamky):\n",
    "    print(f\"{jmeno}: {znamka}\")\n",
    "\n",
    "# Výsledek:\n",
    "# Anna: 1\n",
    "# Tomáš: 2\n",
    "# Klára: 1"
   ]
  },
  {
   "cell_type": "markdown",
   "metadata": {},
   "source": [
    "2. **Seznam nákupů s cenami**"
   ]
  },
  {
   "cell_type": "code",
   "execution_count": null,
   "metadata": {},
   "outputs": [],
   "source": [
    "nakup = [\"chléb\", \"mléko\", \"vejce\", \"sýr\"]\n",
    "ceny = [25, 18, 45, 120]\n",
    "\n",
    "celkem = 0\n",
    "print(\"=== NÁKUPNÍ SEZNAM ===\")\n",
    "for polozka, cena in zip(nakup, ceny):\n",
    "    print(f\"{polozka}: {cena} Kč\")\n",
    "    celkem += cena\n",
    "\n",
    "print(f\"Celkem: {celkem} Kč\")"
   ]
  },
  {
   "cell_type": "markdown",
   "metadata": {},
   "source": [
    "#### 3. **Tvorba slovníku**"
   ]
  },
  {
   "cell_type": "code",
   "execution_count": null,
   "metadata": {},
   "outputs": [],
   "source": [
    "zeme = [\"Česko\", \"Slovensko\", \"Polsko\"]\n",
    "hlavni_mesta = [\"Praha\", \"Bratislava\", \"Varšava\"]\n",
    "\n",
    "zeme_mesta = {}\n",
    "for zeme, mesto in zip(zeme, hlavni_mesta):\n",
    "    zeme_mesta[zeme] = mesto\n",
    "\n",
    "print(zeme_mesta)\n",
    "# ➝ {'Česko': 'Praha', 'Slovensko': 'Bratislava', 'Polsko': 'Varšava'}"
   ]
  },
  {
   "cell_type": "markdown",
   "metadata": {},
   "source": [
    "#### 4. **Zip s různými typy objektů**"
   ]
  },
  {
   "cell_type": "code",
   "execution_count": null,
   "metadata": {},
   "outputs": [],
   "source": [
    "# S n-ticemi (tuple):\n",
    "meny = (\"EUR\", \"USD\", \"CZK\")\n",
    "kurzy = (25.6, 23.1, 1.0)\n",
    "\n",
    "for mena, kurz in zip(meny, kurzy):\n",
    "    print(f\"{mena}: {kurz}\")\n",
    "\n",
    "# S range():\n",
    "for pismeno, cislo in zip(\"abcde\", range(1, 6)):\n",
    "    print(f\"{pismeno} = {cislo}\")\n",
    "\n",
    "# Výsledek:\n",
    "# a = 1\n",
    "# b = 2  \n",
    "# c = 3\n",
    "# d = 4\n",
    "# e = 5"
   ]
  },
  {
   "cell_type": "markdown",
   "metadata": {},
   "source": [
    "#### 5. **Více než dva objekty**"
   ]
  },
  {
   "cell_type": "code",
   "execution_count": null,
   "metadata": {},
   "outputs": [],
   "source": [
    "jmena = [\"Eva\", \"Jan\", \"Tom\"]\n",
    "vek = [25, 30, 28]\n",
    "mesta = [\"Brno\", \"Praha\", \"Plzeň\"]\n",
    "\n",
    "for jmeno, roky, mesto in zip(jmena, vek, mesta):\n",
    "    print(f\"{jmeno} ({roky} let) bydlí v {mesto}\")\n",
    "\n",
    "# Výsledek:\n",
    "# Eva (25 let) bydlí v Brno\n",
    "# Jan (30 let) bydlí v Praha\n",
    "# Tom (28 let) bydlí v Plzeň"
   ]
  },
  {
   "cell_type": "markdown",
   "metadata": {},
   "source": [
    "## Shrnutí\n",
    "\n",
    "| Co umí `zip()`                 | Proč je dobré ho použít                    |\n",
    "| ------------------------------ | ------------------------------------------ |\n",
    "| Propojí více kolekcí do dvojic | Zjednoduší práci se souvisejícími daty     |\n",
    "| Iteruje podle pozice (indexu)  | Nemusíš ručně pracovat s `range()`         |\n",
    "| Přestane u nejkratšího seznamu | Chrání tě před chybami                     |\n",
    "| Vrací tuple (n-tici)           | Snadno rozbalíš pomocí `for a, b in zip()` |"
   ]
  },
  {
   "cell_type": "markdown",
   "metadata": {},
   "source": [
    "➡️ ➡️ **Formulář pro Tvoje hodnocení** [**čtvrté lekce**](https://forms.gle/icQkKRxYHGYjKTqX9) ⬅️ ⬅️"
   ]
  },
  {
   "cell_type": "markdown",
   "metadata": {},
   "source": [
    "<br>\n",
    "\n",
    "\n",
    "\n",
    "\n",
    "\n",
    "## Domácí úkol\n",
    "\n",
    "---"
   ]
  },
  {
   "cell_type": "markdown",
   "metadata": {},
   "source": [
    "<br>\n",
    "\n",
    "### 🧠 CVIČENÍ 🧠, Vyzkoušej si práci s `for` smyčkou:\n",
    "\n",
    "Z výše zadaných jmen vytvoř slovník, kde budou klíče celá jména a hodnoty budou nestované slovníky, obsahující klíče křestní jméno, příjmení a email. Viz. ukázka:"
   ]
  },
  {
   "cell_type": "code",
   "execution_count": null,
   "metadata": {},
   "outputs": [],
   "source": [
    "zamestnanci_raw = \"\"\"\n",
    "Helena Vybíralová\n",
    "Wendy Štrumlová\n",
    "Marie Vybíralová\n",
    "Stanislav Bechyňka\n",
    "Zdeňka Urbánková\n",
    "Lukáš Riečan\n",
    "Veronika Koudelová\n",
    "Františka Vorlová\n",
    "Ilie Seleš\n",
    "Martin Železný\n",
    "Petra Niklesová\n",
    "Bohumil Skok\n",
    "Jakub Šmíd\n",
    "Jarmila Procházková\n",
    "Dagmar Hlavatá\n",
    "Jiří Nguyen Thanh\n",
    "Marie Franková\n",
    "Dana Ulrichová\n",
    "Jana Hranická\n",
    "Hana Budošová\n",
    "Ivan Široký\n",
    "Květoslava Jiráčková\n",
    "Pavel Przywara\n",
    "Josef Umlauf\n",
    "Tomáš Granzer\n",
    "Miroslav Kuba\n",
    "Miloslava Adámková\n",
    "Marie Karlíková\n",
    "Jaroslav Hronský\n",
    "Vlasta Karlíková\n",
    "Andrea Žatková\n",
    "Zuzana Lokočová\n",
    "Ondřej Ptáček\n",
    "Zdeněk Najman\n",
    "Tereza Šebešová\n",
    "Antonie Skokánková\n",
    "Jan Lion\n",
    "Václav Vecko\n",
    "František Vajgl\n",
    "Adéla Kavková\n",
    "Amália Vacková\n",
    "Anna Pažická\n",
    "Ivo Pustějovský\n",
    "Antonín Pavela\n",
    "Jitka Adamová\n",
    "Libuše Hamroziová\n",
    "Drahomíra Balzerová\n",
    "Marek Suchánek\n",
    "Petr Vavrinec\n",
    "Jonáš Stuchlý\n",
    "Jaromír Pecen\n",
    "Markéta Kyliánková\n",
    "Marina Pečenková\n",
    "Ivana Perdochová\n",
    "Michaela Drápalová\n",
    "Michael Mentlík\n",
    "Rudolf Špičák\n",
    "Žaneta Holá\n",
    "Blanka Lišková\n",
    "Eva Svatoňová\n",
    "Rostislav Hoang\n",
    "Martina Kalivodová\n",
    "Milan Hruška\n",
    "Zdenka Marková\n",
    "Lenka Schambergerová\n",
    "Růžena Martinů\n",
    "Věra Řezanková\n",
    "Marie Pečenková\n",
    "Miloš Váchal\n",
    "Jaroslava Hrubá\n",
    "Petr Pecen\n",
    "Pavla Konvicová\n",
    "Lucie Marešová\n",
    "Květuše Zdráhalová\n",
    "Vlastimila Svatošová\n",
    "Zora Michalčíková\n",
    "Daniel Švejnoha\n",
    "Klára Brunclíková\n",
    "Vladimír Bauer\n",
    "Michal Slaný\n",
    "Jiřina Novosadová\n",
    "Karel Sršeň\n",
    "Stanislava Lakosilová\n",
    "Filip Černý\n",
    "Alena Kubiková\n",
    "Sára Kotrlová\n",
    "Alois Rejlek\n",
    "Božena Novotná\n",
    "Maryana Nováková\n",
    "Kateřina Máslová\n",
    "Ladislav Dvořák\n",
    "Radek Varga\n",
    "Petr Dvořák\n",
    "Ludmila Jaklová\n",
    "Renáta Foubíková\n",
    "Nikola Lehká\n",
    "Dominika Riegerová\n",
    "Patrik Polák\n",
    "Soňa Štrbová\n",
    "David Matoušek\n",
    "Liubov Hollíková\n",
    "Monika Poláková\n",
    "Marie Jaklová\n",
    "Aleš Svoboda\n",
    "Roman Kolínský\n",
    "Karolína Košiková\n",
    "\"\"\""
   ]
  },
  {
   "cell_type": "markdown",
   "metadata": {},
   "source": [
    "```\n",
    "{'Adéla Kavková': {'email': 'a.kavková@firma.cz',\n",
    "                   'krestni_jmeno': 'Adéla',\n",
    "                   'prijmeni': 'Kavková'},\n",
    " 'Alena Kubiková': {'email': 'a.kubiková@firma.cz',\n",
    "                    'krestni_jmeno': 'Alena',\n",
    "                    'prijmeni': 'Kubiková'},\n",
    " 'Aleš Svoboda': {'email': 'a.svoboda@firma.cz',\n",
    "                  'krestni_jmeno': 'Aleš',\n",
    "                  'prijmeni': 'Svoboda'},\n",
    " ...\n",
    "}\n",
    "```"
   ]
  },
  {
   "cell_type": "code",
   "execution_count": null,
   "metadata": {},
   "outputs": [],
   "source": []
  },
  {
   "cell_type": "markdown",
   "metadata": {},
   "source": [
    "<details>\n",
    "  <summary>▶️  Klikni zde pro zobrazení řešení</summary>\n",
    "   \n",
    "```python\n",
    "zamestnanci = dict()\n",
    "\n",
    "for cele_jmeno in zamestnanci_raw.splitlines():\n",
    "    if cele_jmeno:\n",
    "        zamestnanci[cele_jmeno] = {\n",
    "            \"krestni_jmeno\": (kr_jmeno := cele_jmeno.split()[0]),\n",
    "            \"prijmeni\": (prijmeni := cele_jmeno.split()[1]),\n",
    "            \"email\": kr_jmeno.lower()[0] + \".\" + prijmeni.lower() + \"@firma.cz\",\n",
    "#             \"email\": f\"{kr_jmeno.lower()[0]}.{prijmeni.lower()}@firma.cz\"\n",
    "        }\n",
    "```\n",
    "</details>"
   ]
  },
  {
   "cell_type": "markdown",
   "metadata": {},
   "source": [
    "---"
   ]
  }
 ],
 "metadata": {
  "kernelspec": {
   "display_name": ".venv",
   "language": "python",
   "name": "python3"
  },
  "language_info": {
   "codemirror_mode": {
    "name": "ipython",
    "version": 3
   },
   "file_extension": ".py",
   "mimetype": "text/x-python",
   "name": "python",
   "nbconvert_exporter": "python",
   "pygments_lexer": "ipython3",
   "version": "3.13.1"
  }
 },
 "nbformat": 4,
 "nbformat_minor": 4
}
